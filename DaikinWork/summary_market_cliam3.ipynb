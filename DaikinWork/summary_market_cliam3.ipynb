{
 "cells": [
  {
   "cell_type": "code",
   "execution_count": 62,
   "id": "901d84d1-41b5-4b73-8ae4-4ee0f583ef7f",
   "metadata": {},
   "outputs": [],
   "source": [
    "import pandas as pd\n",
    "import numpy as np\n",
    "import re\n",
    "import matplotlib.pyplot as plt\n",
    "%config InlineBackend.figure_format = 'retina'"
   ]
  },
  {
   "cell_type": "code",
   "execution_count": 63,
   "id": "ce21c5c5-3d7d-4935-b060-c68e3322809e",
   "metadata": {},
   "outputs": [],
   "source": [
    "aoq1 = pd.read_csv(r'D:\\Seksatta\\MKG\\summary lizard R&D\\AOQ-VIS 010120-311223\\aoq1.csv')\n",
    "aoq2 = pd.read_csv(r'D:\\Seksatta\\MKG\\summary lizard R&D\\AOQ-VIS 010120-311223\\aoq2.csv')\n",
    "aoq3 = pd.read_csv(r'D:\\Seksatta\\MKG\\summary lizard R&D\\AOQ-VIS 010120-311223\\aoq3.csv')"
   ]
  },
  {
   "cell_type": "code",
   "execution_count": 64,
   "id": "6415b142-498c-4706-aabb-6f7f3ddf2f05",
   "metadata": {},
   "outputs": [],
   "source": [
    "df = pd.concat([aoq1, aoq2, aoq3], keys=[1,2,3])"
   ]
  },
  {
   "cell_type": "code",
   "execution_count": null,
   "id": "18c2fc72-c8a8-4fc7-abcf-0c25a1e88c27",
   "metadata": {},
   "outputs": [],
   "source": []
  },
  {
   "cell_type": "code",
   "execution_count": 65,
   "id": "b49d8bfd-5b29-4af0-b407-7a662e3f896b",
   "metadata": {},
   "outputs": [],
   "source": [
    "df.reset_index(inplace=True)"
   ]
  },
  {
   "cell_type": "code",
   "execution_count": 66,
   "id": "07b2a94b-a67d-4c7e-b854-ed234c9c9126",
   "metadata": {},
   "outputs": [],
   "source": [
    "df.drop(columns = ['level_0', 'level_1'], inplace =True)\n"
   ]
  },
  {
   "cell_type": "code",
   "execution_count": 67,
   "id": "049eefa8-ee09-4337-8bac-339b164d298d",
   "metadata": {},
   "outputs": [
    {
     "data": {
      "text/plain": [
       "Index(['SITE', 'FAC_MODEL', 'FAC_SERIAL', 'SYMPTOM_DESC',\n",
       "       'FAILURE_PART_DESC_FINAL', 'FY_OF_CLAIM'],\n",
       "      dtype='object')"
      ]
     },
     "execution_count": 67,
     "metadata": {},
     "output_type": "execute_result"
    }
   ],
   "source": [
    "df.columns"
   ]
  },
  {
   "cell_type": "code",
   "execution_count": 68,
   "id": "5da7e7ab-0e8e-4f39-b82b-1992d11abc13",
   "metadata": {},
   "outputs": [],
   "source": [
    "df.drop_duplicates(subset = ['FAC_MODEL', 'FAC_SERIAL'], inplace=True)"
   ]
  },
  {
   "cell_type": "code",
   "execution_count": 69,
   "id": "a38f38b6-37d7-489d-971f-c4fc8042cd75",
   "metadata": {},
   "outputs": [],
   "source": [
    "\n",
    "df['SYMPTOM_DESC']=df['SYMPTOM_DESC'].str.replace(r'\\b[dD]oest', 'Does', regex= True)\n",
    "df['SYMPTOM_DESC']=df['SYMPTOM_DESC'].str.replace(r' /', '/', regex= True)\n",
    "df['SYMPTOM_DESC']=df['SYMPTOM_DESC'].str.replace(r' /', '/', regex= True).str.rstrip('.')\n",
    "df['SYMPTOM_DESC']=df['SYMPTOM_DESC'].str.replace(r'A/C', '', regex= True)\n",
    "df['SYMPTOM_DESC']=df['SYMPTOM_DESC'].str.strip()\n",
    "df['FAC_MODEL']=df['FAC_MODEL'].str.strip()\n",
    "df['SYMPTOM_DESC']=df['SYMPTOM_DESC'].str.upper()\n",
    "df['SYMPTOM_DESC']=df['SYMPTOM_DESC'].str.replace(r'10 :  DOES NOT OPERATE', '10 : DOES NOT OPERATE', regex= False)"
   ]
  },
  {
   "cell_type": "code",
   "execution_count": 70,
   "id": "75191dda-28bb-40c1-b3f4-b4d064ac5ea0",
   "metadata": {},
   "outputs": [],
   "source": [
    "df = df[df['FAILURE_PART_DESC_FINAL'].str.contains(r'\\bPCB\\b', case=False, regex=True)]"
   ]
  },
  {
   "cell_type": "markdown",
   "id": "531c0d6d-54d1-482c-a6fc-45403a963606",
   "metadata": {},
   "source": [
    "# Mapping with model and model group"
   ]
  },
  {
   "cell_type": "code",
   "execution_count": 71,
   "id": "940394bb-14dd-4437-9282-fff3170a5e2d",
   "metadata": {},
   "outputs": [],
   "source": [
    "model = pd.read_csv(r'D:\\Seksatta\\EQG\\dit_info\\model2.csv')"
   ]
  },
  {
   "cell_type": "code",
   "execution_count": 72,
   "id": "349cdb09-3a5b-4e60-8e25-b18c8f45a9f8",
   "metadata": {},
   "outputs": [],
   "source": [
    "df = pd.merge(df, model[['base_model','model_name','group','i_o']], left_on = 'FAC_MODEL', right_on = 'model_name', how='left')\n",
    "df.drop(columns=['model_name'], inplace=True, axis= 1)"
   ]
  },
  {
   "cell_type": "code",
   "execution_count": 73,
   "id": "b431d976-86e4-4480-a12b-49e39dbffc7b",
   "metadata": {},
   "outputs": [],
   "source": [
    "df = df.dropna(subset=['group'])"
   ]
  },
  {
   "cell_type": "code",
   "execution_count": 74,
   "id": "ba15e6c0-745c-48aa-bb2e-296ebe3df21d",
   "metadata": {},
   "outputs": [
    {
     "data": {
      "text/html": [
       "<div>\n",
       "<style scoped>\n",
       "    .dataframe tbody tr th:only-of-type {\n",
       "        vertical-align: middle;\n",
       "    }\n",
       "\n",
       "    .dataframe tbody tr th {\n",
       "        vertical-align: top;\n",
       "    }\n",
       "\n",
       "    .dataframe thead th {\n",
       "        text-align: right;\n",
       "    }\n",
       "</style>\n",
       "<table border=\"1\" class=\"dataframe\">\n",
       "  <thead>\n",
       "    <tr style=\"text-align: right;\">\n",
       "      <th></th>\n",
       "      <th>SITE</th>\n",
       "      <th>FAC_MODEL</th>\n",
       "      <th>FAC_SERIAL</th>\n",
       "      <th>SYMPTOM_DESC</th>\n",
       "      <th>FAILURE_PART_DESC_FINAL</th>\n",
       "      <th>FY_OF_CLAIM</th>\n",
       "      <th>base_model</th>\n",
       "      <th>group</th>\n",
       "      <th>i_o</th>\n",
       "    </tr>\n",
       "  </thead>\n",
       "  <tbody>\n",
       "    <tr>\n",
       "      <th>0</th>\n",
       "      <td>DID</td>\n",
       "      <td>RZF100CYM4</td>\n",
       "      <td>E000655</td>\n",
       "      <td>00 : DOES NOT COOL/HEAT</td>\n",
       "      <td>738 : Inverter PCB [Electronic components]</td>\n",
       "      <td>2021</td>\n",
       "      <td>BML-C</td>\n",
       "      <td>SKY</td>\n",
       "      <td>outdoor</td>\n",
       "    </tr>\n",
       "    <tr>\n",
       "      <th>1</th>\n",
       "      <td>DID</td>\n",
       "      <td>RZF100CYM4</td>\n",
       "      <td>E000665</td>\n",
       "      <td>00 : DOES NOT COOL/HEAT</td>\n",
       "      <td>738 : Inverter PCB [Electronic components]</td>\n",
       "      <td>2021</td>\n",
       "      <td>BML-C</td>\n",
       "      <td>SKY</td>\n",
       "      <td>outdoor</td>\n",
       "    </tr>\n",
       "    <tr>\n",
       "      <th>2</th>\n",
       "      <td>DID</td>\n",
       "      <td>RZF100CVM4</td>\n",
       "      <td>E000563</td>\n",
       "      <td>10 : DOES NOT OPERATE</td>\n",
       "      <td>722 : Control PCB [Electronic components]</td>\n",
       "      <td>2021</td>\n",
       "      <td>BML-C</td>\n",
       "      <td>SKY</td>\n",
       "      <td>outdoor</td>\n",
       "    </tr>\n",
       "    <tr>\n",
       "      <th>3</th>\n",
       "      <td>DID</td>\n",
       "      <td>RZF100CYM4</td>\n",
       "      <td>E000714</td>\n",
       "      <td>N/A : N/A</td>\n",
       "      <td>722 : Control PCB [Electronic components]</td>\n",
       "      <td>2021</td>\n",
       "      <td>BML-C</td>\n",
       "      <td>SKY</td>\n",
       "      <td>outdoor</td>\n",
       "    </tr>\n",
       "    <tr>\n",
       "      <th>4</th>\n",
       "      <td>DID</td>\n",
       "      <td>RZF100CVM4</td>\n",
       "      <td>E000164</td>\n",
       "      <td>00 : DOES NOT COOL/HEAT</td>\n",
       "      <td>722 : Control PCB [Electronic components]</td>\n",
       "      <td>2021</td>\n",
       "      <td>BML-C</td>\n",
       "      <td>SKY</td>\n",
       "      <td>outdoor</td>\n",
       "    </tr>\n",
       "    <tr>\n",
       "      <th>...</th>\n",
       "      <td>...</td>\n",
       "      <td>...</td>\n",
       "      <td>...</td>\n",
       "      <td>...</td>\n",
       "      <td>...</td>\n",
       "      <td>...</td>\n",
       "      <td>...</td>\n",
       "      <td>...</td>\n",
       "      <td>...</td>\n",
       "    </tr>\n",
       "    <tr>\n",
       "      <th>67984</th>\n",
       "      <td>SDS</td>\n",
       "      <td>RZF36CV2S</td>\n",
       "      <td>E011989</td>\n",
       "      <td>11 : ABNORMAL OPERATE</td>\n",
       "      <td>738 : Inverter PCB [Electronic components]</td>\n",
       "      <td>2021</td>\n",
       "      <td>BML-C</td>\n",
       "      <td>SKY</td>\n",
       "      <td>outdoor</td>\n",
       "    </tr>\n",
       "    <tr>\n",
       "      <th>67985</th>\n",
       "      <td>SDS</td>\n",
       "      <td>RKD18GV2S</td>\n",
       "      <td>E018224</td>\n",
       "      <td>00 : DOES NOT COOL/HEAT</td>\n",
       "      <td>738 : Inverter PCB [Electronic components]</td>\n",
       "      <td>2021</td>\n",
       "      <td>GBS</td>\n",
       "      <td>RA</td>\n",
       "      <td>outdoor</td>\n",
       "    </tr>\n",
       "    <tr>\n",
       "      <th>67986</th>\n",
       "      <td>DID</td>\n",
       "      <td>RKQ20SVM4</td>\n",
       "      <td>E007885</td>\n",
       "      <td>99 : OTHER</td>\n",
       "      <td>722 : Control PCB [Electronic components]</td>\n",
       "      <td>2021</td>\n",
       "      <td>SMS</td>\n",
       "      <td>RA</td>\n",
       "      <td>outdoor</td>\n",
       "    </tr>\n",
       "    <tr>\n",
       "      <th>67987</th>\n",
       "      <td>SDS</td>\n",
       "      <td>RKQ12SV2S</td>\n",
       "      <td>E022750</td>\n",
       "      <td>11 : ABNORMAL OPERATE</td>\n",
       "      <td>738 : Inverter PCB [Electronic components]</td>\n",
       "      <td>2021</td>\n",
       "      <td>GSI</td>\n",
       "      <td>RA</td>\n",
       "      <td>outdoor</td>\n",
       "    </tr>\n",
       "    <tr>\n",
       "      <th>67988</th>\n",
       "      <td>DID</td>\n",
       "      <td>RKQ20SVM4</td>\n",
       "      <td>E012541</td>\n",
       "      <td>10 : DOES NOT OPERATE</td>\n",
       "      <td>722 : Control PCB [Electronic components]</td>\n",
       "      <td>2021</td>\n",
       "      <td>SMS</td>\n",
       "      <td>RA</td>\n",
       "      <td>outdoor</td>\n",
       "    </tr>\n",
       "  </tbody>\n",
       "</table>\n",
       "<p>67974 rows × 9 columns</p>\n",
       "</div>"
      ],
      "text/plain": [
       "      SITE   FAC_MODEL FAC_SERIAL             SYMPTOM_DESC  \\\n",
       "0      DID  RZF100CYM4    E000655  00 : DOES NOT COOL/HEAT   \n",
       "1      DID  RZF100CYM4    E000665  00 : DOES NOT COOL/HEAT   \n",
       "2      DID  RZF100CVM4    E000563    10 : DOES NOT OPERATE   \n",
       "3      DID  RZF100CYM4    E000714                N/A : N/A   \n",
       "4      DID  RZF100CVM4    E000164  00 : DOES NOT COOL/HEAT   \n",
       "...    ...         ...        ...                      ...   \n",
       "67984  SDS   RZF36CV2S    E011989    11 : ABNORMAL OPERATE   \n",
       "67985  SDS   RKD18GV2S    E018224  00 : DOES NOT COOL/HEAT   \n",
       "67986  DID   RKQ20SVM4    E007885               99 : OTHER   \n",
       "67987  SDS   RKQ12SV2S    E022750    11 : ABNORMAL OPERATE   \n",
       "67988  DID   RKQ20SVM4    E012541    10 : DOES NOT OPERATE   \n",
       "\n",
       "                          FAILURE_PART_DESC_FINAL  FY_OF_CLAIM base_model  \\\n",
       "0      738 : Inverter PCB [Electronic components]         2021      BML-C   \n",
       "1      738 : Inverter PCB [Electronic components]         2021      BML-C   \n",
       "2       722 : Control PCB [Electronic components]         2021      BML-C   \n",
       "3       722 : Control PCB [Electronic components]         2021      BML-C   \n",
       "4       722 : Control PCB [Electronic components]         2021      BML-C   \n",
       "...                                           ...          ...        ...   \n",
       "67984  738 : Inverter PCB [Electronic components]         2021      BML-C   \n",
       "67985  738 : Inverter PCB [Electronic components]         2021        GBS   \n",
       "67986   722 : Control PCB [Electronic components]         2021        SMS   \n",
       "67987  738 : Inverter PCB [Electronic components]         2021        GSI   \n",
       "67988   722 : Control PCB [Electronic components]         2021        SMS   \n",
       "\n",
       "      group      i_o  \n",
       "0       SKY  outdoor  \n",
       "1       SKY  outdoor  \n",
       "2       SKY  outdoor  \n",
       "3       SKY  outdoor  \n",
       "4       SKY  outdoor  \n",
       "...     ...      ...  \n",
       "67984   SKY  outdoor  \n",
       "67985    RA  outdoor  \n",
       "67986    RA  outdoor  \n",
       "67987    RA  outdoor  \n",
       "67988    RA  outdoor  \n",
       "\n",
       "[67974 rows x 9 columns]"
      ]
     },
     "execution_count": 74,
     "metadata": {},
     "output_type": "execute_result"
    }
   ],
   "source": [
    "df"
   ]
  },
  {
   "cell_type": "code",
   "execution_count": 84,
   "id": "ab889171-8d19-449a-8a34-9eacda31ed26",
   "metadata": {},
   "outputs": [
    {
     "data": {
      "text/plain": [
       "Index(['SITE', 'FAC_MODEL', 'FAC_SERIAL', 'SYMPTOM_DESC',\n",
       "       'FAILURE_PART_DESC_FINAL', 'FY_OF_CLAIM', 'base_model', 'group', 'i_o'],\n",
       "      dtype='object')"
      ]
     },
     "execution_count": 84,
     "metadata": {},
     "output_type": "execute_result"
    }
   ],
   "source": [
    "df.columns"
   ]
  },
  {
   "cell_type": "code",
   "execution_count": 91,
   "id": "63492daa-c00a-419d-b8d9-767153dc2ed8",
   "metadata": {},
   "outputs": [],
   "source": [
    "df1 = df.groupby(['FY_OF_CLAIM', 'group', 'i_o', 'SYMPTOM_DESC', 'FAILURE_PART_DESC_FINAL'])['SITE'].size().reset_index()"
   ]
  },
  {
   "cell_type": "code",
   "execution_count": 93,
   "id": "18a33e9c-d32e-4356-8097-a6d184bc38bc",
   "metadata": {},
   "outputs": [],
   "source": [
    "df1.to_excel(r'pcb_service.xlsx')"
   ]
  },
  {
   "cell_type": "code",
   "execution_count": null,
   "id": "c58f4795-2553-44e6-a15e-efc4466fa016",
   "metadata": {},
   "outputs": [],
   "source": []
  }
 ],
 "metadata": {
  "kernelspec": {
   "display_name": "Python 3 (ipykernel)",
   "language": "python",
   "name": "python3"
  },
  "language_info": {
   "codemirror_mode": {
    "name": "ipython",
    "version": 3
   },
   "file_extension": ".py",
   "mimetype": "text/x-python",
   "name": "python",
   "nbconvert_exporter": "python",
   "pygments_lexer": "ipython3",
   "version": "3.12.0"
  }
 },
 "nbformat": 4,
 "nbformat_minor": 5
}
