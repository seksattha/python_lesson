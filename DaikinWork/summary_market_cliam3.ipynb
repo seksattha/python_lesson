{
 "cells": [
  {
   "cell_type": "code",
   "execution_count": 115,
   "id": "901d84d1-41b5-4b73-8ae4-4ee0f583ef7f",
   "metadata": {},
   "outputs": [],
   "source": [
    "import pandas as pd\n",
    "import numpy as np\n",
    "import re\n",
    "import matplotlib.pyplot as plt\n",
    "%config InlineBackend.figure_format = 'retina'"
   ]
  },
  {
   "cell_type": "code",
   "execution_count": 116,
   "id": "ce21c5c5-3d7d-4935-b060-c68e3322809e",
   "metadata": {},
   "outputs": [],
   "source": [
    "aoq1 = pd.read_csv(r'D:\\Seksatta\\MKG\\summary lizard R&D\\AOQ-VIS 010120-311223\\aoq1_2.csv')\n",
    "aoq2 = pd.read_csv(r'D:\\Seksatta\\MKG\\summary lizard R&D\\AOQ-VIS 010120-311223\\aoq2.csv')\n",
    "aoq3 = pd.read_csv(r'D:\\Seksatta\\MKG\\summary lizard R&D\\AOQ-VIS 010120-311223\\aoq3.csv')"
   ]
  },
  {
   "cell_type": "code",
   "execution_count": 117,
   "id": "6415b142-498c-4706-aabb-6f7f3ddf2f05",
   "metadata": {},
   "outputs": [],
   "source": [
    "df = pd.concat([aoq1, aoq2, aoq3], keys=[1,2,3])"
   ]
  },
  {
   "cell_type": "code",
   "execution_count": null,
   "id": "18c2fc72-c8a8-4fc7-abcf-0c25a1e88c27",
   "metadata": {},
   "outputs": [],
   "source": []
  },
  {
   "cell_type": "code",
   "execution_count": 118,
   "id": "b49d8bfd-5b29-4af0-b407-7a662e3f896b",
   "metadata": {},
   "outputs": [],
   "source": [
    "df.reset_index(inplace=True)"
   ]
  },
  {
   "cell_type": "code",
   "execution_count": 119,
   "id": "07b2a94b-a67d-4c7e-b854-ed234c9c9126",
   "metadata": {},
   "outputs": [],
   "source": [
    "df.drop(columns = ['level_0', 'level_1'], inplace =True)\n"
   ]
  },
  {
   "cell_type": "code",
   "execution_count": 120,
   "id": "049eefa8-ee09-4337-8bac-339b164d298d",
   "metadata": {},
   "outputs": [
    {
     "data": {
      "text/plain": [
       "Index(['SITE', 'FAC_MODEL', 'FAC_SERIAL', 'SYMPTOM_DESC',\n",
       "       'FAILURE_PART_DESC_FINAL', 'FY_OF_CLAIM'],\n",
       "      dtype='object')"
      ]
     },
     "execution_count": 120,
     "metadata": {},
     "output_type": "execute_result"
    }
   ],
   "source": [
    "df.columns"
   ]
  },
  {
   "cell_type": "code",
   "execution_count": 121,
   "id": "5da7e7ab-0e8e-4f39-b82b-1992d11abc13",
   "metadata": {},
   "outputs": [],
   "source": [
    "df.drop_duplicates(subset = ['FAC_MODEL', 'FAC_SERIAL'], inplace=True)"
   ]
  },
  {
   "cell_type": "code",
   "execution_count": 122,
   "id": "a38f38b6-37d7-489d-971f-c4fc8042cd75",
   "metadata": {},
   "outputs": [],
   "source": [
    "\n",
    "df['SYMPTOM_DESC']=df['SYMPTOM_DESC'].str.replace(r'\\b[dD]oest', 'Does', regex= True)\n",
    "df['SYMPTOM_DESC']=df['SYMPTOM_DESC'].str.replace(r' /', '/', regex= True)\n",
    "df['SYMPTOM_DESC']=df['SYMPTOM_DESC'].str.replace(r' /', '/', regex= True).str.rstrip('.')\n",
    "df['SYMPTOM_DESC']=df['SYMPTOM_DESC'].str.replace(r'A/C', '', regex= True)\n",
    "df['SYMPTOM_DESC']=df['SYMPTOM_DESC'].str.strip()\n",
    "df['FAC_MODEL']=df['FAC_MODEL'].str.strip()\n",
    "df['SYMPTOM_DESC']=df['SYMPTOM_DESC'].str.upper()\n",
    "df['SYMPTOM_DESC']=df['SYMPTOM_DESC'].str.replace(r'10 :  DOES NOT OPERATE', '10 : DOES NOT OPERATE', regex= False)"
   ]
  },
  {
   "cell_type": "code",
   "execution_count": 123,
   "id": "75191dda-28bb-40c1-b3f4-b4d064ac5ea0",
   "metadata": {},
   "outputs": [],
   "source": [
    "df = df[df['FAILURE_PART_DESC_FINAL'].str.contains(r'\\bPCB\\b', case=False, regex=True)]"
   ]
  },
  {
   "cell_type": "markdown",
   "id": "531c0d6d-54d1-482c-a6fc-45403a963606",
   "metadata": {},
   "source": [
    "# Mapping with model and model group"
   ]
  },
  {
   "cell_type": "code",
   "execution_count": 124,
   "id": "940394bb-14dd-4437-9282-fff3170a5e2d",
   "metadata": {},
   "outputs": [],
   "source": [
    "model = pd.read_csv(r'D:\\Seksatta\\EQG\\dit_info\\model2.csv')"
   ]
  },
  {
   "cell_type": "code",
   "execution_count": 125,
   "id": "349cdb09-3a5b-4e60-8e25-b18c8f45a9f8",
   "metadata": {},
   "outputs": [],
   "source": [
    "df = pd.merge(df, model[['base_model','model_name','group','i_o']], left_on = 'FAC_MODEL', right_on = 'model_name', how='left')\n",
    "df.drop(columns=['model_name'], inplace=True, axis= 1)"
   ]
  },
  {
   "cell_type": "code",
   "execution_count": 126,
   "id": "b431d976-86e4-4480-a12b-49e39dbffc7b",
   "metadata": {},
   "outputs": [],
   "source": [
    "df = df.dropna(subset=['group'])"
   ]
  },
  {
   "cell_type": "code",
   "execution_count": 127,
   "id": "63492daa-c00a-419d-b8d9-767153dc2ed8",
   "metadata": {},
   "outputs": [],
   "source": [
    "df1 = df.groupby(['FY_OF_CLAIM', 'group', 'i_o', 'SYMPTOM_DESC', 'FAILURE_PART_DESC_FINAL'])['SITE'].size().reset_index()\n"
   ]
  },
  {
   "cell_type": "code",
   "execution_count": 128,
   "id": "d0dff668-ec5a-4ecb-94ad-e80560cbfd30",
   "metadata": {},
   "outputs": [],
   "source": [
    "df1.rename(columns = {'SITE':'QTY'}, inplace=True)"
   ]
  },
  {
   "cell_type": "markdown",
   "id": "16e99640-0aa9-4d5c-a75a-5bb43f878262",
   "metadata": {},
   "source": [
    "## Checking the result "
   ]
  },
  {
   "cell_type": "code",
   "execution_count": 129,
   "id": "c58f4795-2553-44e6-a15e-efc4466fa016",
   "metadata": {
    "scrolled": true
   },
   "outputs": [
    {
     "data": {
      "text/plain": [
       "FY_OF_CLAIM  group  i_o    \n",
       "2019         PA     indoor      10\n",
       "                    outdoor      6\n",
       "             RA     indoor     106\n",
       "                    outdoor     86\n",
       "             SKY    indoor      46\n",
       "                    outdoor     86\n",
       "             VRV    indoor      26\n",
       "                    outdoor     38\n",
       "2020         PA     indoor      15\n",
       "                    outdoor     19\n",
       "             RA     indoor     169\n",
       "                    outdoor    134\n",
       "             SKY    indoor      73\n",
       "                    outdoor    123\n",
       "             VRV    indoor      55\n",
       "                    outdoor     76\n",
       "2021         PA     indoor       6\n",
       "                    outdoor      6\n",
       "             RA     indoor     121\n",
       "                    outdoor    105\n",
       "             SKY    indoor      47\n",
       "                    outdoor     95\n",
       "             VRV    indoor      32\n",
       "                    outdoor     54\n",
       "2022         PA     indoor       4\n",
       "                    outdoor      7\n",
       "             RA     indoor      71\n",
       "                    outdoor     56\n",
       "             SKY    indoor      32\n",
       "                    outdoor     31\n",
       "             VRV    indoor      17\n",
       "                    outdoor     21\n",
       "dtype: int64"
      ]
     },
     "execution_count": 129,
     "metadata": {},
     "output_type": "execute_result"
    }
   ],
   "source": [
    "df1.groupby(['FY_OF_CLAIM','group','i_o']).size()"
   ]
  },
  {
   "cell_type": "markdown",
   "id": "fccd6884-3b8b-402a-afb3-fc18110bf81c",
   "metadata": {},
   "source": [
    "## Export the result"
   ]
  },
  {
   "cell_type": "code",
   "execution_count": 130,
   "id": "18a33e9c-d32e-4356-8097-a6d184bc38bc",
   "metadata": {},
   "outputs": [],
   "source": [
    "df1.to_excel(r'pcb_service.xlsx')"
   ]
  },
  {
   "cell_type": "code",
   "execution_count": null,
   "id": "b01820cd-d13e-4db1-baed-7eff8cd41e18",
   "metadata": {},
   "outputs": [],
   "source": []
  }
 ],
 "metadata": {
  "kernelspec": {
   "display_name": "Python 3 (ipykernel)",
   "language": "python",
   "name": "python3"
  },
  "language_info": {
   "codemirror_mode": {
    "name": "ipython",
    "version": 3
   },
   "file_extension": ".py",
   "mimetype": "text/x-python",
   "name": "python",
   "nbconvert_exporter": "python",
   "pygments_lexer": "ipython3",
   "version": "3.12.0"
  }
 },
 "nbformat": 4,
 "nbformat_minor": 5
}
