{
 "cells": [
  {
   "cell_type": "code",
   "execution_count": 121,
   "id": "7a11c54d-a1de-46a3-b2c2-088f3004c56a",
   "metadata": {},
   "outputs": [],
   "source": [
    "import pandas as pd\n",
    "import numpy as np\n",
    "import matplotlib.pyplot as plt\n",
    "import sqlite3"
   ]
  },
  {
   "cell_type": "code",
   "execution_count": 122,
   "id": "314d330a-35c6-4c7b-9915-e9faa0e11cb3",
   "metadata": {},
   "outputs": [],
   "source": [
    "url = r\"C:\\Users\\seksatta\\Desktop\\masterlist.xlsx\""
   ]
  },
  {
   "cell_type": "code",
   "execution_count": 123,
   "id": "3c2a348a-37e1-48d1-a950-8e840e4b5b4c",
   "metadata": {},
   "outputs": [],
   "source": [
    "df = pd.read_excel(url, skiprows=6, \n",
    "                  parse_dates=True)\n"
   ]
  },
  {
   "cell_type": "code",
   "execution_count": 124,
   "id": "618b2d50-0bbe-4dc5-87d0-a2c165aeaeb8",
   "metadata": {},
   "outputs": [],
   "source": [
    "df.columns = df.columns.str.lower()\n",
    "df.columns = df.columns.str.lower().str.replace(\"\\n\",\"  \")\n",
    "df.columns = df.columns.str.lower().str.replace(r' ','_')"
   ]
  },
  {
   "cell_type": "code",
   "execution_count": 125,
   "id": "d07ab7cf-9a48-4f72-acc9-5e720b9fedbe",
   "metadata": {},
   "outputs": [],
   "source": [
    "df['error_code'] = df['problem'].str.extract(r'(\\b[A-Z]\\d{1})(?<!-)')\n"
   ]
  },
  {
   "cell_type": "markdown",
   "id": "de96560b-8a06-4de3-8b78-d806b32e402e",
   "metadata": {},
   "source": [
    "# Cleaning up date"
   ]
  },
  {
   "cell_type": "markdown",
   "id": "ac45319c-d12d-440a-86ce-3c42bb3ab9f2",
   "metadata": {},
   "source": [
    "อันนี้ดีเอาไว้ check ได้"
   ]
  },
  {
   "cell_type": "code",
   "execution_count": 126,
   "id": "46c1d398-591b-4e48-ad8a-ef0d954d7494",
   "metadata": {},
   "outputs": [],
   "source": [
    "df.rename(columns = {'parts__and_cover_page__received_date':'received_date'}, inplace = True)"
   ]
  },
  {
   "cell_type": "code",
   "execution_count": 127,
   "id": "a91f35d2-77af-4ef2-91e4-c220b0779db4",
   "metadata": {},
   "outputs": [],
   "source": [
    "def check_date_format(date_str):\n",
    "    try:\n",
    "        pd.to_datetime(date_str, format='%Y-%m-%d %H:%M:%S')\n",
    "        return True\n",
    "    except ValueError:\n",
    "        return False"
   ]
  },
  {
   "cell_type": "code",
   "execution_count": 128,
   "id": "9acb1fd1-9ea7-4d50-8f47-b2e0f2ed519b",
   "metadata": {},
   "outputs": [],
   "source": [
    "df['received_date'] = df['received_date'].apply(lambda x: np.nan if x == '-' else x)"
   ]
  },
  {
   "cell_type": "code",
   "execution_count": 129,
   "id": "f857c32c-cf1e-4533-84f2-7d1bed365a42",
   "metadata": {},
   "outputs": [
    {
     "name": "stdout",
     "output_type": "stream",
     "text": [
      "Invalid dates:\n",
      "Empty DataFrame\n",
      "Columns: [no., received_date, actual_received_parts, basic_investigate__received_date, plan_to_finished_basic_investigation_date, plan__send__date, actual___send__date, plan_of_analysis_start_date, doc._no., production_date, installation_date, problem_date, part_name, drawing, supplier_name, problem, model, serial, model_type, model_group, customer, urgent, normal, initial, spare_parts, concern__big_problem, gib_no, status, eqg, mkg, mkg_cover__reply_date_, due_date_for_supplier__(ref._std__lt), plan_of_submit_report_to_mkg, report, final_report, date_of_remain_for_analysis__(ref._std__lt), control_analysis_lt__(ref._std__lt), lt__usage_workday, diff_from_due_date_(workday), checking_result___from_supplier_ok/ng, cause, part_ng, remark, error_code]\n",
      "Index: []\n",
      "\n",
      "[0 rows x 44 columns]\n"
     ]
    }
   ],
   "source": [
    "invalid_dates = df[~df['received_date'].apply(check_date_format)]\n",
    "print(\"Invalid dates:\")\n",
    "print(invalid_dates)"
   ]
  },
  {
   "cell_type": "markdown",
   "id": "c4041391-ed80-462f-9405-b26ca9792388",
   "metadata": {},
   "source": [
    " Change to str to datetime type"
   ]
  },
  {
   "cell_type": "code",
   "execution_count": 130,
   "id": "2bef1250-fcd9-4d7c-b761-699e29964f50",
   "metadata": {},
   "outputs": [
    {
     "data": {
      "text/plain": [
       "array([False,  True, False,  True,  True,  True,  True,  True, False,\n",
       "        True,  True,  True, False, False, False, False, False, False,\n",
       "       False, False, False, False, False, False, False, False, False,\n",
       "       False, False, False,  True,  True, False, False, False, False,\n",
       "       False, False,  True, False, False, False, False, False])"
      ]
     },
     "execution_count": 130,
     "metadata": {},
     "output_type": "execute_result"
    }
   ],
   "source": [
    "df.columns.str.contains(r'\\w{1,}date', regex=True)"
   ]
  },
  {
   "cell_type": "code",
   "execution_count": 131,
   "id": "1ce72e3a-11b0-4f79-bbb3-10d3e516ef47",
   "metadata": {},
   "outputs": [
    {
     "data": {
      "text/plain": [
       "Index(['received_date', 'basic_investigate__received_date',\n",
       "       'plan_to_finished_basic_investigation_date', 'plan__send__date',\n",
       "       'actual___send__date', 'plan_of_analysis_start_date', 'production_date',\n",
       "       'installation_date', 'problem_date', 'mkg_cover__reply_date_',\n",
       "       'due_date_for_supplier__(ref._std__lt)',\n",
       "       'diff_from_due_date_(workday)'],\n",
       "      dtype='object')"
      ]
     },
     "execution_count": 131,
     "metadata": {},
     "output_type": "execute_result"
    }
   ],
   "source": [
    "df.loc[:,df.columns.str.contains(r'\\w{1,}date', regex=True)].columns"
   ]
  },
  {
   "cell_type": "code",
   "execution_count": 132,
   "id": "6db2af0a-677f-4cb8-8129-376e548ef77d",
   "metadata": {},
   "outputs": [],
   "source": [
    "df1 = df.loc[:,['doc._no.', 'model', 'serial', 'drawing', 'supplier_name', 'customer',\n",
    "          'production_date', 'installation_date', 'problem_date', \n",
    "          'problem','error_code', 'part_ng', 'cause']\n",
    "\n",
    "    ]"
   ]
  },
  {
   "cell_type": "code",
   "execution_count": 133,
   "id": "6f1dac2b-13b0-4d60-9165-697f3a41d2f3",
   "metadata": {},
   "outputs": [],
   "source": [
    "model_list = ['RZFC100DVM', 'RZFC100DVM4', 'RZFC100EVM', \n",
    "             'RZFC30DV2S', 'RZFC36DV2S', 'RZFC85DVM', \n",
    "             'RZFC85DVM4', 'RZFC85EVM', 'RZFC100AVM', \n",
    "             'RKV30WV2S', 'RKV30XV2S', 'RZFC100DV1G', \n",
    "             'RKV30WV2S', 'RKV30XV2S', 'RZFC100DV1G', \n",
    "             'RZFC30EV2S', 'RZFC36EV2S']"
   ]
  },
  {
   "cell_type": "code",
   "execution_count": 134,
   "id": "f43a8709-d626-4d78-b38f-cafd9645f323",
   "metadata": {},
   "outputs": [],
   "source": [
    "dwg_list = ['3P574504-1', '3P574504-2', '3P574504-3', '3P574504-4']"
   ]
  },
  {
   "cell_type": "code",
   "execution_count": 135,
   "id": "cf2a70d5-0c26-4e12-b02c-d37ad9b86638",
   "metadata": {},
   "outputs": [],
   "source": [
    "df2 = df1[(df.model.isin(model_list) & df.drawing.isin(dwg_list))]"
   ]
  },
  {
   "cell_type": "code",
   "execution_count": 136,
   "id": "5fde5e9d-08ad-4505-8de3-36750ca07beb",
   "metadata": {},
   "outputs": [],
   "source": [
    "df2.to_excel(r'C:\\Users\\seksatta\\Desktop\\output.xlsx')"
   ]
  },
  {
   "cell_type": "code",
   "execution_count": null,
   "id": "393386d2-5013-4eeb-818f-cc5b46c7f295",
   "metadata": {},
   "outputs": [],
   "source": []
  }
 ],
 "metadata": {
  "kernelspec": {
   "display_name": "Python 3 (ipykernel)",
   "language": "python",
   "name": "python3"
  },
  "language_info": {
   "codemirror_mode": {
    "name": "ipython",
    "version": 3
   },
   "file_extension": ".py",
   "mimetype": "text/x-python",
   "name": "python",
   "nbconvert_exporter": "python",
   "pygments_lexer": "ipython3",
   "version": "3.12.0"
  }
 },
 "nbformat": 4,
 "nbformat_minor": 5
}
