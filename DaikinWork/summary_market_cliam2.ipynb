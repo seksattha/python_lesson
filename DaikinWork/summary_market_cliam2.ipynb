{
 "cells": [
  {
   "cell_type": "code",
   "execution_count": 1187,
   "id": "901d84d1-41b5-4b73-8ae4-4ee0f583ef7f",
   "metadata": {},
   "outputs": [],
   "source": [
    "import pandas as pd\n",
    "import numpy as np\n",
    "import re\n",
    "import matplotlib.pyplot as plt\n",
    "%config InlineBackend.figure_format = 'retina'"
   ]
  },
  {
   "cell_type": "code",
   "execution_count": 1188,
   "id": "5b70caea-266f-45cb-8d55-20ca1f8ad37c",
   "metadata": {},
   "outputs": [],
   "source": [
    "df1 = pd.read_csv(r'D:\\Seksatta\\MKG\\summary lizard R&D\\pcb_2020.csv')\n",
    "df2 = pd.read_csv(r'D:\\Seksatta\\MKG\\summary lizard R&D\\pcb_2021.csv')\n"
   ]
  },
  {
   "cell_type": "code",
   "execution_count": 1189,
   "id": "ebbba99c-b550-4ed3-91a9-ece41b31f6d5",
   "metadata": {},
   "outputs": [],
   "source": [
    "file_path = r'D:\\Seksatta\\MKG\\summary lizard R&D\\pcb_2022.csv'\n",
    "df3 = pd.read_csv(file_path, encoding='utf-8')"
   ]
  },
  {
   "cell_type": "code",
   "execution_count": 1190,
   "id": "a438d602-5caf-4bc0-b8c4-2f9e737a960d",
   "metadata": {},
   "outputs": [],
   "source": [
    "df = pd.concat([df1,df2, df3], \n",
    "          keys=[2020, 2021, 2022])"
   ]
  },
  {
   "cell_type": "code",
   "execution_count": 1191,
   "id": "7b1c2bb8-0b54-430a-81f1-545ced698e13",
   "metadata": {},
   "outputs": [],
   "source": [
    "df.reset_index(inplace =True)\n",
    "df.drop(columns = ['level_1'], axis=1, inplace=True)"
   ]
  },
  {
   "cell_type": "code",
   "execution_count": 1192,
   "id": "603e7345-f51d-4419-90db-3f5b3bd0e6f5",
   "metadata": {},
   "outputs": [],
   "source": [
    "df.rename(columns={'level_0':'year'}, inplace=True)"
   ]
  },
  {
   "cell_type": "code",
   "execution_count": 1193,
   "id": "3a0ffd85-bd98-47b5-89ab-2baf0ebc772e",
   "metadata": {},
   "outputs": [],
   "source": [
    "df['error_code'] = df['Problem'].str.extract(r'(\\b\\w{2})\\s')"
   ]
  },
  {
   "cell_type": "code",
   "execution_count": 1194,
   "id": "cfbbd6f6-b3e3-4e06-a00b-2f6ad2748cae",
   "metadata": {},
   "outputs": [],
   "source": [
    "def antmal(x):\n",
    "    ant_match = re.search(r'\\b[Aa]nt\\b(?!\\s*\\band\\b)', x)\n",
    "    lizard_match = re.search(r'\\b[Ll][ie](?!\\s*\\band\\b)', x)\n",
    "    \n",
    "    if ant_match and lizard_match:\n",
    "        return 'both'\n",
    "    elif ant_match:\n",
    "        return 'ant'\n",
    "    elif lizard_match:\n",
    "        return 'lizard'\n",
    "    else:\n",
    "        return 'none'\n",
    "\n"
   ]
  },
  {
   "cell_type": "code",
   "execution_count": 1195,
   "id": "b6ec8710-cf55-4d51-bd99-0d60c8cde326",
   "metadata": {},
   "outputs": [],
   "source": [
    "df['animal'] = df['Visual check'].apply(antmal)"
   ]
  },
  {
   "cell_type": "code",
   "execution_count": 1196,
   "id": "3303b3d2-2d1c-4c1e-bbb1-24fef094fb99",
   "metadata": {},
   "outputs": [
    {
     "data": {
      "text/plain": [
       "Index(['year', 'MKG No.', 'Parts  and cover page', 'Finished date', 'Period',\n",
       "       'Part', 'Model', 'Serial', 'Drawing', 'Problem', 'Vender name',\n",
       "       'Visual check', 'Resitance check', 'Operation check by Jig', 'Judgment',\n",
       "       '  MKG No.', 'Parts  received from MKG',\n",
       "       'Finished basic investigation date', 'Send parts to supplier date',\n",
       "       'Part Name', 'Model Type', 'Resistance check', 'error_code', 'animal'],\n",
       "      dtype='object')"
      ]
     },
     "execution_count": 1196,
     "metadata": {},
     "output_type": "execute_result"
    }
   ],
   "source": [
    "df.columns"
   ]
  },
  {
   "cell_type": "code",
   "execution_count": 1197,
   "id": "43aa8558-fcde-437d-b4de-db9271652460",
   "metadata": {},
   "outputs": [
    {
     "data": {
      "text/html": [
       "<div>\n",
       "<style scoped>\n",
       "    .dataframe tbody tr th:only-of-type {\n",
       "        vertical-align: middle;\n",
       "    }\n",
       "\n",
       "    .dataframe tbody tr th {\n",
       "        vertical-align: top;\n",
       "    }\n",
       "\n",
       "    .dataframe thead th {\n",
       "        text-align: right;\n",
       "    }\n",
       "</style>\n",
       "<table border=\"1\" class=\"dataframe\">\n",
       "  <thead>\n",
       "    <tr style=\"text-align: right;\">\n",
       "      <th></th>\n",
       "      <th>year</th>\n",
       "      <th>MKG No.</th>\n",
       "      <th>Model</th>\n",
       "      <th>Serial</th>\n",
       "      <th>Drawing</th>\n",
       "      <th>error_code</th>\n",
       "      <th>animal</th>\n",
       "    </tr>\n",
       "  </thead>\n",
       "  <tbody>\n",
       "    <tr>\n",
       "      <th>0</th>\n",
       "      <td>2020</td>\n",
       "      <td>2210.0</td>\n",
       "      <td>2MKC30QVM4</td>\n",
       "      <td>E007339</td>\n",
       "      <td>2P438792-2</td>\n",
       "      <td>NaN</td>\n",
       "      <td>ant</td>\n",
       "    </tr>\n",
       "    <tr>\n",
       "      <th>1</th>\n",
       "      <td>2020</td>\n",
       "      <td>75.0</td>\n",
       "      <td>RKQ12TV2S</td>\n",
       "      <td>E007399</td>\n",
       "      <td>2P416384-10</td>\n",
       "      <td>NaN</td>\n",
       "      <td>lizard</td>\n",
       "    </tr>\n",
       "    <tr>\n",
       "      <th>2</th>\n",
       "      <td>2020</td>\n",
       "      <td>162.0</td>\n",
       "      <td>FTKQ15TV2S</td>\n",
       "      <td>E006048</td>\n",
       "      <td>2P406592-11</td>\n",
       "      <td>NaN</td>\n",
       "      <td>lizard</td>\n",
       "    </tr>\n",
       "    <tr>\n",
       "      <th>3</th>\n",
       "      <td>2020</td>\n",
       "      <td>204.0</td>\n",
       "      <td>FTKQ09TV2S</td>\n",
       "      <td>E002809</td>\n",
       "      <td>2P409592-11</td>\n",
       "      <td>A6</td>\n",
       "      <td>ant</td>\n",
       "    </tr>\n",
       "    <tr>\n",
       "      <th>4</th>\n",
       "      <td>2020</td>\n",
       "      <td>144.0</td>\n",
       "      <td>ARKC12RV2S</td>\n",
       "      <td>E009028</td>\n",
       "      <td>2P390290-1</td>\n",
       "      <td>L5</td>\n",
       "      <td>lizard</td>\n",
       "    </tr>\n",
       "    <tr>\n",
       "      <th>...</th>\n",
       "      <td>...</td>\n",
       "      <td>...</td>\n",
       "      <td>...</td>\n",
       "      <td>...</td>\n",
       "      <td>...</td>\n",
       "      <td>...</td>\n",
       "      <td>...</td>\n",
       "    </tr>\n",
       "    <tr>\n",
       "      <th>228</th>\n",
       "      <td>2022</td>\n",
       "      <td>NaN</td>\n",
       "      <td>RKZ12VV2S</td>\n",
       "      <td>E002061</td>\n",
       "      <td>2P582816-24</td>\n",
       "      <td>NaN</td>\n",
       "      <td>lizard</td>\n",
       "    </tr>\n",
       "    <tr>\n",
       "      <th>229</th>\n",
       "      <td>2022</td>\n",
       "      <td>NaN</td>\n",
       "      <td>RKQ15UV2S</td>\n",
       "      <td>E001163</td>\n",
       "      <td>2P582816-1</td>\n",
       "      <td>L5</td>\n",
       "      <td>lizard</td>\n",
       "    </tr>\n",
       "    <tr>\n",
       "      <th>230</th>\n",
       "      <td>2022</td>\n",
       "      <td>NaN</td>\n",
       "      <td>RKQ24UV2S</td>\n",
       "      <td>E007651</td>\n",
       "      <td>2P494704-13</td>\n",
       "      <td>E7</td>\n",
       "      <td>lizard</td>\n",
       "    </tr>\n",
       "    <tr>\n",
       "      <th>231</th>\n",
       "      <td>2022</td>\n",
       "      <td>NaN</td>\n",
       "      <td>FTKQ15UV2S</td>\n",
       "      <td>E003301</td>\n",
       "      <td>2P406592-11</td>\n",
       "      <td>NaN</td>\n",
       "      <td>lizard</td>\n",
       "    </tr>\n",
       "    <tr>\n",
       "      <th>232</th>\n",
       "      <td>2022</td>\n",
       "      <td>NaN</td>\n",
       "      <td>RZF30CY2S</td>\n",
       "      <td>E002296</td>\n",
       "      <td>2P441033-1</td>\n",
       "      <td>LC</td>\n",
       "      <td>lizard</td>\n",
       "    </tr>\n",
       "  </tbody>\n",
       "</table>\n",
       "<p>233 rows × 7 columns</p>\n",
       "</div>"
      ],
      "text/plain": [
       "     year  MKG No.       Model   Serial      Drawing error_code  animal\n",
       "0    2020   2210.0  2MKC30QVM4  E007339   2P438792-2        NaN     ant\n",
       "1    2020     75.0   RKQ12TV2S  E007399  2P416384-10        NaN  lizard\n",
       "2    2020    162.0  FTKQ15TV2S  E006048  2P406592-11        NaN  lizard\n",
       "3    2020    204.0  FTKQ09TV2S  E002809  2P409592-11         A6     ant\n",
       "4    2020    144.0  ARKC12RV2S  E009028   2P390290-1         L5  lizard\n",
       "..    ...      ...         ...      ...          ...        ...     ...\n",
       "228  2022      NaN   RKZ12VV2S  E002061  2P582816-24        NaN  lizard\n",
       "229  2022      NaN   RKQ15UV2S  E001163   2P582816-1         L5  lizard\n",
       "230  2022      NaN   RKQ24UV2S  E007651  2P494704-13         E7  lizard\n",
       "231  2022      NaN  FTKQ15UV2S  E003301  2P406592-11        NaN  lizard\n",
       "232  2022      NaN   RZF30CY2S  E002296   2P441033-1         LC  lizard\n",
       "\n",
       "[233 rows x 7 columns]"
      ]
     },
     "execution_count": 1197,
     "metadata": {},
     "output_type": "execute_result"
    }
   ],
   "source": [
    "df2 = df.loc[:,['year', 'MKG No.', 'Model', 'Serial', 'Drawing', 'error_code', 'animal']]\n",
    "df2"
   ]
  },
  {
   "cell_type": "code",
   "execution_count": 1198,
   "id": "3f206cd8-4d44-4f17-9ddb-d28c4c2e0b06",
   "metadata": {},
   "outputs": [
    {
     "data": {
      "text/plain": [
       "year  animal\n",
       "2020  ant       16\n",
       "      both       3\n",
       "      lizard    84\n",
       "2021  both       5\n",
       "      lizard    93\n",
       "2022  lizard    32\n",
       "Name: Serial, dtype: int64"
      ]
     },
     "execution_count": 1198,
     "metadata": {},
     "output_type": "execute_result"
    }
   ],
   "source": [
    "df.groupby(['year','animal'])['Serial'].count()"
   ]
  },
  {
   "cell_type": "code",
   "execution_count": 1199,
   "id": "48491dcc-d29d-402b-99c8-5ff17e5133c1",
   "metadata": {},
   "outputs": [],
   "source": [
    "model = pd.read_csv(r'D:\\Seksatta\\EQG\\dit_info\\model2.csv')\n",
    "model['model_name'] = model['model_name'].str.strip()"
   ]
  },
  {
   "cell_type": "code",
   "execution_count": 1200,
   "id": "949cda04-1113-4c1c-9cf4-14c7430e850d",
   "metadata": {},
   "outputs": [
    {
     "data": {
      "text/plain": [
       "Index(['Unnamed: 0', 'model_name', 'i_o', 'base_model', 'group'], dtype='object')"
      ]
     },
     "execution_count": 1200,
     "metadata": {},
     "output_type": "execute_result"
    }
   ],
   "source": [
    "model.columns"
   ]
  },
  {
   "cell_type": "markdown",
   "id": "ed79374d-7caf-42d5-a3de-b3483bd09715",
   "metadata": {},
   "source": [
    "**ข้อมูลจิ้งจก เก็บอยู่ใน df3**"
   ]
  },
  {
   "cell_type": "code",
   "execution_count": 1201,
   "id": "c5192844-6af3-4963-bfee-b68f8a648294",
   "metadata": {},
   "outputs": [
    {
     "data": {
      "text/plain": [
       "Index(['year', 'MKG No.', 'Model', 'Serial', 'Drawing', 'error_code',\n",
       "       'animal'],\n",
       "      dtype='object')"
      ]
     },
     "execution_count": 1201,
     "metadata": {},
     "output_type": "execute_result"
    }
   ],
   "source": [
    "df2.columns"
   ]
  },
  {
   "cell_type": "code",
   "execution_count": 1203,
   "id": "289db7f9-c760-413a-a1f3-8397a6515be7",
   "metadata": {},
   "outputs": [],
   "source": [
    "df3 = pd.merge(df2, model[['model_name', 'base_model','group', 'i_o']], left_on='Model', right_on='model_name', how='left')\n"
   ]
  },
  {
   "cell_type": "code",
   "execution_count": 1207,
   "id": "3b765948-05b0-49b3-af44-fa5b01ee5f64",
   "metadata": {},
   "outputs": [
    {
     "data": {
      "text/html": [
       "<div>\n",
       "<style scoped>\n",
       "    .dataframe tbody tr th:only-of-type {\n",
       "        vertical-align: middle;\n",
       "    }\n",
       "\n",
       "    .dataframe tbody tr th {\n",
       "        vertical-align: top;\n",
       "    }\n",
       "\n",
       "    .dataframe thead th {\n",
       "        text-align: right;\n",
       "    }\n",
       "</style>\n",
       "<table border=\"1\" class=\"dataframe\">\n",
       "  <thead>\n",
       "    <tr style=\"text-align: right;\">\n",
       "      <th></th>\n",
       "      <th>year</th>\n",
       "      <th>MKG No.</th>\n",
       "      <th>Model</th>\n",
       "      <th>Serial</th>\n",
       "      <th>Drawing</th>\n",
       "      <th>error_code</th>\n",
       "      <th>animal</th>\n",
       "      <th>model_name</th>\n",
       "      <th>base_model</th>\n",
       "      <th>group</th>\n",
       "      <th>i_o</th>\n",
       "    </tr>\n",
       "  </thead>\n",
       "  <tbody>\n",
       "    <tr>\n",
       "      <th>0</th>\n",
       "      <td>2020</td>\n",
       "      <td>2210.0</td>\n",
       "      <td>2MKC30QVM4</td>\n",
       "      <td>E007339</td>\n",
       "      <td>2P438792-2</td>\n",
       "      <td>NaN</td>\n",
       "      <td>ant</td>\n",
       "      <td>2MKC30QVM4</td>\n",
       "      <td>BMS</td>\n",
       "      <td>RA</td>\n",
       "      <td>o</td>\n",
       "    </tr>\n",
       "    <tr>\n",
       "      <th>1</th>\n",
       "      <td>2020</td>\n",
       "      <td>75.0</td>\n",
       "      <td>RKQ12TV2S</td>\n",
       "      <td>E007399</td>\n",
       "      <td>2P416384-10</td>\n",
       "      <td>NaN</td>\n",
       "      <td>lizard</td>\n",
       "      <td>RKQ12TV2S</td>\n",
       "      <td>GSI</td>\n",
       "      <td>RA</td>\n",
       "      <td>o</td>\n",
       "    </tr>\n",
       "    <tr>\n",
       "      <th>2</th>\n",
       "      <td>2020</td>\n",
       "      <td>162.0</td>\n",
       "      <td>FTKQ15TV2S</td>\n",
       "      <td>E006048</td>\n",
       "      <td>2P406592-11</td>\n",
       "      <td>NaN</td>\n",
       "      <td>lizard</td>\n",
       "      <td>FTKQ15TV2S</td>\n",
       "      <td>BMS</td>\n",
       "      <td>RA</td>\n",
       "      <td>i</td>\n",
       "    </tr>\n",
       "    <tr>\n",
       "      <th>3</th>\n",
       "      <td>2020</td>\n",
       "      <td>204.0</td>\n",
       "      <td>FTKQ09TV2S</td>\n",
       "      <td>E002809</td>\n",
       "      <td>2P409592-11</td>\n",
       "      <td>A6</td>\n",
       "      <td>ant</td>\n",
       "      <td>FTKQ09TV2S</td>\n",
       "      <td>BMS</td>\n",
       "      <td>RA</td>\n",
       "      <td>i</td>\n",
       "    </tr>\n",
       "    <tr>\n",
       "      <th>4</th>\n",
       "      <td>2020</td>\n",
       "      <td>144.0</td>\n",
       "      <td>ARKC12RV2S</td>\n",
       "      <td>E009028</td>\n",
       "      <td>2P390290-1</td>\n",
       "      <td>L5</td>\n",
       "      <td>lizard</td>\n",
       "      <td>ARKC12RV2S</td>\n",
       "      <td>GSI</td>\n",
       "      <td>RA</td>\n",
       "      <td>o</td>\n",
       "    </tr>\n",
       "    <tr>\n",
       "      <th>...</th>\n",
       "      <td>...</td>\n",
       "      <td>...</td>\n",
       "      <td>...</td>\n",
       "      <td>...</td>\n",
       "      <td>...</td>\n",
       "      <td>...</td>\n",
       "      <td>...</td>\n",
       "      <td>...</td>\n",
       "      <td>...</td>\n",
       "      <td>...</td>\n",
       "      <td>...</td>\n",
       "    </tr>\n",
       "    <tr>\n",
       "      <th>228</th>\n",
       "      <td>2022</td>\n",
       "      <td>NaN</td>\n",
       "      <td>RKZ12VV2S</td>\n",
       "      <td>E002061</td>\n",
       "      <td>2P582816-24</td>\n",
       "      <td>NaN</td>\n",
       "      <td>lizard</td>\n",
       "      <td>RKZ12VV2S</td>\n",
       "      <td>BMS</td>\n",
       "      <td>RA</td>\n",
       "      <td>o</td>\n",
       "    </tr>\n",
       "    <tr>\n",
       "      <th>229</th>\n",
       "      <td>2022</td>\n",
       "      <td>NaN</td>\n",
       "      <td>RKQ15UV2S</td>\n",
       "      <td>E001163</td>\n",
       "      <td>2P582816-1</td>\n",
       "      <td>L5</td>\n",
       "      <td>lizard</td>\n",
       "      <td>RKQ15UV2S</td>\n",
       "      <td>BMS</td>\n",
       "      <td>RA</td>\n",
       "      <td>o</td>\n",
       "    </tr>\n",
       "    <tr>\n",
       "      <th>230</th>\n",
       "      <td>2022</td>\n",
       "      <td>NaN</td>\n",
       "      <td>RKQ24UV2S</td>\n",
       "      <td>E007651</td>\n",
       "      <td>2P494704-13</td>\n",
       "      <td>E7</td>\n",
       "      <td>lizard</td>\n",
       "      <td>RKQ24UV2S</td>\n",
       "      <td>SF2</td>\n",
       "      <td>RA</td>\n",
       "      <td>o</td>\n",
       "    </tr>\n",
       "    <tr>\n",
       "      <th>231</th>\n",
       "      <td>2022</td>\n",
       "      <td>NaN</td>\n",
       "      <td>FTKQ15UV2S</td>\n",
       "      <td>E003301</td>\n",
       "      <td>2P406592-11</td>\n",
       "      <td>NaN</td>\n",
       "      <td>lizard</td>\n",
       "      <td>FTKQ15UV2S</td>\n",
       "      <td>BMS</td>\n",
       "      <td>RA</td>\n",
       "      <td>i</td>\n",
       "    </tr>\n",
       "    <tr>\n",
       "      <th>232</th>\n",
       "      <td>2022</td>\n",
       "      <td>NaN</td>\n",
       "      <td>RZF30CY2S</td>\n",
       "      <td>E002296</td>\n",
       "      <td>2P441033-1</td>\n",
       "      <td>LC</td>\n",
       "      <td>lizard</td>\n",
       "      <td>RZF30CY2S</td>\n",
       "      <td>BML-C</td>\n",
       "      <td>SKY</td>\n",
       "      <td>o</td>\n",
       "    </tr>\n",
       "  </tbody>\n",
       "</table>\n",
       "<p>233 rows × 11 columns</p>\n",
       "</div>"
      ],
      "text/plain": [
       "     year  MKG No.       Model   Serial      Drawing error_code  animal  \\\n",
       "0    2020   2210.0  2MKC30QVM4  E007339   2P438792-2        NaN     ant   \n",
       "1    2020     75.0   RKQ12TV2S  E007399  2P416384-10        NaN  lizard   \n",
       "2    2020    162.0  FTKQ15TV2S  E006048  2P406592-11        NaN  lizard   \n",
       "3    2020    204.0  FTKQ09TV2S  E002809  2P409592-11         A6     ant   \n",
       "4    2020    144.0  ARKC12RV2S  E009028   2P390290-1         L5  lizard   \n",
       "..    ...      ...         ...      ...          ...        ...     ...   \n",
       "228  2022      NaN   RKZ12VV2S  E002061  2P582816-24        NaN  lizard   \n",
       "229  2022      NaN   RKQ15UV2S  E001163   2P582816-1         L5  lizard   \n",
       "230  2022      NaN   RKQ24UV2S  E007651  2P494704-13         E7  lizard   \n",
       "231  2022      NaN  FTKQ15UV2S  E003301  2P406592-11        NaN  lizard   \n",
       "232  2022      NaN   RZF30CY2S  E002296   2P441033-1         LC  lizard   \n",
       "\n",
       "     model_name base_model group i_o  \n",
       "0    2MKC30QVM4        BMS    RA   o  \n",
       "1     RKQ12TV2S        GSI    RA   o  \n",
       "2    FTKQ15TV2S        BMS    RA   i  \n",
       "3    FTKQ09TV2S        BMS    RA   i  \n",
       "4    ARKC12RV2S        GSI    RA   o  \n",
       "..          ...        ...   ...  ..  \n",
       "228   RKZ12VV2S        BMS    RA   o  \n",
       "229   RKQ15UV2S        BMS    RA   o  \n",
       "230   RKQ24UV2S        SF2    RA   o  \n",
       "231  FTKQ15UV2S        BMS    RA   i  \n",
       "232   RZF30CY2S      BML-C   SKY   o  \n",
       "\n",
       "[233 rows x 11 columns]"
      ]
     },
     "execution_count": 1207,
     "metadata": {},
     "output_type": "execute_result"
    }
   ],
   "source": [
    "df3"
   ]
  },
  {
   "cell_type": "code",
   "execution_count": null,
   "id": "45ca7a30-4d30-4c31-a8fa-1051c03e463e",
   "metadata": {},
   "outputs": [],
   "source": [
    "df3.groupby()"
   ]
  },
  {
   "cell_type": "code",
   "execution_count": null,
   "id": "ce21c5c5-3d7d-4935-b060-c68e3322809e",
   "metadata": {},
   "outputs": [],
   "source": [
    "aoq1 = pd.read_csv(r'D:\\Seksatta\\MKG\\summary lizard R&D\\AOQ-VIS 010120-311223\\aoq1.csv')\n",
    "aoq2 = pd.read_csv(r'D:\\Seksatta\\MKG\\summary lizard R&D\\AOQ-VIS 010120-311223\\aoq2.csv')\n",
    "aoq3 = pd.read_csv(r'D:\\Seksatta\\MKG\\summary lizard R&D\\AOQ-VIS 010120-311223\\aoq3.csv')"
   ]
  },
  {
   "cell_type": "code",
   "execution_count": null,
   "id": "6415b142-498c-4706-aabb-6f7f3ddf2f05",
   "metadata": {},
   "outputs": [],
   "source": [
    "df = pd.concat([aoq1, aoq2, aoq3], keys=[1,2,3])"
   ]
  },
  {
   "cell_type": "code",
   "execution_count": null,
   "id": "b49d8bfd-5b29-4af0-b407-7a662e3f896b",
   "metadata": {},
   "outputs": [],
   "source": [
    "df.reset_index(inplace=True)"
   ]
  },
  {
   "cell_type": "code",
   "execution_count": null,
   "id": "07b2a94b-a67d-4c7e-b854-ed234c9c9126",
   "metadata": {},
   "outputs": [],
   "source": [
    "df.drop(columns = ['level_0', 'level_1'], inplace =True)\n"
   ]
  },
  {
   "cell_type": "code",
   "execution_count": null,
   "id": "049eefa8-ee09-4337-8bac-339b164d298d",
   "metadata": {},
   "outputs": [],
   "source": [
    "df.columns"
   ]
  },
  {
   "cell_type": "code",
   "execution_count": null,
   "id": "5da7e7ab-0e8e-4f39-b82b-1992d11abc13",
   "metadata": {},
   "outputs": [],
   "source": [
    "df.drop_duplicates(subset = ['FAC_MODEL', 'FAC_SERIAL'], inplace=True)"
   ]
  },
  {
   "cell_type": "code",
   "execution_count": null,
   "id": "a38f38b6-37d7-489d-971f-c4fc8042cd75",
   "metadata": {},
   "outputs": [],
   "source": [
    "\n",
    "df['SYMPTOM_DESC']=df['SYMPTOM_DESC'].str.replace(r'\\b[dD]oest', 'Does', regex= True)\n",
    "df['SYMPTOM_DESC']=df['SYMPTOM_DESC'].str.replace(r' /', '/', regex= True)\n",
    "df['SYMPTOM_DESC']=df['SYMPTOM_DESC'].str.replace(r' /', '/', regex= True).str.rstrip('.')\n",
    "df['SYMPTOM_DESC']=df['SYMPTOM_DESC'].str.replace(r'A/C', '', regex= True)\n",
    "df['SYMPTOM_DESC']=df['SYMPTOM_DESC'].str.strip()\n",
    "df['SYMPTOM_DESC']=df['SYMPTOM_DESC'].str.upper()\n",
    "df['SYMPTOM_DESC']=df['SYMPTOM_DESC'].str.replace(r'10 :  DOES NOT OPERATE', '10 : DOES NOT OPERATE', regex= False)"
   ]
  },
  {
   "cell_type": "code",
   "execution_count": null,
   "id": "75191dda-28bb-40c1-b3f4-b4d064ac5ea0",
   "metadata": {},
   "outputs": [],
   "source": [
    "df = df[df['FAILURE_PART_DESC_FINAL'].str.contains(r'\\bPCB\\b', case=False, regex=True)]"
   ]
  },
  {
   "cell_type": "code",
   "execution_count": null,
   "id": "a91537f3-99af-42bb-8576-ceadd9bc542a",
   "metadata": {},
   "outputs": [],
   "source": [
    "df['SYMPTOM_DESC'].value_counts()"
   ]
  },
  {
   "cell_type": "code",
   "execution_count": null,
   "id": "c4827283-552e-4496-9cf8-426e021cc3b2",
   "metadata": {},
   "outputs": [],
   "source": [
    "df.columns"
   ]
  },
  {
   "cell_type": "code",
   "execution_count": null,
   "id": "84d3e619-890f-456b-a38c-8905f093a2b2",
   "metadata": {},
   "outputs": [],
   "source": [
    "def get_top_5(group):\n",
    "    return group.nlargest(5, 'COUNT')"
   ]
  },
  {
   "cell_type": "code",
   "execution_count": null,
   "id": "4b472370-9161-44b7-a8ed-9eae5765177f",
   "metadata": {},
   "outputs": [],
   "source": [
    "df.groupby(['FY_OF_CLAIM', 'SYMPTOM_DESC'])['FAC_SERIAL'].count().reset_index()"
   ]
  },
  {
   "cell_type": "code",
   "execution_count": null,
   "id": "64278fa9-acf0-4cef-8b47-eb88a73d2b16",
   "metadata": {},
   "outputs": [],
   "source": [
    "g= df.groupby(['FY_OF_CLAIM', 'SYMPTOM_DESC'])['FAC_SERIAL'].count().reset_index()"
   ]
  },
  {
   "cell_type": "code",
   "execution_count": null,
   "id": "55cf782c-4852-4e16-adc6-2e1a41f68d36",
   "metadata": {
    "scrolled": true
   },
   "outputs": [],
   "source": [
    "top4 = g.groupby('FY_OF_CLAIM').apply(lambda x: x.nlargest(4, 'FAC_SERIAL'))"
   ]
  },
  {
   "cell_type": "code",
   "execution_count": null,
   "id": "0fcc6ff4-2d9d-4f9c-b1e7-06eb1134eeaf",
   "metadata": {},
   "outputs": [],
   "source": [
    "pivot = top4.pivot(index='FY_OF_CLAIM', columns='SYMPTOM_DESC', values='FAC_SERIAL').fillna(0)\n"
   ]
  },
  {
   "cell_type": "code",
   "execution_count": null,
   "id": "d7522ecb-2c98-4ec5-89b4-53ff9114a6a5",
   "metadata": {},
   "outputs": [],
   "source": [
    "pivot"
   ]
  },
  {
   "cell_type": "code",
   "execution_count": null,
   "id": "935a30a8-4464-4e1b-935b-2059ad43e73a",
   "metadata": {},
   "outputs": [],
   "source": [
    "ax = pivot.plot(kind='bar', stacked=True, figsize=(10, 7))\n",
    "\n",
    "plt.ylabel('Quantity of Claim')\n",
    "plt.title('PCB Failure groupby Claim Year')\n",
    "\n",
    "plt.show()"
   ]
  },
  {
   "cell_type": "code",
   "execution_count": null,
   "id": "99de9674-c21b-4352-97d4-26042d8031d9",
   "metadata": {},
   "outputs": [],
   "source": []
  },
  {
   "cell_type": "code",
   "execution_count": null,
   "id": "edcce698-f67b-4e91-8724-d9a7971f6cb1",
   "metadata": {
    "jupyter": {
     "source_hidden": true
    }
   },
   "outputs": [],
   "source": [
    "plt.savefig('stacked_bar_plot.jpeg') "
   ]
  },
  {
   "cell_type": "code",
   "execution_count": null,
   "id": "e452c011-5941-43b5-b2e9-926a33062916",
   "metadata": {},
   "outputs": [],
   "source": [
    "df3"
   ]
  },
  {
   "cell_type": "code",
   "execution_count": null,
   "id": "f7a8bfe0-73d6-402d-831b-5875a6481f16",
   "metadata": {},
   "outputs": [],
   "source": [
    "g = df3.groupby(['year','animal'])['Serial'].count().reset_index()"
   ]
  },
  {
   "cell_type": "code",
   "execution_count": null,
   "id": "760534d4-98e8-429c-bd50-4647aad6f567",
   "metadata": {},
   "outputs": [],
   "source": [
    "pivot = pd.pivot_table(g, index='year', columns='animal', values='Serial', aggfunc='sum', fill_value=0, margins=True, margins_name='Total')"
   ]
  },
  {
   "cell_type": "code",
   "execution_count": null,
   "id": "ee2b51c0-3687-4366-a69e-20099ea88425",
   "metadata": {},
   "outputs": [],
   "source": [
    "pivot"
   ]
  },
  {
   "cell_type": "code",
   "execution_count": null,
   "id": "48f9c124-4a05-40b3-8321-1ff98f5ea120",
   "metadata": {},
   "outputs": [],
   "source": [
    "pivot.plot(kind='bar', stacked=True, figsize=(10,7))\n",
    "plt.title(\"Ant and Lizard Infestation/Invasion\")\n",
    "plt.ylabel(\"Qty\")"
   ]
  },
  {
   "cell_type": "code",
   "execution_count": null,
   "id": "aa0aea0c-2a36-40c1-a75c-f972ab45461e",
   "metadata": {},
   "outputs": [],
   "source": []
  }
 ],
 "metadata": {
  "kernelspec": {
   "display_name": "Python 3 (ipykernel)",
   "language": "python",
   "name": "python3"
  },
  "language_info": {
   "codemirror_mode": {
    "name": "ipython",
    "version": 3
   },
   "file_extension": ".py",
   "mimetype": "text/x-python",
   "name": "python",
   "nbconvert_exporter": "python",
   "pygments_lexer": "ipython3",
   "version": "3.12.0"
  }
 },
 "nbformat": 4,
 "nbformat_minor": 5
}
