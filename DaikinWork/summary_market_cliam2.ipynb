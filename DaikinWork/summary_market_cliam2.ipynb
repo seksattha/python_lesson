{
 "cells": [
  {
   "cell_type": "code",
   "execution_count": 1187,
   "id": "901d84d1-41b5-4b73-8ae4-4ee0f583ef7f",
   "metadata": {},
   "outputs": [],
   "source": [
    "import pandas as pd\n",
    "import numpy as np\n",
    "import re\n",
    "import matplotlib.pyplot as plt\n",
    "%config InlineBackend.figure_format = 'retina'"
   ]
  },
  {
   "cell_type": "code",
   "execution_count": 1188,
   "id": "5b70caea-266f-45cb-8d55-20ca1f8ad37c",
   "metadata": {},
   "outputs": [],
   "source": [
    "df1 = pd.read_csv(r'D:\\Seksatta\\MKG\\summary lizard R&D\\pcb_2020.csv')\n",
    "df2 = pd.read_csv(r'D:\\Seksatta\\MKG\\summary lizard R&D\\pcb_2021.csv')\n"
   ]
  },
  {
   "cell_type": "code",
   "execution_count": 1189,
   "id": "ebbba99c-b550-4ed3-91a9-ece41b31f6d5",
   "metadata": {},
   "outputs": [],
   "source": [
    "file_path = r'D:\\Seksatta\\MKG\\summary lizard R&D\\pcb_2022.csv'\n",
    "df3 = pd.read_csv(file_path, encoding='utf-8')"
   ]
  },
  {
   "cell_type": "code",
   "execution_count": 1190,
   "id": "a438d602-5caf-4bc0-b8c4-2f9e737a960d",
   "metadata": {},
   "outputs": [],
   "source": [
    "df = pd.concat([df1,df2, df3], \n",
    "          keys=[2020, 2021, 2022])"
   ]
  },
  {
   "cell_type": "code",
   "execution_count": 1191,
   "id": "7b1c2bb8-0b54-430a-81f1-545ced698e13",
   "metadata": {},
   "outputs": [],
   "source": [
    "df.reset_index(inplace =True)\n",
    "df.drop(columns = ['level_1'], axis=1, inplace=True)"
   ]
  },
  {
   "cell_type": "code",
   "execution_count": 1192,
   "id": "603e7345-f51d-4419-90db-3f5b3bd0e6f5",
   "metadata": {},
   "outputs": [],
   "source": [
    "df.rename(columns={'level_0':'year'}, inplace=True)"
   ]
  },
  {
   "cell_type": "code",
   "execution_count": 1193,
   "id": "3a0ffd85-bd98-47b5-89ab-2baf0ebc772e",
   "metadata": {},
   "outputs": [],
   "source": [
    "df['error_code'] = df['Problem'].str.extract(r'(\\b\\w{2})\\s')"
   ]
  },
  {
   "cell_type": "code",
   "execution_count": 1194,
   "id": "cfbbd6f6-b3e3-4e06-a00b-2f6ad2748cae",
   "metadata": {},
   "outputs": [],
   "source": [
    "def antmal(x):\n",
    "    ant_match = re.search(r'\\b[Aa]nt\\b(?!\\s*\\band\\b)', x)\n",
    "    lizard_match = re.search(r'\\b[Ll][ie](?!\\s*\\band\\b)', x)\n",
    "    \n",
    "    if ant_match and lizard_match:\n",
    "        return 'both'\n",
    "    elif ant_match:\n",
    "        return 'ant'\n",
    "    elif lizard_match:\n",
    "        return 'lizard'\n",
    "    else:\n",
    "        return 'none'\n",
    "\n"
   ]
  },
  {
   "cell_type": "code",
   "execution_count": 1195,
   "id": "b6ec8710-cf55-4d51-bd99-0d60c8cde326",
   "metadata": {},
   "outputs": [],
   "source": [
    "df['animal'] = df['Visual check'].apply(antmal)"
   ]
  },
  {
   "cell_type": "code",
   "execution_count": 1196,
   "id": "3303b3d2-2d1c-4c1e-bbb1-24fef094fb99",
   "metadata": {},
   "outputs": [
    {
     "data": {
      "text/plain": [
       "Index(['year', 'MKG No.', 'Parts  and cover page', 'Finished date', 'Period',\n",
       "       'Part', 'Model', 'Serial', 'Drawing', 'Problem', 'Vender name',\n",
       "       'Visual check', 'Resitance check', 'Operation check by Jig', 'Judgment',\n",
       "       '  MKG No.', 'Parts  received from MKG',\n",
       "       'Finished basic investigation date', 'Send parts to supplier date',\n",
       "       'Part Name', 'Model Type', 'Resistance check', 'error_code', 'animal'],\n",
       "      dtype='object')"
      ]
     },
     "execution_count": 1196,
     "metadata": {},
     "output_type": "execute_result"
    }
   ],
   "source": [
    "df.columns"
   ]
  },
  {
   "cell_type": "code",
   "execution_count": 1197,
   "id": "43aa8558-fcde-437d-b4de-db9271652460",
   "metadata": {},
   "outputs": [
    {
     "data": {
      "text/html": [
       "<div>\n",
       "<style scoped>\n",
       "    .dataframe tbody tr th:only-of-type {\n",
       "        vertical-align: middle;\n",
       "    }\n",
       "\n",
       "    .dataframe tbody tr th {\n",
       "        vertical-align: top;\n",
       "    }\n",
       "\n",
       "    .dataframe thead th {\n",
       "        text-align: right;\n",
       "    }\n",
       "</style>\n",
       "<table border=\"1\" class=\"dataframe\">\n",
       "  <thead>\n",
       "    <tr style=\"text-align: right;\">\n",
       "      <th></th>\n",
       "      <th>year</th>\n",
       "      <th>MKG No.</th>\n",
       "      <th>Model</th>\n",
       "      <th>Serial</th>\n",
       "      <th>Drawing</th>\n",
       "      <th>error_code</th>\n",
       "      <th>animal</th>\n",
       "    </tr>\n",
       "  </thead>\n",
       "  <tbody>\n",
       "    <tr>\n",
       "      <th>0</th>\n",
       "      <td>2020</td>\n",
       "      <td>2210.0</td>\n",
       "      <td>2MKC30QVM4</td>\n",
       "      <td>E007339</td>\n",
       "      <td>2P438792-2</td>\n",
       "      <td>NaN</td>\n",
       "      <td>ant</td>\n",
       "    </tr>\n",
       "    <tr>\n",
       "      <th>1</th>\n",
       "      <td>2020</td>\n",
       "      <td>75.0</td>\n",
       "      <td>RKQ12TV2S</td>\n",
       "      <td>E007399</td>\n",
       "      <td>2P416384-10</td>\n",
       "      <td>NaN</td>\n",
       "      <td>lizard</td>\n",
       "    </tr>\n",
       "    <tr>\n",
       "      <th>2</th>\n",
       "      <td>2020</td>\n",
       "      <td>162.0</td>\n",
       "      <td>FTKQ15TV2S</td>\n",
       "      <td>E006048</td>\n",
       "      <td>2P406592-11</td>\n",
       "      <td>NaN</td>\n",
       "      <td>lizard</td>\n",
       "    </tr>\n",
       "    <tr>\n",
       "      <th>3</th>\n",
       "      <td>2020</td>\n",
       "      <td>204.0</td>\n",
       "      <td>FTKQ09TV2S</td>\n",
       "      <td>E002809</td>\n",
       "      <td>2P409592-11</td>\n",
       "      <td>A6</td>\n",
       "      <td>ant</td>\n",
       "    </tr>\n",
       "    <tr>\n",
       "      <th>4</th>\n",
       "      <td>2020</td>\n",
       "      <td>144.0</td>\n",
       "      <td>ARKC12RV2S</td>\n",
       "      <td>E009028</td>\n",
       "      <td>2P390290-1</td>\n",
       "      <td>L5</td>\n",
       "      <td>lizard</td>\n",
       "    </tr>\n",
       "    <tr>\n",
       "      <th>...</th>\n",
       "      <td>...</td>\n",
       "      <td>...</td>\n",
       "      <td>...</td>\n",
       "      <td>...</td>\n",
       "      <td>...</td>\n",
       "      <td>...</td>\n",
       "      <td>...</td>\n",
       "    </tr>\n",
       "    <tr>\n",
       "      <th>228</th>\n",
       "      <td>2022</td>\n",
       "      <td>NaN</td>\n",
       "      <td>RKZ12VV2S</td>\n",
       "      <td>E002061</td>\n",
       "      <td>2P582816-24</td>\n",
       "      <td>NaN</td>\n",
       "      <td>lizard</td>\n",
       "    </tr>\n",
       "    <tr>\n",
       "      <th>229</th>\n",
       "      <td>2022</td>\n",
       "      <td>NaN</td>\n",
       "      <td>RKQ15UV2S</td>\n",
       "      <td>E001163</td>\n",
       "      <td>2P582816-1</td>\n",
       "      <td>L5</td>\n",
       "      <td>lizard</td>\n",
       "    </tr>\n",
       "    <tr>\n",
       "      <th>230</th>\n",
       "      <td>2022</td>\n",
       "      <td>NaN</td>\n",
       "      <td>RKQ24UV2S</td>\n",
       "      <td>E007651</td>\n",
       "      <td>2P494704-13</td>\n",
       "      <td>E7</td>\n",
       "      <td>lizard</td>\n",
       "    </tr>\n",
       "    <tr>\n",
       "      <th>231</th>\n",
       "      <td>2022</td>\n",
       "      <td>NaN</td>\n",
       "      <td>FTKQ15UV2S</td>\n",
       "      <td>E003301</td>\n",
       "      <td>2P406592-11</td>\n",
       "      <td>NaN</td>\n",
       "      <td>lizard</td>\n",
       "    </tr>\n",
       "    <tr>\n",
       "      <th>232</th>\n",
       "      <td>2022</td>\n",
       "      <td>NaN</td>\n",
       "      <td>RZF30CY2S</td>\n",
       "      <td>E002296</td>\n",
       "      <td>2P441033-1</td>\n",
       "      <td>LC</td>\n",
       "      <td>lizard</td>\n",
       "    </tr>\n",
       "  </tbody>\n",
       "</table>\n",
       "<p>233 rows × 7 columns</p>\n",
       "</div>"
      ],
      "text/plain": [
       "     year  MKG No.       Model   Serial      Drawing error_code  animal\n",
       "0    2020   2210.0  2MKC30QVM4  E007339   2P438792-2        NaN     ant\n",
       "1    2020     75.0   RKQ12TV2S  E007399  2P416384-10        NaN  lizard\n",
       "2    2020    162.0  FTKQ15TV2S  E006048  2P406592-11        NaN  lizard\n",
       "3    2020    204.0  FTKQ09TV2S  E002809  2P409592-11         A6     ant\n",
       "4    2020    144.0  ARKC12RV2S  E009028   2P390290-1         L5  lizard\n",
       "..    ...      ...         ...      ...          ...        ...     ...\n",
       "228  2022      NaN   RKZ12VV2S  E002061  2P582816-24        NaN  lizard\n",
       "229  2022      NaN   RKQ15UV2S  E001163   2P582816-1         L5  lizard\n",
       "230  2022      NaN   RKQ24UV2S  E007651  2P494704-13         E7  lizard\n",
       "231  2022      NaN  FTKQ15UV2S  E003301  2P406592-11        NaN  lizard\n",
       "232  2022      NaN   RZF30CY2S  E002296   2P441033-1         LC  lizard\n",
       "\n",
       "[233 rows x 7 columns]"
      ]
     },
     "execution_count": 1197,
     "metadata": {},
     "output_type": "execute_result"
    }
   ],
   "source": [
    "df2 = df.loc[:,['year', 'MKG No.', 'Model', 'Serial', 'Drawing', 'error_code', 'animal']]\n",
    "df2"
   ]
  },
  {
   "cell_type": "code",
   "execution_count": 1198,
   "id": "3f206cd8-4d44-4f17-9ddb-d28c4c2e0b06",
   "metadata": {},
   "outputs": [
    {
     "data": {
      "text/plain": [
       "year  animal\n",
       "2020  ant       16\n",
       "      both       3\n",
       "      lizard    84\n",
       "2021  both       5\n",
       "      lizard    93\n",
       "2022  lizard    32\n",
       "Name: Serial, dtype: int64"
      ]
     },
     "execution_count": 1198,
     "metadata": {},
     "output_type": "execute_result"
    }
   ],
   "source": [
    "df.groupby(['year','animal'])['Serial'].count()"
   ]
  },
  {
   "cell_type": "code",
   "execution_count": 1199,
   "id": "48491dcc-d29d-402b-99c8-5ff17e5133c1",
   "metadata": {},
   "outputs": [],
   "source": [
    "model = pd.read_csv(r'D:\\Seksatta\\EQG\\dit_info\\model2.csv')\n",
    "model['model_name'] = model['model_name'].str.strip()"
   ]
  },
  {
   "cell_type": "code",
   "execution_count": 1200,
   "id": "949cda04-1113-4c1c-9cf4-14c7430e850d",
   "metadata": {},
   "outputs": [
    {
     "data": {
      "text/plain": [
       "Index(['Unnamed: 0', 'model_name', 'i_o', 'base_model', 'group'], dtype='object')"
      ]
     },
     "execution_count": 1200,
     "metadata": {},
     "output_type": "execute_result"
    }
   ],
   "source": [
    "model.columns"
   ]
  },
  {
   "cell_type": "markdown",
   "id": "ed79374d-7caf-42d5-a3de-b3483bd09715",
   "metadata": {},
   "source": [
    "**ข้อมูลจิ้งจก เก็บอยู่ใน df3**"
   ]
  },
  {
   "cell_type": "code",
   "execution_count": 1201,
   "id": "c5192844-6af3-4963-bfee-b68f8a648294",
   "metadata": {},
   "outputs": [
    {
     "data": {
      "text/plain": [
       "Index(['year', 'MKG No.', 'Model', 'Serial', 'Drawing', 'error_code',\n",
       "       'animal'],\n",
       "      dtype='object')"
      ]
     },
     "execution_count": 1201,
     "metadata": {},
     "output_type": "execute_result"
    }
   ],
   "source": [
    "df2.columns"
   ]
  },
  {
   "cell_type": "code",
   "execution_count": 1203,
   "id": "289db7f9-c760-413a-a1f3-8397a6515be7",
   "metadata": {},
   "outputs": [],
   "source": [
    "df3 = pd.merge(df2, model[['model_name', 'base_model','group', 'i_o']], left_on='Model', right_on='model_name', how='left')\n"
   ]
  },
  {
   "cell_type": "code",
   "execution_count": 1207,
   "id": "3b765948-05b0-49b3-af44-fa5b01ee5f64",
   "metadata": {},
   "outputs": [
    {
     "data": {
      "text/html": [
       "<div>\n",
       "<style scoped>\n",
       "    .dataframe tbody tr th:only-of-type {\n",
       "        vertical-align: middle;\n",
       "    }\n",
       "\n",
       "    .dataframe tbody tr th {\n",
       "        vertical-align: top;\n",
       "    }\n",
       "\n",
       "    .dataframe thead th {\n",
       "        text-align: right;\n",
       "    }\n",
       "</style>\n",
       "<table border=\"1\" class=\"dataframe\">\n",
       "  <thead>\n",
       "    <tr style=\"text-align: right;\">\n",
       "      <th></th>\n",
       "      <th>year</th>\n",
       "      <th>MKG No.</th>\n",
       "      <th>Model</th>\n",
       "      <th>Serial</th>\n",
       "      <th>Drawing</th>\n",
       "      <th>error_code</th>\n",
       "      <th>animal</th>\n",
       "      <th>model_name</th>\n",
       "      <th>base_model</th>\n",
       "      <th>group</th>\n",
       "      <th>i_o</th>\n",
       "    </tr>\n",
       "  </thead>\n",
       "  <tbody>\n",
       "    <tr>\n",
       "      <th>0</th>\n",
       "      <td>2020</td>\n",
       "      <td>2210.0</td>\n",
       "      <td>2MKC30QVM4</td>\n",
       "      <td>E007339</td>\n",
       "      <td>2P438792-2</td>\n",
       "      <td>NaN</td>\n",
       "      <td>ant</td>\n",
       "      <td>2MKC30QVM4</td>\n",
       "      <td>BMS</td>\n",
       "      <td>RA</td>\n",
       "      <td>o</td>\n",
       "    </tr>\n",
       "    <tr>\n",
       "      <th>1</th>\n",
       "      <td>2020</td>\n",
       "      <td>75.0</td>\n",
       "      <td>RKQ12TV2S</td>\n",
       "      <td>E007399</td>\n",
       "      <td>2P416384-10</td>\n",
       "      <td>NaN</td>\n",
       "      <td>lizard</td>\n",
       "      <td>RKQ12TV2S</td>\n",
       "      <td>GSI</td>\n",
       "      <td>RA</td>\n",
       "      <td>o</td>\n",
       "    </tr>\n",
       "    <tr>\n",
       "      <th>2</th>\n",
       "      <td>2020</td>\n",
       "      <td>162.0</td>\n",
       "      <td>FTKQ15TV2S</td>\n",
       "      <td>E006048</td>\n",
       "      <td>2P406592-11</td>\n",
       "      <td>NaN</td>\n",
       "      <td>lizard</td>\n",
       "      <td>FTKQ15TV2S</td>\n",
       "      <td>BMS</td>\n",
       "      <td>RA</td>\n",
       "      <td>i</td>\n",
       "    </tr>\n",
       "    <tr>\n",
       "      <th>3</th>\n",
       "      <td>2020</td>\n",
       "      <td>204.0</td>\n",
       "      <td>FTKQ09TV2S</td>\n",
       "      <td>E002809</td>\n",
       "      <td>2P409592-11</td>\n",
       "      <td>A6</td>\n",
       "      <td>ant</td>\n",
       "      <td>FTKQ09TV2S</td>\n",
       "      <td>BMS</td>\n",
       "      <td>RA</td>\n",
       "      <td>i</td>\n",
       "    </tr>\n",
       "    <tr>\n",
       "      <th>4</th>\n",
       "      <td>2020</td>\n",
       "      <td>144.0</td>\n",
       "      <td>ARKC12RV2S</td>\n",
       "      <td>E009028</td>\n",
       "      <td>2P390290-1</td>\n",
       "      <td>L5</td>\n",
       "      <td>lizard</td>\n",
       "      <td>ARKC12RV2S</td>\n",
       "      <td>GSI</td>\n",
       "      <td>RA</td>\n",
       "      <td>o</td>\n",
       "    </tr>\n",
       "    <tr>\n",
       "      <th>...</th>\n",
       "      <td>...</td>\n",
       "      <td>...</td>\n",
       "      <td>...</td>\n",
       "      <td>...</td>\n",
       "      <td>...</td>\n",
       "      <td>...</td>\n",
       "      <td>...</td>\n",
       "      <td>...</td>\n",
       "      <td>...</td>\n",
       "      <td>...</td>\n",
       "      <td>...</td>\n",
       "    </tr>\n",
       "    <tr>\n",
       "      <th>228</th>\n",
       "      <td>2022</td>\n",
       "      <td>NaN</td>\n",
       "      <td>RKZ12VV2S</td>\n",
       "      <td>E002061</td>\n",
       "      <td>2P582816-24</td>\n",
       "      <td>NaN</td>\n",
       "      <td>lizard</td>\n",
       "      <td>RKZ12VV2S</td>\n",
       "      <td>BMS</td>\n",
       "      <td>RA</td>\n",
       "      <td>o</td>\n",
       "    </tr>\n",
       "    <tr>\n",
       "      <th>229</th>\n",
       "      <td>2022</td>\n",
       "      <td>NaN</td>\n",
       "      <td>RKQ15UV2S</td>\n",
       "      <td>E001163</td>\n",
       "      <td>2P582816-1</td>\n",
       "      <td>L5</td>\n",
       "      <td>lizard</td>\n",
       "      <td>RKQ15UV2S</td>\n",
       "      <td>BMS</td>\n",
       "      <td>RA</td>\n",
       "      <td>o</td>\n",
       "    </tr>\n",
       "    <tr>\n",
       "      <th>230</th>\n",
       "      <td>2022</td>\n",
       "      <td>NaN</td>\n",
       "      <td>RKQ24UV2S</td>\n",
       "      <td>E007651</td>\n",
       "      <td>2P494704-13</td>\n",
       "      <td>E7</td>\n",
       "      <td>lizard</td>\n",
       "      <td>RKQ24UV2S</td>\n",
       "      <td>SF2</td>\n",
       "      <td>RA</td>\n",
       "      <td>o</td>\n",
       "    </tr>\n",
       "    <tr>\n",
       "      <th>231</th>\n",
       "      <td>2022</td>\n",
       "      <td>NaN</td>\n",
       "      <td>FTKQ15UV2S</td>\n",
       "      <td>E003301</td>\n",
       "      <td>2P406592-11</td>\n",
       "      <td>NaN</td>\n",
       "      <td>lizard</td>\n",
       "      <td>FTKQ15UV2S</td>\n",
       "      <td>BMS</td>\n",
       "      <td>RA</td>\n",
       "      <td>i</td>\n",
       "    </tr>\n",
       "    <tr>\n",
       "      <th>232</th>\n",
       "      <td>2022</td>\n",
       "      <td>NaN</td>\n",
       "      <td>RZF30CY2S</td>\n",
       "      <td>E002296</td>\n",
       "      <td>2P441033-1</td>\n",
       "      <td>LC</td>\n",
       "      <td>lizard</td>\n",
       "      <td>RZF30CY2S</td>\n",
       "      <td>BML-C</td>\n",
       "      <td>SKY</td>\n",
       "      <td>o</td>\n",
       "    </tr>\n",
       "  </tbody>\n",
       "</table>\n",
       "<p>233 rows × 11 columns</p>\n",
       "</div>"
      ],
      "text/plain": [
       "     year  MKG No.       Model   Serial      Drawing error_code  animal  \\\n",
       "0    2020   2210.0  2MKC30QVM4  E007339   2P438792-2        NaN     ant   \n",
       "1    2020     75.0   RKQ12TV2S  E007399  2P416384-10        NaN  lizard   \n",
       "2    2020    162.0  FTKQ15TV2S  E006048  2P406592-11        NaN  lizard   \n",
       "3    2020    204.0  FTKQ09TV2S  E002809  2P409592-11         A6     ant   \n",
       "4    2020    144.0  ARKC12RV2S  E009028   2P390290-1         L5  lizard   \n",
       "..    ...      ...         ...      ...          ...        ...     ...   \n",
       "228  2022      NaN   RKZ12VV2S  E002061  2P582816-24        NaN  lizard   \n",
       "229  2022      NaN   RKQ15UV2S  E001163   2P582816-1         L5  lizard   \n",
       "230  2022      NaN   RKQ24UV2S  E007651  2P494704-13         E7  lizard   \n",
       "231  2022      NaN  FTKQ15UV2S  E003301  2P406592-11        NaN  lizard   \n",
       "232  2022      NaN   RZF30CY2S  E002296   2P441033-1         LC  lizard   \n",
       "\n",
       "     model_name base_model group i_o  \n",
       "0    2MKC30QVM4        BMS    RA   o  \n",
       "1     RKQ12TV2S        GSI    RA   o  \n",
       "2    FTKQ15TV2S        BMS    RA   i  \n",
       "3    FTKQ09TV2S        BMS    RA   i  \n",
       "4    ARKC12RV2S        GSI    RA   o  \n",
       "..          ...        ...   ...  ..  \n",
       "228   RKZ12VV2S        BMS    RA   o  \n",
       "229   RKQ15UV2S        BMS    RA   o  \n",
       "230   RKQ24UV2S        SF2    RA   o  \n",
       "231  FTKQ15UV2S        BMS    RA   i  \n",
       "232   RZF30CY2S      BML-C   SKY   o  \n",
       "\n",
       "[233 rows x 11 columns]"
      ]
     },
     "execution_count": 1207,
     "metadata": {},
     "output_type": "execute_result"
    }
   ],
   "source": [
    "df3"
   ]
  },
  {
   "cell_type": "code",
   "execution_count": 1209,
   "id": "5be17166-f37d-448a-bfa9-9736efab07e6",
   "metadata": {},
   "outputs": [
    {
     "name": "stdout",
     "output_type": "stream",
     "text": [
      "<class 'pandas.core.frame.DataFrame'>\n",
      "RangeIndex: 233 entries, 0 to 232\n",
      "Data columns (total 11 columns):\n",
      " #   Column      Non-Null Count  Dtype  \n",
      "---  ------      --------------  -----  \n",
      " 0   year        233 non-null    int64  \n",
      " 1   MKG No.     201 non-null    float64\n",
      " 2   Model       233 non-null    object \n",
      " 3   Serial      233 non-null    object \n",
      " 4   Drawing     233 non-null    object \n",
      " 5   error_code  104 non-null    object \n",
      " 6   animal      233 non-null    object \n",
      " 7   model_name  229 non-null    object \n",
      " 8   base_model  229 non-null    object \n",
      " 9   group       229 non-null    object \n",
      " 10  i_o         229 non-null    object \n",
      "dtypes: float64(1), int64(1), object(9)\n",
      "memory usage: 20.2+ KB\n"
     ]
    }
   ],
   "source": [
    "df3.info()"
   ]
  },
  {
   "cell_type": "code",
   "execution_count": 1220,
   "id": "05f2c9ba-83fc-44b4-9172-fd32493bf19c",
   "metadata": {},
   "outputs": [],
   "source": [
    "df4 = df3.groupby(['year','group', 'i_o','animal'])['Serial'].size().reset_index()\n",
    "df4.rename(columns = {'Serial':'count'}, inplace=True)"
   ]
  },
  {
   "cell_type": "code",
   "execution_count": 1222,
   "id": "b0669e8c-6edf-4e5b-8b9b-a7f660e93e2f",
   "metadata": {},
   "outputs": [],
   "source": [
    "df4['i_o'] = df4.i_o.map({'i':'indoor', \n",
    "            'o':'outdoor'})"
   ]
  },
  {
   "cell_type": "code",
   "execution_count": 1219,
   "id": "45f93fbb-38f5-4698-a022-8897eda0d8f1",
   "metadata": {},
   "outputs": [],
   "source": [
    "df4.to_excel(r'pcb_lizard_ant.xlsx')"
   ]
  }
 ],
 "metadata": {
  "kernelspec": {
   "display_name": "Python 3 (ipykernel)",
   "language": "python",
   "name": "python3"
  },
  "language_info": {
   "codemirror_mode": {
    "name": "ipython",
    "version": 3
   },
   "file_extension": ".py",
   "mimetype": "text/x-python",
   "name": "python",
   "nbconvert_exporter": "python",
   "pygments_lexer": "ipython3",
   "version": "3.12.0"
  }
 },
 "nbformat": 4,
 "nbformat_minor": 5
}
