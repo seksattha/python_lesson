{
 "cells": [
  {
   "cell_type": "code",
   "execution_count": 2,
   "id": "7a11c54d-a1de-46a3-b2c2-088f3004c56a",
   "metadata": {},
   "outputs": [],
   "source": [
    "import pandas as pd\n",
    "import numpy as np\n",
    "import matplotlib.pyplot as plt"
   ]
  },
  {
   "cell_type": "code",
   "execution_count": 3,
   "id": "314d330a-35c6-4c7b-9915-e9faa0e11cb3",
   "metadata": {},
   "outputs": [],
   "source": [
    "url = r\"C:\\Users\\seksatta\\Desktop\\masterlist.xlsx\""
   ]
  },
  {
   "cell_type": "code",
   "execution_count": 4,
   "id": "3c2a348a-37e1-48d1-a950-8e840e4b5b4c",
   "metadata": {},
   "outputs": [],
   "source": [
    "df = pd.read_excel(url, skiprows=6, \n",
    "                  parse_dates=True)\n"
   ]
  },
  {
   "cell_type": "code",
   "execution_count": 5,
   "id": "618b2d50-0bbe-4dc5-87d0-a2c165aeaeb8",
   "metadata": {},
   "outputs": [],
   "source": [
    "df.columns = df.columns.str.lower()\n",
    "df.columns = df.columns.str.lower().str.replace(\"\\n\",\"  \")\n",
    "df.columns = df.columns.str.lower().str.replace(r' ','_')"
   ]
  },
  {
   "cell_type": "code",
   "execution_count": 6,
   "id": "d07ab7cf-9a48-4f72-acc9-5e720b9fedbe",
   "metadata": {},
   "outputs": [],
   "source": [
    "df['error_code'] = df['problem'].str.extract(r'(\\b[A-Z]\\d{1})(?<!-)')\n"
   ]
  },
  {
   "cell_type": "markdown",
   "id": "de96560b-8a06-4de3-8b78-d806b32e402e",
   "metadata": {},
   "source": [
    "# Cleaning up date"
   ]
  },
  {
   "cell_type": "markdown",
   "id": "ac45319c-d12d-440a-86ce-3c42bb3ab9f2",
   "metadata": {},
   "source": [
    "อันนี้ดีเอาไว้ check ได้"
   ]
  },
  {
   "cell_type": "code",
   "execution_count": 7,
   "id": "46c1d398-591b-4e48-ad8a-ef0d954d7494",
   "metadata": {},
   "outputs": [],
   "source": [
    "df.rename(columns = {'parts__and_cover_page__received_date':'received_date'}, inplace = True)"
   ]
  },
  {
   "cell_type": "code",
   "execution_count": 8,
   "id": "a91f35d2-77af-4ef2-91e4-c220b0779db4",
   "metadata": {},
   "outputs": [],
   "source": [
    "def check_date_format(date_str):\n",
    "    try:\n",
    "        pd.to_datetime(date_str, format='%Y-%m-%d %H:%M:%S')\n",
    "        return True\n",
    "    except ValueError:\n",
    "        return False"
   ]
  },
  {
   "cell_type": "code",
   "execution_count": 9,
   "id": "9acb1fd1-9ea7-4d50-8f47-b2e0f2ed519b",
   "metadata": {},
   "outputs": [],
   "source": [
    "df['received_date'] = df['received_date'].apply(lambda x: np.nan if x == '-' else x)"
   ]
  },
  {
   "cell_type": "code",
   "execution_count": 10,
   "id": "f857c32c-cf1e-4533-84f2-7d1bed365a42",
   "metadata": {},
   "outputs": [
    {
     "name": "stdout",
     "output_type": "stream",
     "text": [
      "Invalid dates:\n",
      "Empty DataFrame\n",
      "Columns: [no., received_date, actual_received_parts, basic_investigate__received_date, plan_to_finished_basic_investigation_date, plan__send__date, actual___send__date, plan_of_analysis_start_date, doc._no., production_date, installation_date, problem_date, part_name, drawing, supplier_name, problem, model, serial, model_type, model_group, customer, urgent, normal, initial, spare_parts, concern__big_problem, gib_no, status, eqg, mkg, mkg_cover__reply_date_, due_date_for_supplier__(ref._std__lt), plan_of_submit_report_to_mkg, report, final_report, date_of_remain_for_analysis__(ref._std__lt), control_analysis_lt__(ref._std__lt), lt__usage_workday, diff_from_due_date_(workday), checking_result___from_supplier_ok/ng, cause, part_ng, remark, error_code]\n",
      "Index: []\n",
      "\n",
      "[0 rows x 44 columns]\n"
     ]
    }
   ],
   "source": [
    "invalid_dates = df[~df['received_date'].apply(check_date_format)]\n",
    "print(\"Invalid dates:\")\n",
    "print(invalid_dates)"
   ]
  },
  {
   "cell_type": "markdown",
   "id": "c4041391-ed80-462f-9405-b26ca9792388",
   "metadata": {},
   "source": [
    " Change to str to datetime type"
   ]
  },
  {
   "cell_type": "code",
   "execution_count": 11,
   "id": "eee559ba-f42f-4913-89e2-57781f45536e",
   "metadata": {},
   "outputs": [],
   "source": [
    "df['received_date'] = pd.to_datetime(df['received_date'] ,format = '%Y')"
   ]
  },
  {
   "cell_type": "code",
   "execution_count": 25,
   "id": "a3cfd4d5-f7b7-422d-a637-07374d7ca9f7",
   "metadata": {},
   "outputs": [],
   "source": [
    "df['year'] = df['received_date'].dt.year\n",
    "df['year'] = df['year'].fillna(0).astype(int)"
   ]
  },
  {
   "cell_type": "code",
   "execution_count": 13,
   "id": "4f1dbb20-bd50-4d70-92fe-ab4d126bf862",
   "metadata": {},
   "outputs": [],
   "source": [
    "df_pcb = df[df['part_name'].str.contains(r'\\bPCB(?<!Thermistor)', case= False, regex=True)]\n",
    "df_pcb.reset_index(inplace=True)\n"
   ]
  },
  {
   "cell_type": "code",
   "execution_count": 21,
   "id": "f03ac397-a248-46fb-8672-133ca957686f",
   "metadata": {},
   "outputs": [],
   "source": [
    "g = df_pcb.groupby('year')['mkg'].count()"
   ]
  },
  {
   "cell_type": "code",
   "execution_count": 23,
   "id": "dc16bec2-cf44-4723-9285-1a56f0ea80f5",
   "metadata": {},
   "outputs": [
    {
     "data": {
      "text/plain": [
       "Text(0, 0.5, 'qty of failure [pcs]')"
      ]
     },
     "execution_count": 23,
     "metadata": {},
     "output_type": "execute_result"
    },
    {
     "data": {
      "image/png": "[encoded data removed]",
      "text/plain": [
       "<Figure size 640x480 with 1 Axes>"
      ]
     },
     "metadata": {},
     "output_type": "display_data"
    }
   ],
   "source": [
    "g.plot(kind='bar');\n",
    "plt.ylabel(\"qty of failure [pcs]\")"
   ]
  },
  {
   "cell_type": "code",
   "execution_count": 144,
   "id": "674a40e0-a8fc-4e87-a2f0-02be558336f1",
   "metadata": {},
   "outputs": [],
   "source": [
    "g1 = df.groupby(['year','error_code'])['mkg'].count().reset_index()"
   ]
  },
  {
   "cell_type": "code",
   "execution_count": 145,
   "id": "472aff37-2e16-418a-b937-e6952f1038d8",
   "metadata": {},
   "outputs": [],
   "source": [
    "def get_top_5(group):\n",
    "    return group.nlargest(5, 'mkg')\n"
   ]
  },
  {
   "cell_type": "code",
   "execution_count": 146,
   "id": "c1938a19-43fa-4fd4-872e-b5627a2e3cf5",
   "metadata": {},
   "outputs": [
    {
     "name": "stderr",
     "output_type": "stream",
     "text": [
      "C:\\Users\\seksatta\\AppData\\Local\\Temp\\ipykernel_21368\\3711007168.py:1: DeprecationWarning: DataFrameGroupBy.apply operated on the grouping columns. This behavior is deprecated, and in a future version of pandas the grouping columns will be excluded from the operation. Either pass `include_groups=False` to exclude the groupings or explicitly select the grouping columns after groupby to silence this warning.\n",
      "  top_5_each_year = g1.groupby('year').apply(get_top_5).reset_index(drop=True)\n"
     ]
    }
   ],
   "source": [
    "top_5_each_year = g1.groupby('year').apply(get_top_5).reset_index(drop=True)\n"
   ]
  },
  {
   "cell_type": "code",
   "execution_count": 148,
   "id": "ba8c0716-1a30-4353-974f-e282ec41bef8",
   "metadata": {},
   "outputs": [],
   "source": [
    "pivot_df = top_5_each_year.pivot(index='year', columns='error_code', values='mkg').fillna(0)\n"
   ]
  },
  {
   "cell_type": "code",
   "execution_count": 149,
   "id": "4f4b32f4-b95a-42d2-b428-04560609d559",
   "metadata": {},
   "outputs": [
    {
     "data": {
      "image/png": "[encoded data removed]",
      "text/plain": [
       "<Figure size 1000x600 with 1 Axes>"
      ]
     },
     "metadata": {},
     "output_type": "display_data"
    }
   ],
   "source": [
    "pivot_df.plot(kind='bar', stacked=True, figsize=(10, 6))\n",
    "\n",
    "# Customize the plot\n",
    "plt.xlabel('Year')\n",
    "plt.ylabel('Count of mkg')\n",
    "plt.title('Top 5 Error Codes per Year')\n",
    "plt.legend(title='Error Code')\n",
    "plt.xticks(rotation=0)\n",
    "plt.tight_layout()"
   ]
  },
  {
   "cell_type": "code",
   "execution_count": null,
   "id": "1f2dc3b0-4b10-456f-a1d7-ed1bb44113a5",
   "metadata": {},
   "outputs": [],
   "source": []
  }
 ],
 "metadata": {
  "kernelspec": {
   "display_name": "Python 3 (ipykernel)",
   "language": "python",
   "name": "python3"
  },
  "language_info": {
   "codemirror_mode": {
    "name": "ipython",
    "version": 3
   },
   "file_extension": ".py",
   "mimetype": "text/x-python",
   "name": "python",
   "nbconvert_exporter": "python",
   "pygments_lexer": "ipython3",
   "version": "3.12.0"
  }
 },
 "nbformat": 4,
 "nbformat_minor": 5
}
