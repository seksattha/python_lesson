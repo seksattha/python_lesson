{
 "cells": [
  {
   "cell_type": "code",
   "execution_count": 6,
   "id": "7a11c54d-a1de-46a3-b2c2-088f3004c56a",
   "metadata": {},
   "outputs": [],
   "source": [
    "import pandas as pd\n",
    "import numpy as np\n",
    "import matplotlib.pyplot as plt\n",
    "import sqlite3"
   ]
  },
  {
   "cell_type": "code",
   "execution_count": 7,
   "id": "314d330a-35c6-4c7b-9915-e9faa0e11cb3",
   "metadata": {},
   "outputs": [],
   "source": [
    "url = r\"C:\\Users\\seksatta\\Desktop\\masterlist.xlsx\""
   ]
  },
  {
   "cell_type": "code",
   "execution_count": 8,
   "id": "3c2a348a-37e1-48d1-a950-8e840e4b5b4c",
   "metadata": {},
   "outputs": [],
   "source": [
    "df = pd.read_excel(url, skiprows=6, \n",
    "                  parse_dates=True)\n"
   ]
  },
  {
   "cell_type": "code",
   "execution_count": 9,
   "id": "618b2d50-0bbe-4dc5-87d0-a2c165aeaeb8",
   "metadata": {},
   "outputs": [],
   "source": [
    "df.columns = df.columns.str.lower()\n",
    "df.columns = df.columns.str.lower().str.replace(\"\\n\",\"  \")\n",
    "df.columns = df.columns.str.lower().str.replace(r' ','_')"
   ]
  },
  {
   "cell_type": "code",
   "execution_count": 10,
   "id": "d07ab7cf-9a48-4f72-acc9-5e720b9fedbe",
   "metadata": {},
   "outputs": [],
   "source": [
    "df['error_code'] = df['problem'].str.extract(r'(\\b[A-Z]\\d{1})(?<!-)')\n"
   ]
  },
  {
   "cell_type": "markdown",
   "id": "de96560b-8a06-4de3-8b78-d806b32e402e",
   "metadata": {},
   "source": [
    "# Cleaning up date"
   ]
  },
  {
   "cell_type": "markdown",
   "id": "ac45319c-d12d-440a-86ce-3c42bb3ab9f2",
   "metadata": {},
   "source": [
    "อันนี้ดีเอาไว้ check ได้"
   ]
  },
  {
   "cell_type": "code",
   "execution_count": 11,
   "id": "46c1d398-591b-4e48-ad8a-ef0d954d7494",
   "metadata": {},
   "outputs": [],
   "source": [
    "df.rename(columns = {'parts__and_cover_page__received_date':'received_date'}, inplace = True)"
   ]
  },
  {
   "cell_type": "code",
   "execution_count": 12,
   "id": "a91f35d2-77af-4ef2-91e4-c220b0779db4",
   "metadata": {},
   "outputs": [],
   "source": [
    "def check_date_format(date_str):\n",
    "    try:\n",
    "        pd.to_datetime(date_str, format='%Y-%m-%d %H:%M:%S')\n",
    "        return True\n",
    "    except ValueError:\n",
    "        return False"
   ]
  },
  {
   "cell_type": "code",
   "execution_count": 13,
   "id": "9acb1fd1-9ea7-4d50-8f47-b2e0f2ed519b",
   "metadata": {},
   "outputs": [],
   "source": [
    "df['received_date'] = df['received_date'].apply(lambda x: np.nan if x == '-' else x)"
   ]
  },
  {
   "cell_type": "code",
   "execution_count": 14,
   "id": "f857c32c-cf1e-4533-84f2-7d1bed365a42",
   "metadata": {},
   "outputs": [
    {
     "name": "stdout",
     "output_type": "stream",
     "text": [
      "Invalid dates:\n",
      "Empty DataFrame\n",
      "Columns: [no., received_date, actual_received_parts, basic_investigate__received_date, plan_to_finished_basic_investigation_date, plan__send__date, actual___send__date, plan_of_analysis_start_date, doc._no., production_date, installation_date, problem_date, part_name, drawing, supplier_name, problem, model, serial, model_type, model_group, customer, urgent, normal, initial, spare_parts, concern__big_problem, gib_no, status, eqg, mkg, mkg_cover__reply_date_, due_date_for_supplier__(ref._std__lt), plan_of_submit_report_to_mkg, report, final_report, date_of_remain_for_analysis__(ref._std__lt), control_analysis_lt__(ref._std__lt), lt__usage_workday, diff_from_due_date_(workday), checking_result___from_supplier_ok/ng, cause, part_ng, remark, error_code]\n",
      "Index: []\n",
      "\n",
      "[0 rows x 44 columns]\n"
     ]
    }
   ],
   "source": [
    "invalid_dates = df[~df['received_date'].apply(check_date_format)]\n",
    "print(\"Invalid dates:\")\n",
    "print(invalid_dates)"
   ]
  },
  {
   "cell_type": "markdown",
   "id": "c4041391-ed80-462f-9405-b26ca9792388",
   "metadata": {},
   "source": [
    " Change to str to datetime type"
   ]
  },
  {
   "cell_type": "code",
   "execution_count": 15,
   "id": "eee559ba-f42f-4913-89e2-57781f45536e",
   "metadata": {},
   "outputs": [],
   "source": [
    "df['received_date'] = pd.to_datetime(df['received_date'] ,format = '%Y')"
   ]
  },
  {
   "cell_type": "code",
   "execution_count": 16,
   "id": "a3cfd4d5-f7b7-422d-a637-07374d7ca9f7",
   "metadata": {},
   "outputs": [],
   "source": [
    "df['year'] = df['received_date'].dt.year\n",
    "df['year'] = df['year'].fillna(0).astype(int)"
   ]
  },
  {
   "cell_type": "code",
   "execution_count": 17,
   "id": "4f1dbb20-bd50-4d70-92fe-ab4d126bf862",
   "metadata": {},
   "outputs": [],
   "source": [
    "df_pcb = df[df['part_name'].str.contains(r'\\bPCB(?<!Thermistor)', case= False, regex=True)]\n",
    "df_pcb.reset_index(inplace=True)\n"
   ]
  },
  {
   "cell_type": "code",
   "execution_count": 18,
   "id": "f03ac397-a248-46fb-8672-133ca957686f",
   "metadata": {},
   "outputs": [],
   "source": [
    "g = df_pcb.groupby('year')['mkg'].count()"
   ]
  },
  {
   "cell_type": "code",
   "execution_count": 19,
   "id": "dc16bec2-cf44-4723-9285-1a56f0ea80f5",
   "metadata": {},
   "outputs": [
    {
     "data": {
      "text/plain": [
       "Text(0, 0.5, 'qty of failure [pcs]')"
      ]
     },
     "execution_count": 19,
     "metadata": {},
     "output_type": "execute_result"
    },
    {
     "data": {
      "image/png": "[encoded data removed]",
      "text/plain": [
       "<Figure size 640x480 with 1 Axes>"
      ]
     },
     "metadata": {},
     "output_type": "display_data"
    }
   ],
   "source": [
    "g.plot(kind='bar');\n",
    "plt.ylabel(\"qty of failure [pcs]\")"
   ]
  },
  {
   "cell_type": "code",
   "execution_count": 20,
   "id": "674a40e0-a8fc-4e87-a2f0-02be558336f1",
   "metadata": {},
   "outputs": [],
   "source": [
    "g1 = df_pcb.groupby(['year','error_code'])['mkg'].count().reset_index()"
   ]
  },
  {
   "cell_type": "code",
   "execution_count": 21,
   "id": "472aff37-2e16-418a-b937-e6952f1038d8",
   "metadata": {},
   "outputs": [],
   "source": [
    "def get_top_5(group):\n",
    "    return group.nlargest(5, 'mkg')\n"
   ]
  },
  {
   "cell_type": "code",
   "execution_count": 22,
   "id": "c1938a19-43fa-4fd4-872e-b5627a2e3cf5",
   "metadata": {},
   "outputs": [
    {
     "name": "stderr",
     "output_type": "stream",
     "text": [
      "C:\\Users\\seksatta\\AppData\\Local\\Temp\\ipykernel_21328\\3711007168.py:1: DeprecationWarning: DataFrameGroupBy.apply operated on the grouping columns. This behavior is deprecated, and in a future version of pandas the grouping columns will be excluded from the operation. Either pass `include_groups=False` to exclude the groupings or explicitly select the grouping columns after groupby to silence this warning.\n",
      "  top_5_each_year = g1.groupby('year').apply(get_top_5).reset_index(drop=True)\n"
     ]
    }
   ],
   "source": [
    "top_5_each_year = g1.groupby('year').apply(get_top_5).reset_index(drop=True)\n"
   ]
  },
  {
   "cell_type": "code",
   "execution_count": 23,
   "id": "ba8c0716-1a30-4353-974f-e282ec41bef8",
   "metadata": {},
   "outputs": [],
   "source": [
    "pivot_df = top_5_each_year.pivot(index='year', columns='error_code', values='mkg').fillna(0)\n"
   ]
  },
  {
   "cell_type": "code",
   "execution_count": 24,
   "id": "4f4b32f4-b95a-42d2-b428-04560609d559",
   "metadata": {},
   "outputs": [
    {
     "data": {
      "image/png": "[encoded data removed]",
      "text/plain": [
       "<Figure size 1000x600 with 1 Axes>"
      ]
     },
     "metadata": {},
     "output_type": "display_data"
    }
   ],
   "source": [
    "pivot_df.plot(kind='bar', stacked=True, figsize=(10, 6))\n",
    "\n",
    "# Customize the plot\n",
    "plt.xlabel('Year')\n",
    "plt.ylabel('Count of mkg')\n",
    "plt.title('Top 5 Error Codes per Year')\n",
    "plt.legend(title='Error Code')\n",
    "plt.xticks(rotation=0)\n",
    "plt.tight_layout()"
   ]
  },
  {
   "cell_type": "code",
   "execution_count": 25,
   "id": "1f2dc3b0-4b10-456f-a1d7-ed1bb44113a5",
   "metadata": {},
   "outputs": [],
   "source": [
    "try:\n",
    "    # Replace 'model_dit.db' with the correct path to your database file\n",
    "    with sqlite3.connect('model_dit.db') as conn:\n",
    "        # SQL command to select all data from the dit_model table\n",
    "        sql_comd = \"SELECT * FROM dit_model\"\n",
    "        \n",
    "        # Execute the SQL command and read the data into a pandas DataFrame\n",
    "        df3 = pd.read_sql_query(sql_comd, conn)\n",
    "        \n",
    "        # Display the first few rows of the DataFrame\n",
    "       \n",
    "\n",
    "except Exception as e:\n",
    "    print(f\"An error occurred: {e}\")"
   ]
  },
  {
   "cell_type": "markdown",
   "id": "9573a86f-325d-42dd-b457-f0d0d0156ee0",
   "metadata": {},
   "source": [
    "## Left join between df_pcb and df3 "
   ]
  },
  {
   "cell_type": "code",
   "execution_count": 28,
   "id": "2b425281-5858-4548-9fed-214a58403c7f",
   "metadata": {},
   "outputs": [
    {
     "data": {
      "text/html": [
       "<div>\n",
       "<style scoped>\n",
       "    .dataframe tbody tr th:only-of-type {\n",
       "        vertical-align: middle;\n",
       "    }\n",
       "\n",
       "    .dataframe tbody tr th {\n",
       "        vertical-align: top;\n",
       "    }\n",
       "\n",
       "    .dataframe thead th {\n",
       "        text-align: right;\n",
       "    }\n",
       "</style>\n",
       "<table border=\"1\" class=\"dataframe\">\n",
       "  <thead>\n",
       "    <tr style=\"text-align: right;\">\n",
       "      <th></th>\n",
       "      <th>model_name</th>\n",
       "      <th>base_model</th>\n",
       "      <th>group</th>\n",
       "    </tr>\n",
       "  </thead>\n",
       "  <tbody>\n",
       "    <tr>\n",
       "      <th>10533</th>\n",
       "      <td>CTKM25PV14</td>\n",
       "      <td>BMS</td>\n",
       "      <td>RA</td>\n",
       "    </tr>\n",
       "    <tr>\n",
       "      <th>10544</th>\n",
       "      <td>FXFQ50AV4</td>\n",
       "      <td>SENSING_FLOW</td>\n",
       "      <td>VRV</td>\n",
       "    </tr>\n",
       "    <tr>\n",
       "      <th>11586</th>\n",
       "      <td>FXDQ18MVJU</td>\n",
       "      <td>VRV_SLIMDUCT</td>\n",
       "      <td>VRV</td>\n",
       "    </tr>\n",
       "    <tr>\n",
       "      <th>8851</th>\n",
       "      <td>RXQ6TAYME</td>\n",
       "      <td>VRV4-VRT</td>\n",
       "      <td>VRV</td>\n",
       "    </tr>\n",
       "    <tr>\n",
       "      <th>6042</th>\n",
       "      <td>ARKH35CAVMB</td>\n",
       "      <td>GMS5</td>\n",
       "      <td>RA</td>\n",
       "    </tr>\n",
       "    <tr>\n",
       "      <th>4242</th>\n",
       "      <td>AN45FV1</td>\n",
       "      <td></td>\n",
       "      <td></td>\n",
       "    </tr>\n",
       "    <tr>\n",
       "      <th>9601</th>\n",
       "      <td>FTXS18WVJU9</td>\n",
       "      <td>NW-M III</td>\n",
       "      <td>RA</td>\n",
       "    </tr>\n",
       "    <tr>\n",
       "      <th>3297</th>\n",
       "      <td>TWK524GBAA0</td>\n",
       "      <td></td>\n",
       "      <td></td>\n",
       "    </tr>\n",
       "    <tr>\n",
       "      <th>10025</th>\n",
       "      <td>RZR125MYM</td>\n",
       "      <td>ZEAS7</td>\n",
       "      <td>SKY</td>\n",
       "    </tr>\n",
       "    <tr>\n",
       "      <th>10211</th>\n",
       "      <td>3MKS71ESG</td>\n",
       "      <td>GBM</td>\n",
       "      <td>RA</td>\n",
       "    </tr>\n",
       "  </tbody>\n",
       "</table>\n",
       "</div>"
      ],
      "text/plain": [
       "        model_name    base_model group\n",
       "10533   CTKM25PV14           BMS    RA\n",
       "10544    FXFQ50AV4  SENSING_FLOW   VRV\n",
       "11586   FXDQ18MVJU  VRV_SLIMDUCT   VRV\n",
       "8851     RXQ6TAYME      VRV4-VRT   VRV\n",
       "6042   ARKH35CAVMB          GMS5    RA\n",
       "4242       AN45FV1                    \n",
       "9601   FTXS18WVJU9      NW-M III    RA\n",
       "3297   TWK524GBAA0                    \n",
       "10025    RZR125MYM         ZEAS7   SKY\n",
       "10211    3MKS71ESG           GBM    RA"
      ]
     },
     "execution_count": 28,
     "metadata": {},
     "output_type": "execute_result"
    }
   ],
   "source": [
    "df3.sample(10)"
   ]
  },
  {
   "cell_type": "code",
   "execution_count": 35,
   "id": "3f77b898-fa9f-4a27-a2d8-ecd67d1cadef",
   "metadata": {},
   "outputs": [],
   "source": [
    "df3.rename(columns = {'model_name':'model'}, inplace=True)"
   ]
  },
  {
   "cell_type": "code",
   "execution_count": 38,
   "id": "59419a00-edc3-46ce-a206-54001e2d14de",
   "metadata": {},
   "outputs": [],
   "source": [
    "df_pcb = df_pcb.merge(df3, on='model', how='left')"
   ]
  },
  {
   "cell_type": "code",
   "execution_count": 46,
   "id": "6c2d0d33-2674-476a-953b-b88f546a306d",
   "metadata": {},
   "outputs": [
    {
     "data": {
      "text/plain": [
       "0        True\n",
       "1        True\n",
       "2        True\n",
       "3        True\n",
       "4        True\n",
       "        ...  \n",
       "5289    False\n",
       "5290    False\n",
       "5291    False\n",
       "5292    False\n",
       "5293    False\n",
       "Name: base_model, Length: 5294, dtype: bool"
      ]
     },
     "execution_count": 46,
     "metadata": {},
     "output_type": "execute_result"
    }
   ],
   "source": []
  },
  {
   "cell_type": "code",
   "execution_count": null,
   "id": "d1731ba2-e45e-4f1c-81ca-f5f906862c54",
   "metadata": {},
   "outputs": [],
   "source": []
  }
 ],
 "metadata": {
  "kernelspec": {
   "display_name": "Python 3 (ipykernel)",
   "language": "python",
   "name": "python3"
  },
  "language_info": {
   "codemirror_mode": {
    "name": "ipython",
    "version": 3
   },
   "file_extension": ".py",
   "mimetype": "text/x-python",
   "name": "python",
   "nbconvert_exporter": "python",
   "pygments_lexer": "ipython3",
   "version": "3.12.0"
  }
 },
 "nbformat": 4,
 "nbformat_minor": 5
}
