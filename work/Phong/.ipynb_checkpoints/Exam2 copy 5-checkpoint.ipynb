{
 "cells": [
  {
   "cell_type": "code",
   "execution_count": 143,
   "metadata": {},
   "outputs": [],
   "source": [
    "\n",
    "import pandas as pd\n",
    "import matplotlib.pyplot as plt\n",
    "import numpy as np"
   ]
  },
  {
   "cell_type": "code",
   "execution_count": 144,
   "metadata": {},
   "outputs": [],
   "source": [
    "# Load the Excel file\n",
    "file_path = 'atm-report (7).xlsx'\n",
    "df = pd.read_excel(file_path)"
   ]
  },
  {
   "cell_type": "code",
   "execution_count": 145,
   "metadata": {},
   "outputs": [
    {
     "data": {
      "text/plain": [
       "Index(['Jira.Project', 'Execution.Key', 'Execution.Assigned To',\n",
       "       'Execution.Type', 'Execution.Execution Date', 'Execution.Actual',\n",
       "       'Execution.Estimated', 'Execution.Result', 'Execution.Environment',\n",
       "       'Execution.Linked Issues', 'Execution.Count of Linked Issues',\n",
       "       'Execution.Error message', 'Test Cycle.Key', 'Test Cycle.Name',\n",
       "       'Test Cycle.Description', 'Test Cycle.Folder', 'Test Cycle.Status',\n",
       "       'Test Cycle.Version', 'Test Cycle.Owner',\n",
       "       'Test Cycle.Planned Start Date', 'Test Cycle.Planned End Date',\n",
       "       'Test Cycle.Platform', 'Test Cycle.Brand', 'Test Cycle.Mobile model',\n",
       "       'Test Cycle.OS version', 'Test Cycle.Language', 'Test Cycle.SSID',\n",
       "       'Test Cycle.Wi-Fi Adapter', 'Test Cycle.Firmware version',\n",
       "       'Test Cycle.Unit Type', 'Test Cycle.Unit Model', 'Test Cycle.Router',\n",
       "       'Test Cycle.Server', 'Test Cycle.Server version', 'Test Cycle.At Home',\n",
       "       'Test Cycle.Application version', 'Test Case.Key', 'Test Case.Name',\n",
       "       'Test Case.Component', 'Test Case.Owner', 'Test Case.Created By',\n",
       "       'Test Case.Created On', 'Test Case.Version', 'Test Case.Estimated',\n",
       "       'Test Case.Objective', 'Test Case.Precondition', 'Test Case.Status',\n",
       "       'Test Case.Folder', 'Test Case.Labels', 'Test Case.Priority',\n",
       "       'Test Case.Traceability.Issue', 'Test Case.Traceability.Weblink',\n",
       "       'Test Case.Test case type', 'Test Case.Scenario name'],\n",
       "      dtype='object')"
      ]
     },
     "execution_count": 145,
     "metadata": {},
     "output_type": "execute_result"
    }
   ],
   "source": [
    "df.columns"
   ]
  },
  {
   "cell_type": "markdown",
   "metadata": {},
   "source": [
    "# Cleaning up data  \n",
    "ทำการเปลี่ยนชื่อ columns ที่ต้องการใช้งานเท่านั้นให้ไม่มีช่องว่างจะทำให้เวลาอ้างอิงทำได้ง่ายขึ้น"
   ]
  },
  {
   "cell_type": "code",
   "execution_count": 146,
   "metadata": {},
   "outputs": [],
   "source": [
    "df.rename(columns = {'Test Cycle.OS version':'os_version',\n",
    "                    'Test Cycle.Mobile model':'mobile_model', \n",
    "                    'Test Cycle.Brand':'mobile_brand', \n",
    "                    'Test Cycle.Unit Type': 'ac_group', \n",
    "                    'Test Cycle.Unit Model': 'ac_model',\n",
    "                    'Execution.Result': 'test_result',\n",
    "                    'Test Case.Name' : 'test_program'\n",
    "                    },\n",
    "          inplace=True\n",
    "          \n",
    "         )\n"
   ]
  },
  {
   "cell_type": "markdown",
   "metadata": {},
   "source": [
    "ทำการตรวจสอบว่า column ที่ทำการเปลี่ยนชื่อ ได้ทำการเปลี่ยนแล้วหรือยัง"
   ]
  },
  {
   "cell_type": "code",
   "execution_count": 147,
   "metadata": {},
   "outputs": [],
   "source": [
    "selected_columns = ['os_version', 'mobile_model', 'mobile_brand', 'ac_group', 'ac_model', 'test_result', 'test_program']"
   ]
  },
  {
   "cell_type": "code",
   "execution_count": 148,
   "metadata": {},
   "outputs": [],
   "source": [
    "df2 = df.loc[:, selected_columns]"
   ]
  },
  {
   "cell_type": "markdown",
   "metadata": {},
   "source": [
    "ทำการรวม model group กับ model เข้าไปด้วยกัน ให้เป็น model_group (model) แล้วไปสร้างเป็น column ใหม่ชื่อว่า model_group"
   ]
  },
  {
   "cell_type": "code",
   "execution_count": 149,
   "metadata": {},
   "outputs": [],
   "source": [
    "df2['ac_group_model'] = df2.ac_group + \" (\"  + df.ac_model  + \")\""
   ]
  },
  {
   "cell_type": "code",
   "execution_count": 150,
   "metadata": {},
   "outputs": [],
   "source": [
    "g = df2.groupby(['mobile_model', 'ac_group_model'])['test_result']"
   ]
  },
  {
   "cell_type": "markdown",
   "metadata": {},
   "source": [
    "ทำการหา key ใน level ที่1 และ level ที่ 2 มาเก็บไว้เป็น list โดยค่าจะต้องเป็นค่าที่ไม่ซ้ำกับตัวอื่นๆ (unique)"
   ]
  },
  {
   "cell_type": "code",
   "execution_count": 151,
   "metadata": {},
   "outputs": [],
   "source": [
    "models = []\n",
    "ac_models = []"
   ]
  },
  {
   "cell_type": "code",
   "execution_count": 152,
   "metadata": {},
   "outputs": [],
   "source": [
    "\n",
    "for k1,k2 in g.groups.keys():\n",
    "    models.append(k1)\n",
    "    ac_models.append(k2)\n",
    "    \n",
    "    \n",
    "    \n",
    "   "
   ]
  },
  {
   "cell_type": "markdown",
   "metadata": {},
   "source": [
    "ทำให้เป็น unique"
   ]
  },
  {
   "cell_type": "code",
   "execution_count": 153,
   "metadata": {},
   "outputs": [],
   "source": [
    "models = list(set(models))\n",
    "ac_models = list(set(ac_models))"
   ]
  },
  {
   "cell_type": "code",
   "execution_count": 154,
   "metadata": {},
   "outputs": [],
   "source": [
    "result_data= []\n",
    "count = 0"
   ]
  },
  {
   "cell_type": "code",
   "execution_count": 155,
   "metadata": {},
   "outputs": [
    {
     "name": "stdout",
     "output_type": "stream",
     "text": [
      "Pixel 7 RA (MCB80) nan\n",
      "Pixel 7 RA (FTXM60UVMZ) nan\n",
      "Pixel 7 CJ (MCB80) nan\n",
      "Pixel 7 RA-ZETA (FTXM71YVLT) Fail\n",
      "Pixel 8 RA (MCB80) nan\n",
      "Pixel 8 RA (FTXM60UVMZ) nan\n",
      "Pixel 8 CJ (MCB80) nan\n",
      "Pixel 8 RA-ZETA (FTXM71YVLT) Fail\n",
      "ROG Phone 2 RA (MCB80) Pass\n",
      "ROG Phone 2 RA (FTXM60UVMZ) nan\n",
      "ROG Phone 2 CJ (MCB80) nan\n",
      "ROG Phone 2 RA-ZETA (FTXM71YVLT) nan\n",
      "Galaxy S23 Ultra RA (MCB80) nan\n",
      "Galaxy S23 Ultra RA (FTXM60UVMZ) nan\n",
      "Galaxy S23 Ultra CJ (MCB80) Fail\n",
      "Galaxy S23 Ultra RA-ZETA (FTXM71YVLT) nan\n",
      "Mi Pad 4 Plus RA (MCB80) nan\n",
      "Mi Pad 4 Plus RA (FTXM60UVMZ) Fail\n",
      "Mi Pad 4 Plus CJ (MCB80) nan\n",
      "Mi Pad 4 Plus RA-ZETA (FTXM71YVLT) nan\n"
     ]
    }
   ],
   "source": [
    "for model in models:\n",
    "    for ac_model in ac_models:\n",
    "        count = count + 1\n",
    "        try:\n",
    "            if g.get_group((model,ac_model)).str.contains('Pass').all():\n",
    "                result = 'Pass'\n",
    "            else:\n",
    "                result = 'Fail'\n",
    "        except Exception as e:\n",
    "            \n",
    "            result = np.nan\n",
    "        # เอาไว้แค่ดูผลลัพธ์\n",
    "        print(f'{model} {ac_model} {result}') \n",
    "        # เอาผลลัพธ์ที่ได้ไปใส่ไว้ใน Dictionary\n",
    "        result_data.append({'mobile_model': model, 'ac_group_model': ac_model, 'test_result':result })\n",
    "    "
   ]
  },
  {
   "cell_type": "markdown",
   "metadata": {},
   "source": [
    " ทำการสร้าง dataframe 3 ขึ้นมาจากผลลัพธ์ **result_data**"
   ]
  },
  {
   "cell_type": "code",
   "execution_count": 156,
   "metadata": {},
   "outputs": [],
   "source": [
    "df3 = pd.DataFrame(result_data)"
   ]
  },
  {
   "cell_type": "code",
   "execution_count": 157,
   "metadata": {},
   "outputs": [],
   "source": [
    "pivot_table = df3.pivot_table(index='mobile_model', columns='ac_group_model', values='test_result', aggfunc='first')"
   ]
  },
  {
   "cell_type": "code",
   "execution_count": 158,
   "metadata": {},
   "outputs": [
    {
     "data": {
      "text/html": [
       "<div>\n",
       "<style scoped>\n",
       "    .dataframe tbody tr th:only-of-type {\n",
       "        vertical-align: middle;\n",
       "    }\n",
       "\n",
       "    .dataframe tbody tr th {\n",
       "        vertical-align: top;\n",
       "    }\n",
       "\n",
       "    .dataframe thead th {\n",
       "        text-align: right;\n",
       "    }\n",
       "</style>\n",
       "<table border=\"1\" class=\"dataframe\">\n",
       "  <thead>\n",
       "    <tr style=\"text-align: right;\">\n",
       "      <th>ac_group_model</th>\n",
       "      <th>CJ (MCB80)</th>\n",
       "      <th>RA (FTXM60UVMZ)</th>\n",
       "      <th>RA (MCB80)</th>\n",
       "      <th>RA-ZETA (FTXM71YVLT)</th>\n",
       "    </tr>\n",
       "    <tr>\n",
       "      <th>mobile_model</th>\n",
       "      <th></th>\n",
       "      <th></th>\n",
       "      <th></th>\n",
       "      <th></th>\n",
       "    </tr>\n",
       "  </thead>\n",
       "  <tbody>\n",
       "    <tr>\n",
       "      <th>Galaxy S23 Ultra</th>\n",
       "      <td>Fail</td>\n",
       "      <td>NaN</td>\n",
       "      <td>NaN</td>\n",
       "      <td>NaN</td>\n",
       "    </tr>\n",
       "    <tr>\n",
       "      <th>Mi Pad 4 Plus</th>\n",
       "      <td>NaN</td>\n",
       "      <td>Fail</td>\n",
       "      <td>NaN</td>\n",
       "      <td>NaN</td>\n",
       "    </tr>\n",
       "    <tr>\n",
       "      <th>Pixel 7</th>\n",
       "      <td>NaN</td>\n",
       "      <td>NaN</td>\n",
       "      <td>NaN</td>\n",
       "      <td>Fail</td>\n",
       "    </tr>\n",
       "    <tr>\n",
       "      <th>Pixel 8</th>\n",
       "      <td>NaN</td>\n",
       "      <td>NaN</td>\n",
       "      <td>NaN</td>\n",
       "      <td>Fail</td>\n",
       "    </tr>\n",
       "    <tr>\n",
       "      <th>ROG Phone 2</th>\n",
       "      <td>NaN</td>\n",
       "      <td>NaN</td>\n",
       "      <td>Pass</td>\n",
       "      <td>NaN</td>\n",
       "    </tr>\n",
       "  </tbody>\n",
       "</table>\n",
       "</div>"
      ],
      "text/plain": [
       "ac_group_model   CJ (MCB80) RA (FTXM60UVMZ) RA (MCB80) RA-ZETA (FTXM71YVLT)\n",
       "mobile_model                                                               \n",
       "Galaxy S23 Ultra       Fail             NaN        NaN                  NaN\n",
       "Mi Pad 4 Plus           NaN            Fail        NaN                  NaN\n",
       "Pixel 7                 NaN             NaN        NaN                 Fail\n",
       "Pixel 8                 NaN             NaN        NaN                 Fail\n",
       "ROG Phone 2             NaN             NaN       Pass                  NaN"
      ]
     },
     "execution_count": 158,
     "metadata": {},
     "output_type": "execute_result"
    }
   ],
   "source": [
    "pivot_table"
   ]
  },
  {
   "cell_type": "code",
   "execution_count": null,
   "metadata": {},
   "outputs": [],
   "source": []
  }
 ],
 "metadata": {
  "kernelspec": {
   "display_name": "Python 3 (ipykernel)",
   "language": "python",
   "name": "python3"
  },
  "language_info": {
   "codemirror_mode": {
    "name": "ipython",
    "version": 3
   },
   "file_extension": ".py",
   "mimetype": "text/x-python",
   "name": "python",
   "nbconvert_exporter": "python",
   "pygments_lexer": "ipython3",
   "version": "3.12.0"
  },
  "vscode": {
   "interpreter": {
    "hash": "3e9cd05f540cca45b4aad490e29bfa436e074b065276d78936bfeb0622edbd30"
   }
  }
 },
 "nbformat": 4,
 "nbformat_minor": 4
}
