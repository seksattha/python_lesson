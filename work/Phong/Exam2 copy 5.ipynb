{
 "cells": [
  {
   "cell_type": "code",
   "execution_count": 109,
   "metadata": {},
   "outputs": [],
   "source": [
    "\n",
    "import pandas as pd\n",
    "import matplotlib.pyplot as plt\n",
    "import numpy as np"
   ]
  },
  {
   "cell_type": "code",
   "execution_count": 110,
   "metadata": {},
   "outputs": [],
   "source": [
    "# Load the Excel file\n",
    "file_path = 'atm-report (7).xlsx'\n",
    "df = pd.read_excel(file_path)"
   ]
  },
  {
   "cell_type": "code",
   "execution_count": 92,
   "metadata": {},
   "outputs": [
    {
     "data": {
      "text/plain": [
       "Index(['Jira.Project', 'Execution.Key', 'Execution.Assigned To',\n",
       "       'Execution.Type', 'Execution.Execution Date', 'Execution.Actual',\n",
       "       'Execution.Estimated', 'Execution.Result', 'Execution.Environment',\n",
       "       'Execution.Linked Issues', 'Execution.Count of Linked Issues',\n",
       "       'Execution.Error message', 'Test Cycle.Key', 'Test Cycle.Name',\n",
       "       'Test Cycle.Description', 'Test Cycle.Folder', 'Test Cycle.Status',\n",
       "       'Test Cycle.Version', 'Test Cycle.Owner',\n",
       "       'Test Cycle.Planned Start Date', 'Test Cycle.Planned End Date',\n",
       "       'Test Cycle.Platform', 'Test Cycle.Brand', 'Test Cycle.Mobile model',\n",
       "       'Test Cycle.OS version', 'Test Cycle.Language', 'Test Cycle.SSID',\n",
       "       'Test Cycle.Wi-Fi Adapter', 'Test Cycle.Firmware version',\n",
       "       'Test Cycle.Unit Type', 'Test Cycle.Unit Model', 'Test Cycle.Router',\n",
       "       'Test Cycle.Server', 'Test Cycle.Server version', 'Test Cycle.At Home',\n",
       "       'Test Cycle.Application version', 'Test Case.Key', 'Test Case.Name',\n",
       "       'Test Case.Component', 'Test Case.Owner', 'Test Case.Created By',\n",
       "       'Test Case.Created On', 'Test Case.Version', 'Test Case.Estimated',\n",
       "       'Test Case.Objective', 'Test Case.Precondition', 'Test Case.Status',\n",
       "       'Test Case.Folder', 'Test Case.Labels', 'Test Case.Priority',\n",
       "       'Test Case.Traceability.Issue', 'Test Case.Traceability.Weblink',\n",
       "       'Test Case.Test case type', 'Test Case.Scenario name'],\n",
       "      dtype='object')"
      ]
     },
     "execution_count": 92,
     "metadata": {},
     "output_type": "execute_result"
    }
   ],
   "source": [
    "df.columns"
   ]
  },
  {
   "cell_type": "markdown",
   "metadata": {},
   "source": [
    "# Cleaning up data  \n",
    "ทำการเปลี่ยนชื่อ columns ที่ต้องการใช้งานเท่านั้นให้ไม่มีช่องว่างจะทำให้เวลาอ้างอิงทำได้ง่ายขึ้น"
   ]
  },
  {
   "cell_type": "code",
   "execution_count": 93,
   "metadata": {},
   "outputs": [],
   "source": [
    "df.rename(columns = {'Test Cycle.OS version':'os_version',\n",
    "                    'Test Cycle.Mobile model':'mobile_model', \n",
    "                    'Test Cycle.Brand':'mobile_brand', \n",
    "                    'Test Cycle.Unit Type': 'ac_group', \n",
    "                    'Test Cycle.Unit Model': 'ac_model',\n",
    "                    'Execution.Result': 'test_result',\n",
    "                    'Test Case.Name' : 'test_program'\n",
    "                    },\n",
    "          inplace=True\n",
    "          \n",
    "         )\n"
   ]
  },
  {
   "cell_type": "markdown",
   "metadata": {},
   "source": [
    "ทำการตรวจสอบว่า column ที่ทำการเปลี่ยนชื่อ ได้ทำการเปลี่ยนแล้วหรือยัง"
   ]
  },
  {
   "cell_type": "code",
   "execution_count": 94,
   "metadata": {},
   "outputs": [
    {
     "data": {
      "text/html": [
       "<div>\n",
       "<style scoped>\n",
       "    .dataframe tbody tr th:only-of-type {\n",
       "        vertical-align: middle;\n",
       "    }\n",
       "\n",
       "    .dataframe tbody tr th {\n",
       "        vertical-align: top;\n",
       "    }\n",
       "\n",
       "    .dataframe thead th {\n",
       "        text-align: right;\n",
       "    }\n",
       "</style>\n",
       "<table border=\"1\" class=\"dataframe\">\n",
       "  <thead>\n",
       "    <tr style=\"text-align: right;\">\n",
       "      <th></th>\n",
       "      <th>os_version</th>\n",
       "      <th>mobile_model</th>\n",
       "      <th>mobile_brand</th>\n",
       "      <th>ac_group</th>\n",
       "      <th>ac_model</th>\n",
       "      <th>test_result</th>\n",
       "      <th>test_program</th>\n",
       "      <th>ac_group_model</th>\n",
       "    </tr>\n",
       "  </thead>\n",
       "  <tbody>\n",
       "    <tr>\n",
       "      <th>39</th>\n",
       "      <td>Android 8.1</td>\n",
       "      <td>Mi Pad 4 Plus</td>\n",
       "      <td>Xiaomi</td>\n",
       "      <td>RA</td>\n",
       "      <td>FTXM60UVMZ</td>\n",
       "      <td>Fail</td>\n",
       "      <td>Set air condition fan direction in Cool mode t...</td>\n",
       "      <td>RA (FTXM60UVMZ)</td>\n",
       "    </tr>\n",
       "    <tr>\n",
       "      <th>49</th>\n",
       "      <td>Android 14</td>\n",
       "      <td>Pixel 7</td>\n",
       "      <td>Google</td>\n",
       "      <td>RA-ZETA</td>\n",
       "      <td>FTXM71YVLT</td>\n",
       "      <td>Fail</td>\n",
       "      <td>Set the air conditioner temperature in Cool mo...</td>\n",
       "      <td>RA-ZETA (FTXM71YVLT)</td>\n",
       "    </tr>\n",
       "    <tr>\n",
       "      <th>43</th>\n",
       "      <td>Android 8.1</td>\n",
       "      <td>Mi Pad 4 Plus</td>\n",
       "      <td>Xiaomi</td>\n",
       "      <td>RA</td>\n",
       "      <td>FTXM60UVMZ</td>\n",
       "      <td>Pass</td>\n",
       "      <td>Set the air conditioner temperature in Cool mo...</td>\n",
       "      <td>RA (FTXM60UVMZ)</td>\n",
       "    </tr>\n",
       "    <tr>\n",
       "      <th>20</th>\n",
       "      <td>Android 14</td>\n",
       "      <td>Galaxy S23 Ultra</td>\n",
       "      <td>Samsung</td>\n",
       "      <td>CJ</td>\n",
       "      <td>MCB80</td>\n",
       "      <td>Pass</td>\n",
       "      <td>Set air condition fan direction in Cool mode t...</td>\n",
       "      <td>CJ (MCB80)</td>\n",
       "    </tr>\n",
       "    <tr>\n",
       "      <th>31</th>\n",
       "      <td>Android 8.1</td>\n",
       "      <td>Mi Pad 4 Plus</td>\n",
       "      <td>Xiaomi</td>\n",
       "      <td>RA</td>\n",
       "      <td>FTXM60UVMZ</td>\n",
       "      <td>Fail</td>\n",
       "      <td>Set air condition fan direction in Cool mode t...</td>\n",
       "      <td>RA (FTXM60UVMZ)</td>\n",
       "    </tr>\n",
       "    <tr>\n",
       "      <th>36</th>\n",
       "      <td>Android 8.1</td>\n",
       "      <td>Mi Pad 4 Plus</td>\n",
       "      <td>Xiaomi</td>\n",
       "      <td>RA</td>\n",
       "      <td>FTXM60UVMZ</td>\n",
       "      <td>Pass</td>\n",
       "      <td>Set air condition fan speed in Cool mode to Le...</td>\n",
       "      <td>RA (FTXM60UVMZ)</td>\n",
       "    </tr>\n",
       "    <tr>\n",
       "      <th>47</th>\n",
       "      <td>Android 14</td>\n",
       "      <td>Pixel 7</td>\n",
       "      <td>Google</td>\n",
       "      <td>RA-ZETA</td>\n",
       "      <td>FTXM71YVLT</td>\n",
       "      <td>Pass</td>\n",
       "      <td>Set the air conditioner temperature in Cool mo...</td>\n",
       "      <td>RA-ZETA (FTXM71YVLT)</td>\n",
       "    </tr>\n",
       "    <tr>\n",
       "      <th>54</th>\n",
       "      <td>Android 14</td>\n",
       "      <td>Pixel 8</td>\n",
       "      <td>Google</td>\n",
       "      <td>RA-ZETA</td>\n",
       "      <td>FTXM71YVLT</td>\n",
       "      <td>Fail</td>\n",
       "      <td>Set air condition fan speed in Cool mode to Le...</td>\n",
       "      <td>RA-ZETA (FTXM71YVLT)</td>\n",
       "    </tr>\n",
       "    <tr>\n",
       "      <th>38</th>\n",
       "      <td>Android 8.1</td>\n",
       "      <td>Mi Pad 4 Plus</td>\n",
       "      <td>Xiaomi</td>\n",
       "      <td>RA</td>\n",
       "      <td>FTXM60UVMZ</td>\n",
       "      <td>Pass</td>\n",
       "      <td>Set air condition fan speed in Cool mode to Quiet</td>\n",
       "      <td>RA (FTXM60UVMZ)</td>\n",
       "    </tr>\n",
       "    <tr>\n",
       "      <th>17</th>\n",
       "      <td>Android 14</td>\n",
       "      <td>Galaxy S23 Ultra</td>\n",
       "      <td>Samsung</td>\n",
       "      <td>CJ</td>\n",
       "      <td>MCB80</td>\n",
       "      <td>Pass</td>\n",
       "      <td>Set air condition fan speed in Cool mode to Quiet</td>\n",
       "      <td>CJ (MCB80)</td>\n",
       "    </tr>\n",
       "  </tbody>\n",
       "</table>\n",
       "</div>"
      ],
      "text/plain": [
       "     os_version      mobile_model mobile_brand ac_group    ac_model  \\\n",
       "39  Android 8.1     Mi Pad 4 Plus       Xiaomi       RA  FTXM60UVMZ   \n",
       "49   Android 14           Pixel 7       Google  RA-ZETA  FTXM71YVLT   \n",
       "43  Android 8.1     Mi Pad 4 Plus       Xiaomi       RA  FTXM60UVMZ   \n",
       "20   Android 14  Galaxy S23 Ultra      Samsung       CJ       MCB80   \n",
       "31  Android 8.1     Mi Pad 4 Plus       Xiaomi       RA  FTXM60UVMZ   \n",
       "36  Android 8.1     Mi Pad 4 Plus       Xiaomi       RA  FTXM60UVMZ   \n",
       "47   Android 14           Pixel 7       Google  RA-ZETA  FTXM71YVLT   \n",
       "54   Android 14           Pixel 8       Google  RA-ZETA  FTXM71YVLT   \n",
       "38  Android 8.1     Mi Pad 4 Plus       Xiaomi       RA  FTXM60UVMZ   \n",
       "17   Android 14  Galaxy S23 Ultra      Samsung       CJ       MCB80   \n",
       "\n",
       "   test_result                                       test_program  \\\n",
       "39        Fail  Set air condition fan direction in Cool mode t...   \n",
       "49        Fail  Set the air conditioner temperature in Cool mo...   \n",
       "43        Pass  Set the air conditioner temperature in Cool mo...   \n",
       "20        Pass  Set air condition fan direction in Cool mode t...   \n",
       "31        Fail  Set air condition fan direction in Cool mode t...   \n",
       "36        Pass  Set air condition fan speed in Cool mode to Le...   \n",
       "47        Pass  Set the air conditioner temperature in Cool mo...   \n",
       "54        Fail  Set air condition fan speed in Cool mode to Le...   \n",
       "38        Pass  Set air condition fan speed in Cool mode to Quiet   \n",
       "17        Pass  Set air condition fan speed in Cool mode to Quiet   \n",
       "\n",
       "          ac_group_model  \n",
       "39       RA (FTXM60UVMZ)  \n",
       "49  RA-ZETA (FTXM71YVLT)  \n",
       "43       RA (FTXM60UVMZ)  \n",
       "20            CJ (MCB80)  \n",
       "31       RA (FTXM60UVMZ)  \n",
       "36       RA (FTXM60UVMZ)  \n",
       "47  RA-ZETA (FTXM71YVLT)  \n",
       "54  RA-ZETA (FTXM71YVLT)  \n",
       "38       RA (FTXM60UVMZ)  \n",
       "17            CJ (MCB80)  "
      ]
     },
     "execution_count": 94,
     "metadata": {},
     "output_type": "execute_result"
    }
   ],
   "source": [
    "df2.sample(10)"
   ]
  },
  {
   "cell_type": "code",
   "execution_count": 95,
   "metadata": {},
   "outputs": [],
   "source": [
    "selected_columns = ['os_version', 'mobile_model', 'mobile_brand', 'ac_group', 'ac_model', 'test_result', 'test_program']"
   ]
  },
  {
   "cell_type": "code",
   "execution_count": 96,
   "metadata": {},
   "outputs": [],
   "source": [
    "df2 = df.loc[:, selected_columns]"
   ]
  },
  {
   "cell_type": "markdown",
   "metadata": {},
   "source": [
    "ทำการรวม model group กับ model เข้าไปด้วยกัน ให้เป็น model_group (model) แล้วไปสร้างเป็น column ใหม่ชื่อว่า model_group"
   ]
  },
  {
   "cell_type": "code",
   "execution_count": 97,
   "metadata": {},
   "outputs": [],
   "source": [
    "df2['ac_group_model'] = df2.ac_group + \" (\"  + df.ac_model  + \")\""
   ]
  },
  {
   "cell_type": "code",
   "execution_count": 98,
   "metadata": {},
   "outputs": [],
   "source": [
    "g = df2.groupby(['mobile_model', 'ac_group_model'])['test_result']"
   ]
  },
  {
   "cell_type": "code",
   "execution_count": 100,
   "metadata": {},
   "outputs": [
    {
     "name": "stdout",
     "output_type": "stream",
     "text": [
      "key_level 1 = Galaxy S23 Ultra     key_level 2 =  CJ (MCB80)\n",
      "key_level 1 = Mi Pad 4 Plus        key_level 2 =  RA (FTXM60UVMZ)\n",
      "key_level 1 = Pixel 7              key_level 2 =  RA-ZETA (FTXM71YVLT)\n",
      "key_level 1 = Pixel 8              key_level 2 =  RA-ZETA (FTXM71YVLT)\n",
      "key_level 1 = ROG Phone 2          key_level 2 =  RA (MCB80)\n"
     ]
    }
   ],
   "source": [
    "for i, (k1,k2) in enumerate(g.groups.keys()):\n",
    "    print(f'key_level 1 = {k1:<20} key_level 2 =  {k2}')\n",
    "   "
   ]
  },
  {
   "cell_type": "code",
   "execution_count": 132,
   "metadata": {},
   "outputs": [],
   "source": [
    "def check_result(g):\n",
    "    try:\n",
    "        if g.str.contains('Pass').all():\n",
    "            return 'Pass'\n",
    "        else:\n",
    "            return 'fail'\n",
    "       \n",
    "    except Exception as e:\n",
    "        return np.nan"
   ]
  },
  {
   "cell_type": "code",
   "execution_count": 133,
   "metadata": {},
   "outputs": [],
   "source": [
    "result = g.get_group(('Mi Pad 4 Plus', 'RA (FTXM60UVMZ)')).apply(check_result)"
   ]
  },
  {
   "cell_type": "code",
   "execution_count": 134,
   "metadata": {},
   "outputs": [
    {
     "data": {
      "text/plain": [
       "30   NaN\n",
       "31   NaN\n",
       "32   NaN\n",
       "33   NaN\n",
       "34   NaN\n",
       "35   NaN\n",
       "36   NaN\n",
       "37   NaN\n",
       "38   NaN\n",
       "39   NaN\n",
       "40   NaN\n",
       "41   NaN\n",
       "42   NaN\n",
       "43   NaN\n",
       "44   NaN\n",
       "Name: test_result, dtype: float64"
      ]
     },
     "execution_count": 134,
     "metadata": {},
     "output_type": "execute_result"
    }
   ],
   "source": [
    "result"
   ]
  },
  {
   "cell_type": "code",
   "execution_count": null,
   "metadata": {},
   "outputs": [],
   "source": []
  }
 ],
 "metadata": {
  "kernelspec": {
   "display_name": "Python 3 (ipykernel)",
   "language": "python",
   "name": "python3"
  },
  "language_info": {
   "codemirror_mode": {
    "name": "ipython",
    "version": 3
   },
   "file_extension": ".py",
   "mimetype": "text/x-python",
   "name": "python",
   "nbconvert_exporter": "python",
   "pygments_lexer": "ipython3",
   "version": "3.12.0"
  },
  "vscode": {
   "interpreter": {
    "hash": "3e9cd05f540cca45b4aad490e29bfa436e074b065276d78936bfeb0622edbd30"
   }
  }
 },
 "nbformat": 4,
 "nbformat_minor": 4
}
