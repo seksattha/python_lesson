{
 "cells": [
  {
   "cell_type": "code",
   "execution_count": 7,
   "metadata": {},
   "outputs": [],
   "source": [
    "\n",
    "import pandas as pd\n",
    "import matplotlib.pyplot as plt\n",
    "import numpy as np"
   ]
  },
  {
   "cell_type": "code",
   "execution_count": 8,
   "metadata": {},
   "outputs": [],
   "source": [
    "# Load the Excel file\n",
    "file_path = 'atm-report (7).xlsx'\n",
    "df = pd.read_excel(file_path)"
   ]
  },
  {
   "cell_type": "code",
   "execution_count": 9,
   "metadata": {},
   "outputs": [
    {
     "data": {
      "text/plain": [
       "Index(['Jira.Project', 'Execution.Key', 'Execution.Assigned To',\n",
       "       'Execution.Type', 'Execution.Execution Date', 'Execution.Actual',\n",
       "       'Execution.Estimated', 'Execution.Result', 'Execution.Environment',\n",
       "       'Execution.Linked Issues', 'Execution.Count of Linked Issues',\n",
       "       'Execution.Error message', 'Test Cycle.Key', 'Test Cycle.Name',\n",
       "       'Test Cycle.Description', 'Test Cycle.Folder', 'Test Cycle.Status',\n",
       "       'Test Cycle.Version', 'Test Cycle.Owner',\n",
       "       'Test Cycle.Planned Start Date', 'Test Cycle.Planned End Date',\n",
       "       'Test Cycle.Platform', 'Test Cycle.Brand', 'Test Cycle.Mobile model',\n",
       "       'Test Cycle.OS version', 'Test Cycle.Language', 'Test Cycle.SSID',\n",
       "       'Test Cycle.Wi-Fi Adapter', 'Test Cycle.Firmware version',\n",
       "       'Test Cycle.Unit Type', 'Test Cycle.Unit Model', 'Test Cycle.Router',\n",
       "       'Test Cycle.Server', 'Test Cycle.Server version', 'Test Cycle.At Home',\n",
       "       'Test Cycle.Application version', 'Test Case.Key', 'Test Case.Name',\n",
       "       'Test Case.Component', 'Test Case.Owner', 'Test Case.Created By',\n",
       "       'Test Case.Created On', 'Test Case.Version', 'Test Case.Estimated',\n",
       "       'Test Case.Objective', 'Test Case.Precondition', 'Test Case.Status',\n",
       "       'Test Case.Folder', 'Test Case.Labels', 'Test Case.Priority',\n",
       "       'Test Case.Traceability.Issue', 'Test Case.Traceability.Weblink',\n",
       "       'Test Case.Test case type', 'Test Case.Scenario name'],\n",
       "      dtype='object')"
      ]
     },
     "execution_count": 9,
     "metadata": {},
     "output_type": "execute_result"
    }
   ],
   "source": [
    "df.columns"
   ]
  },
  {
   "cell_type": "markdown",
   "metadata": {},
   "source": [
    "# Cleaning up data  \n",
    "ทำการเปลี่ยนชื่อ columns ที่ต้องการใช้งานเท่านั้นให้ไม่มีช่องว่างจะทำให้เวลาอ้างอิงทำได้ง่ายขึ้น"
   ]
  },
  {
   "cell_type": "code",
   "execution_count": 10,
   "metadata": {},
   "outputs": [],
   "source": [
    "df.rename(columns = {'Test Cycle.OS version':'os_version',\n",
    "                    'Test Cycle.Mobile model':'mobile_model', \n",
    "                    'Test Cycle.Brand':'mobile_brand', \n",
    "                    'Test Cycle.Unit Type': 'ac_group', \n",
    "                    'Test Cycle.Unit Model': 'ac_model',\n",
    "                    'Execution.Result': 'test_result',\n",
    "                    'Test Case.Name' : 'test_program'\n",
    "                    },\n",
    "          inplace=True\n",
    "          \n",
    "         )\n"
   ]
  },
  {
   "cell_type": "markdown",
   "metadata": {},
   "source": [
    "ทำการตรวจสอบว่า column ที่ทำการเปลี่ยนชื่อ ได้ทำการเปลี่ยนแล้วหรือยัง"
   ]
  },
  {
   "cell_type": "code",
   "execution_count": 11,
   "metadata": {},
   "outputs": [],
   "source": [
    "selected_columns = ['os_version', 'mobile_model', 'mobile_brand', 'ac_group', 'ac_model', 'test_result', 'test_program']"
   ]
  },
  {
   "cell_type": "code",
   "execution_count": 12,
   "metadata": {},
   "outputs": [],
   "source": [
    "df2 = df.loc[:, selected_columns]"
   ]
  },
  {
   "cell_type": "markdown",
   "metadata": {},
   "source": [
    "ทำการรวม model group กับ model เข้าไปด้วยกัน ให้เป็น model_group (model) แล้วไปสร้างเป็น column ใหม่ชื่อว่า model_group"
   ]
  },
  {
   "cell_type": "code",
   "execution_count": 13,
   "metadata": {},
   "outputs": [],
   "source": [
    "df2['ac_group_model'] = df2.ac_group + \" (\"  + df.ac_model  + \")\""
   ]
  },
  {
   "cell_type": "code",
   "execution_count": 14,
   "metadata": {},
   "outputs": [],
   "source": [
    "g = df2.groupby(['mobile_model', 'ac_group_model'])['test_result']"
   ]
  },
  {
   "cell_type": "markdown",
   "metadata": {},
   "source": [
    "ทำการหา key ใน level ที่1 และ level ที่ 2 มาเก็บไว้เป็น list โดยค่าจะต้องเป็นค่าที่ไม่ซ้ำกับตัวอื่นๆ (unique)"
   ]
  },
  {
   "cell_type": "code",
   "execution_count": 28,
   "metadata": {},
   "outputs": [],
   "source": [
    "models = []\n",
    "ac_models = []"
   ]
  },
  {
   "cell_type": "code",
   "execution_count": 31,
   "metadata": {},
   "outputs": [],
   "source": [
    "\n",
    "for k1,k2 in g.groups.keys():\n",
    "    models.append(k1)\n",
    "    ac_models.append(k2)\n",
    "    \n",
    "    \n",
    "    \n",
    "   "
   ]
  },
  {
   "cell_type": "markdown",
   "metadata": {},
   "source": [
    "ทำให้เป็น unique"
   ]
  },
  {
   "cell_type": "code",
   "execution_count": 38,
   "metadata": {},
   "outputs": [],
   "source": [
    "models = list(set(models))\n",
    "ac_models = list(set(ac_models))"
   ]
  },
  {
   "cell_type": "code",
   "execution_count": 44,
   "metadata": {},
   "outputs": [],
   "source": [
    "result = []\n",
    "count = 0"
   ]
  },
  {
   "cell_type": "code",
   "execution_count": 54,
   "metadata": {},
   "outputs": [
    {
     "name": "stdout",
     "output_type": "stream",
     "text": [
      "Pixel 7 RA (MCB80) nan\n",
      "Pixel 7 RA (FTXM60UVMZ) nan\n",
      "Pixel 7 CJ (MCB80) nan\n",
      "Pixel 7 RA-ZETA (FTXM71YVLT) False\n",
      "Pixel 8 RA (MCB80) nan\n",
      "Pixel 8 RA (FTXM60UVMZ) nan\n",
      "Pixel 8 CJ (MCB80) nan\n",
      "Pixel 8 RA-ZETA (FTXM71YVLT) False\n",
      "ROG Phone 2 RA (MCB80) True\n",
      "ROG Phone 2 RA (FTXM60UVMZ) nan\n",
      "ROG Phone 2 CJ (MCB80) nan\n",
      "ROG Phone 2 RA-ZETA (FTXM71YVLT) nan\n",
      "Galaxy S23 Ultra RA (MCB80) nan\n",
      "Galaxy S23 Ultra RA (FTXM60UVMZ) nan\n",
      "Galaxy S23 Ultra CJ (MCB80) False\n",
      "Galaxy S23 Ultra RA-ZETA (FTXM71YVLT) nan\n",
      "Mi Pad 4 Plus RA (MCB80) nan\n",
      "Mi Pad 4 Plus RA (FTXM60UVMZ) False\n",
      "Mi Pad 4 Plus CJ (MCB80) nan\n",
      "Mi Pad 4 Plus RA-ZETA (FTXM71YVLT) nan\n"
     ]
    }
   ],
   "source": [
    "for model in models:\n",
    "    for ac_model in ac_models:\n",
    "        count = count + 1\n",
    "        try:\n",
    "            result = g.get_group((model,ac_model)).str.contains('Pass').all()\n",
    "        except Exception as e:\n",
    "            \n",
    "            result = np.nan\n",
    "        print(f'{model} {ac_model} {result}')\n",
    "\n",
    "    "
   ]
  },
  {
   "cell_type": "code",
   "execution_count": null,
   "metadata": {},
   "outputs": [],
   "source": []
  }
 ],
 "metadata": {
  "kernelspec": {
   "display_name": "Python 3 (ipykernel)",
   "language": "python",
   "name": "python3"
  },
  "language_info": {
   "codemirror_mode": {
    "name": "ipython",
    "version": 3
   },
   "file_extension": ".py",
   "mimetype": "text/x-python",
   "name": "python",
   "nbconvert_exporter": "python",
   "pygments_lexer": "ipython3",
   "version": "3.12.0"
  },
  "vscode": {
   "interpreter": {
    "hash": "3e9cd05f540cca45b4aad490e29bfa436e074b065276d78936bfeb0622edbd30"
   }
  }
 },
 "nbformat": 4,
 "nbformat_minor": 4
}
