{
 "cells": [
  {
   "cell_type": "code",
   "execution_count": 58,
   "metadata": {},
   "outputs": [],
   "source": [
    "\n",
    "import pandas as pd\n",
    "import matplotlib.pyplot as plt"
   ]
  },
  {
   "cell_type": "code",
   "execution_count": 59,
   "metadata": {},
   "outputs": [],
   "source": [
    "# Load the Excel file\n",
    "file_path = 'atm-report (7).xlsx'\n",
    "df = pd.read_excel(file_path)"
   ]
  },
  {
   "cell_type": "code",
   "execution_count": 60,
   "metadata": {},
   "outputs": [
    {
     "data": {
      "text/plain": [
       "Index(['Jira.Project', 'Execution.Key', 'Execution.Assigned To',\n",
       "       'Execution.Type', 'Execution.Execution Date', 'Execution.Actual',\n",
       "       'Execution.Estimated', 'Execution.Result', 'Execution.Environment',\n",
       "       'Execution.Linked Issues', 'Execution.Count of Linked Issues',\n",
       "       'Execution.Error message', 'Test Cycle.Key', 'Test Cycle.Name',\n",
       "       'Test Cycle.Description', 'Test Cycle.Folder', 'Test Cycle.Status',\n",
       "       'Test Cycle.Version', 'Test Cycle.Owner',\n",
       "       'Test Cycle.Planned Start Date', 'Test Cycle.Planned End Date',\n",
       "       'Test Cycle.Platform', 'Test Cycle.Brand', 'Test Cycle.Mobile model',\n",
       "       'Test Cycle.OS version', 'Test Cycle.Language', 'Test Cycle.SSID',\n",
       "       'Test Cycle.Wi-Fi Adapter', 'Test Cycle.Firmware version',\n",
       "       'Test Cycle.Unit Type', 'Test Cycle.Unit Model', 'Test Cycle.Router',\n",
       "       'Test Cycle.Server', 'Test Cycle.Server version', 'Test Cycle.At Home',\n",
       "       'Test Cycle.Application version', 'Test Case.Key', 'Test Case.Name',\n",
       "       'Test Case.Component', 'Test Case.Owner', 'Test Case.Created By',\n",
       "       'Test Case.Created On', 'Test Case.Version', 'Test Case.Estimated',\n",
       "       'Test Case.Objective', 'Test Case.Precondition', 'Test Case.Status',\n",
       "       'Test Case.Folder', 'Test Case.Labels', 'Test Case.Priority',\n",
       "       'Test Case.Traceability.Issue', 'Test Case.Traceability.Weblink',\n",
       "       'Test Case.Test case type', 'Test Case.Scenario name'],\n",
       "      dtype='object')"
      ]
     },
     "execution_count": 60,
     "metadata": {},
     "output_type": "execute_result"
    }
   ],
   "source": [
    "df.columns"
   ]
  },
  {
   "cell_type": "markdown",
   "metadata": {},
   "source": [
    "# Cleaning up data  \n",
    "ทำการเปลี่ยนชื่อ columns ที่ต้องการใช้งานเท่านั้นให้ไม่มีช่องว่างจะทำให้เวลาอ้างอิงทำได้ง่ายขึ้น"
   ]
  },
  {
   "cell_type": "code",
   "execution_count": 61,
   "metadata": {},
   "outputs": [],
   "source": [
    "df.rename(columns = {'Test Cycle.OS version':'os_version',\n",
    "                    'Test Cycle.Mobile model':'mobile_model', \n",
    "                    'Test Cycle.Brand':'mobile_brand', \n",
    "                    'Test Cycle.Unit Type': 'ac_group', \n",
    "                    'Test Cycle.Unit Model': 'ac_model',\n",
    "                    'Execution.Result': 'test_result',\n",
    "                    'Test Case.Name' : 'test_program'\n",
    "                    },\n",
    "          inplace=True\n",
    "          \n",
    "         )\n"
   ]
  },
  {
   "cell_type": "markdown",
   "metadata": {},
   "source": [
    "ทำการตรวจสอบว่า column ที่ทำการเปลี่ยนชื่อ ได้ทำการเปลี่ยนแล้วหรือยัง"
   ]
  },
  {
   "cell_type": "code",
   "execution_count": 62,
   "metadata": {},
   "outputs": [],
   "source": [
    "selected_columns = ['os_version', 'mobile_model', 'mobile_brand', 'ac_group', 'ac_model', 'test_result', 'test_program']"
   ]
  },
  {
   "cell_type": "code",
   "execution_count": 66,
   "metadata": {},
   "outputs": [],
   "source": [
    "df2 = df.loc[:, selected_columns]"
   ]
  },
  {
   "cell_type": "code",
   "execution_count": 67,
   "metadata": {},
   "outputs": [
    {
     "data": {
      "text/html": [
       "<div>\n",
       "<style scoped>\n",
       "    .dataframe tbody tr th:only-of-type {\n",
       "        vertical-align: middle;\n",
       "    }\n",
       "\n",
       "    .dataframe tbody tr th {\n",
       "        vertical-align: top;\n",
       "    }\n",
       "\n",
       "    .dataframe thead th {\n",
       "        text-align: right;\n",
       "    }\n",
       "</style>\n",
       "<table border=\"1\" class=\"dataframe\">\n",
       "  <thead>\n",
       "    <tr style=\"text-align: right;\">\n",
       "      <th></th>\n",
       "      <th>os_version</th>\n",
       "      <th>mobile_model</th>\n",
       "      <th>mobile_brand</th>\n",
       "      <th>ac_group</th>\n",
       "      <th>ac_model</th>\n",
       "      <th>test_result</th>\n",
       "      <th>test_program</th>\n",
       "    </tr>\n",
       "  </thead>\n",
       "  <tbody>\n",
       "    <tr>\n",
       "      <th>0</th>\n",
       "      <td>Android 14</td>\n",
       "      <td>Pixel 7</td>\n",
       "      <td>Google</td>\n",
       "      <td>RA-ZETA</td>\n",
       "      <td>FTXM71YVLT</td>\n",
       "      <td>Pass</td>\n",
       "      <td>Set the air conditioner temperature in Cool mo...</td>\n",
       "    </tr>\n",
       "    <tr>\n",
       "      <th>1</th>\n",
       "      <td>Android 14</td>\n",
       "      <td>Pixel 7</td>\n",
       "      <td>Google</td>\n",
       "      <td>RA-ZETA</td>\n",
       "      <td>FTXM71YVLT</td>\n",
       "      <td>Pass</td>\n",
       "      <td>Set the air conditioner temperature in Cool mo...</td>\n",
       "    </tr>\n",
       "    <tr>\n",
       "      <th>2</th>\n",
       "      <td>Android 14</td>\n",
       "      <td>Pixel 7</td>\n",
       "      <td>Google</td>\n",
       "      <td>RA-ZETA</td>\n",
       "      <td>FTXM71YVLT</td>\n",
       "      <td>Pass</td>\n",
       "      <td>Set the air conditioner temperature in Cool mo...</td>\n",
       "    </tr>\n",
       "    <tr>\n",
       "      <th>3</th>\n",
       "      <td>Android 14</td>\n",
       "      <td>Pixel 7</td>\n",
       "      <td>Google</td>\n",
       "      <td>RA-ZETA</td>\n",
       "      <td>FTXM71YVLT</td>\n",
       "      <td>Pass</td>\n",
       "      <td>Set air condition fan speed in Cool mode to Auto</td>\n",
       "    </tr>\n",
       "    <tr>\n",
       "      <th>4</th>\n",
       "      <td>Android 14</td>\n",
       "      <td>Pixel 7</td>\n",
       "      <td>Google</td>\n",
       "      <td>RA-ZETA</td>\n",
       "      <td>FTXM71YVLT</td>\n",
       "      <td>Pass</td>\n",
       "      <td>Set air condition fan speed in Cool mode to Le...</td>\n",
       "    </tr>\n",
       "    <tr>\n",
       "      <th>...</th>\n",
       "      <td>...</td>\n",
       "      <td>...</td>\n",
       "      <td>...</td>\n",
       "      <td>...</td>\n",
       "      <td>...</td>\n",
       "      <td>...</td>\n",
       "      <td>...</td>\n",
       "    </tr>\n",
       "    <tr>\n",
       "      <th>65</th>\n",
       "      <td>Android 14</td>\n",
       "      <td>Pixel 7</td>\n",
       "      <td>Google</td>\n",
       "      <td>RA-ZETA</td>\n",
       "      <td>FTXM71YVLT</td>\n",
       "      <td>Pass</td>\n",
       "      <td>Set the air conditioner temperature in Cool mo...</td>\n",
       "    </tr>\n",
       "    <tr>\n",
       "      <th>66</th>\n",
       "      <td>Android 14</td>\n",
       "      <td>Pixel 7</td>\n",
       "      <td>Google</td>\n",
       "      <td>RA-ZETA</td>\n",
       "      <td>FTXM71YVLT</td>\n",
       "      <td>Pass</td>\n",
       "      <td>Set the air conditioner temperature in Cool mo...</td>\n",
       "    </tr>\n",
       "    <tr>\n",
       "      <th>67</th>\n",
       "      <td>Android 14</td>\n",
       "      <td>Pixel 7</td>\n",
       "      <td>Google</td>\n",
       "      <td>RA-ZETA</td>\n",
       "      <td>FTXM71YVLT</td>\n",
       "      <td>Fail</td>\n",
       "      <td>Set the air conditioner temperature in Cool mo...</td>\n",
       "    </tr>\n",
       "    <tr>\n",
       "      <th>68</th>\n",
       "      <td>Android 14</td>\n",
       "      <td>Pixel 7</td>\n",
       "      <td>Google</td>\n",
       "      <td>RA-ZETA</td>\n",
       "      <td>FTXM71YVLT</td>\n",
       "      <td>Pass</td>\n",
       "      <td>Set the air conditioner temperature in Cool mo...</td>\n",
       "    </tr>\n",
       "    <tr>\n",
       "      <th>69</th>\n",
       "      <td>Android 14</td>\n",
       "      <td>Galaxy S23 Ultra</td>\n",
       "      <td>Samsung</td>\n",
       "      <td>CJ</td>\n",
       "      <td>MCB80</td>\n",
       "      <td>Fail</td>\n",
       "      <td>Set the air conditioner temperature in Cool mo...</td>\n",
       "    </tr>\n",
       "  </tbody>\n",
       "</table>\n",
       "<p>70 rows × 7 columns</p>\n",
       "</div>"
      ],
      "text/plain": [
       "    os_version      mobile_model mobile_brand ac_group    ac_model  \\\n",
       "0   Android 14           Pixel 7       Google  RA-ZETA  FTXM71YVLT   \n",
       "1   Android 14           Pixel 7       Google  RA-ZETA  FTXM71YVLT   \n",
       "2   Android 14           Pixel 7       Google  RA-ZETA  FTXM71YVLT   \n",
       "3   Android 14           Pixel 7       Google  RA-ZETA  FTXM71YVLT   \n",
       "4   Android 14           Pixel 7       Google  RA-ZETA  FTXM71YVLT   \n",
       "..         ...               ...          ...      ...         ...   \n",
       "65  Android 14           Pixel 7       Google  RA-ZETA  FTXM71YVLT   \n",
       "66  Android 14           Pixel 7       Google  RA-ZETA  FTXM71YVLT   \n",
       "67  Android 14           Pixel 7       Google  RA-ZETA  FTXM71YVLT   \n",
       "68  Android 14           Pixel 7       Google  RA-ZETA  FTXM71YVLT   \n",
       "69  Android 14  Galaxy S23 Ultra      Samsung       CJ       MCB80   \n",
       "\n",
       "   test_result                                       test_program  \n",
       "0         Pass  Set the air conditioner temperature in Cool mo...  \n",
       "1         Pass  Set the air conditioner temperature in Cool mo...  \n",
       "2         Pass  Set the air conditioner temperature in Cool mo...  \n",
       "3         Pass   Set air condition fan speed in Cool mode to Auto  \n",
       "4         Pass  Set air condition fan speed in Cool mode to Le...  \n",
       "..         ...                                                ...  \n",
       "65        Pass  Set the air conditioner temperature in Cool mo...  \n",
       "66        Pass  Set the air conditioner temperature in Cool mo...  \n",
       "67        Fail  Set the air conditioner temperature in Cool mo...  \n",
       "68        Pass  Set the air conditioner temperature in Cool mo...  \n",
       "69        Fail  Set the air conditioner temperature in Cool mo...  \n",
       "\n",
       "[70 rows x 7 columns]"
      ]
     },
     "execution_count": 67,
     "metadata": {},
     "output_type": "execute_result"
    }
   ],
   "source": [
    "df2"
   ]
  },
  {
   "cell_type": "code",
   "execution_count": 75,
   "metadata": {},
   "outputs": [],
   "source": [
    "g = df2.groupby('mobile_model')"
   ]
  },
  {
   "cell_type": "code",
   "execution_count": 80,
   "metadata": {},
   "outputs": [
    {
     "data": {
      "text/plain": [
       "15    Fail\n",
       "16    Fail\n",
       "17    Pass\n",
       "18    Pass\n",
       "19    Pass\n",
       "20    Pass\n",
       "21    Pass\n",
       "22    Pass\n",
       "23    Pass\n",
       "24    Pass\n",
       "25    Pass\n",
       "26    Pass\n",
       "27    Pass\n",
       "28    Pass\n",
       "29    Pass\n",
       "69    Fail\n",
       "Name: test_result, dtype: object"
      ]
     },
     "execution_count": 80,
     "metadata": {},
     "output_type": "execute_result"
    }
   ],
   "source": [
    "g.get_group('Galaxy S23 Ultra')['test_result']"
   ]
  },
  {
   "cell_type": "code",
   "execution_count": 1,
   "metadata": {},
   "outputs": [
    {
     "ename": "NameError",
     "evalue": "name 'sdfsdf' is not defined",
     "output_type": "error",
     "traceback": [
      "\u001b[1;31m---------------------------------------------------------------------------\u001b[0m",
      "\u001b[1;31mNameError\u001b[0m                                 Traceback (most recent call last)",
      "Cell \u001b[1;32mIn[1], line 1\u001b[0m\n\u001b[1;32m----> 1\u001b[0m \u001b[43msdfsdf\u001b[49m\n",
      "\u001b[1;31mNameError\u001b[0m: name 'sdfsdf' is not defined"
     ]
    }
   ],
   "source": [
    "sdfsdf"
   ]
  },
  {
   "cell_type": "code",
   "execution_count": null,
   "metadata": {},
   "outputs": [],
   "source": []
  }
 ],
 "metadata": {
  "kernelspec": {
   "display_name": "Python 3 (ipykernel)",
   "language": "python",
   "name": "python3"
  },
  "language_info": {
   "codemirror_mode": {
    "name": "ipython",
    "version": 3
   },
   "file_extension": ".py",
   "mimetype": "text/x-python",
   "name": "python",
   "nbconvert_exporter": "python",
   "pygments_lexer": "ipython3",
   "version": "3.12.0"
  },
  "vscode": {
   "interpreter": {
    "hash": "3e9cd05f540cca45b4aad490e29bfa436e074b065276d78936bfeb0622edbd30"
   }
  }
 },
 "nbformat": 4,
 "nbformat_minor": 4
}
