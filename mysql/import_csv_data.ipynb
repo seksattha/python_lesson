{
 "cells": [
  {
   "cell_type": "code",
   "execution_count": 100,
   "id": "3f5a9a50-eaf3-483c-8e34-43b880ed6a3c",
   "metadata": {},
   "outputs": [],
   "source": [
    "import pandas as pd\n",
    "import re\n",
    "import mysql.connector as mysql"
   ]
  },
  {
   "cell_type": "markdown",
   "id": "2fb4d3da-aa19-4705-bf18-b1ab6467e5d6",
   "metadata": {},
   "source": [
    "# Import data"
   ]
  },
  {
   "cell_type": "code",
   "execution_count": 101,
   "id": "000ff2e2-ce0a-46d9-baa2-d216030c1d1a",
   "metadata": {},
   "outputs": [],
   "source": [
    "df = pd.read_csv('mpg.csv')"
   ]
  },
  {
   "cell_type": "code",
   "execution_count": 102,
   "id": "ce678e87-6271-4139-9565-2f18774affa6",
   "metadata": {},
   "outputs": [],
   "source": [
    "def mpg_kml(x):\n",
    "    return round(x * 0.425144,2)\n"
   ]
  },
  {
   "cell_type": "markdown",
   "id": "70a61fa2-a726-4886-99b4-ee2e27b3ab77",
   "metadata": {},
   "source": [
    "# Cleaning Data"
   ]
  },
  {
   "cell_type": "code",
   "execution_count": 103,
   "id": "dcdb700f-0044-4a3a-8d09-3a54360d0fdc",
   "metadata": {},
   "outputs": [],
   "source": [
    "df['cty_kml'] = df['cty'].apply(mpg_kml)"
   ]
  },
  {
   "cell_type": "code",
   "execution_count": 104,
   "id": "03ad7fc4-2107-4ad6-a797-8483cf4aa7ff",
   "metadata": {},
   "outputs": [],
   "source": [
    "df['trans'] = df['trans'].apply(lambda x:  'auto' if re.search(r'\\b[Aa]',x) else 'manual' )"
   ]
  },
  {
   "cell_type": "code",
   "execution_count": 105,
   "id": "92ada7d8-2261-49e4-933d-0b73aaae728a",
   "metadata": {},
   "outputs": [
    {
     "data": {
      "text/plain": [
       "array(['f', '4', 'r'], dtype=object)"
      ]
     },
     "execution_count": 105,
     "metadata": {},
     "output_type": "execute_result"
    }
   ],
   "source": [
    "df['drv'].unique()"
   ]
  },
  {
   "cell_type": "code",
   "execution_count": 106,
   "id": "c8ad52dd-b251-473e-9630-5b45a0575528",
   "metadata": {},
   "outputs": [],
   "source": [
    "df.drv = df.drv.map({'f': 'FRONT', \n",
    "                    '4': '4WD', \n",
    "                    'r':'READ'})"
   ]
  },
  {
   "cell_type": "markdown",
   "id": "20695540-2b14-4a84-9241-e02532705f0d",
   "metadata": {},
   "source": [
    "# Create connection with MySQL database"
   ]
  },
  {
   "cell_type": "code",
   "execution_count": 107,
   "id": "11ac0010-0bc4-4a32-bdca-d07ce8188913",
   "metadata": {
    "jupyter": {
     "source_hidden": true
    }
   },
   "outputs": [],
   "source": [
    "def create_table(host: str, user: str, password: str, database_name: str):\n",
    "    try:\n",
    "        with mysql.connect(\n",
    "            host=host,\n",
    "            user=user,\n",
    "            password=password,\n",
    "            database=database_name\n",
    "        ) as con:\n",
    "            if con.is_connected():\n",
    "                print(\"Connection to DIT_EPD successfully, \\nWELCOME TO EPD DATABASE!\")\n",
    "\n",
    "                with con.cursor() as cur:\n",
    "                    sql_cmd = \"\"\"\n",
    "                    CREATE TABLE mpg (\n",
    "                        manufacturer VARCHAR(255),\n",
    "                        model VARCHAR(255),\n",
    "                        displ FLOAT,\n",
    "                        year INT,\n",
    "                        cyl INT,\n",
    "                        trans VARCHAR(255),\n",
    "                        drv VARCHAR(10),\n",
    "                        cty INT,\n",
    "                        hwy INT,\n",
    "                        fl VARCHAR(10),\n",
    "                        class VARCHAR(255),\n",
    "                        cty_kml FLOAT\n",
    "                    );\n",
    "                    \"\"\"\n",
    "                    cur.execute(sql_cmd)\n",
    "                    con.commit()\n",
    "\n",
    "    except Exception as e:\n",
    "        print(f'Error => {e}')"
   ]
  },
  {
   "cell_type": "code",
   "execution_count": 108,
   "id": "1061bdfb-958e-4abb-a95e-16bbbc12b4ed",
   "metadata": {
    "jupyter": {
     "source_hidden": true
    }
   },
   "outputs": [],
   "source": [
    "def insert_data(host: str, user: str, password: str, database_name: str, df):\n",
    "    try:\n",
    "        # Establish connection to MySQL database\n",
    "        with mysql.connect(\n",
    "            host=host,\n",
    "            user=user,\n",
    "            password=password,\n",
    "            database=database_name\n",
    "        ) as con:\n",
    "            if con.is_connected():\n",
    "                print(\"Connection to DIT_EPD successfully, \\nWELCOME TO EPD DATABASE!\")\n",
    "\n",
    "                # Iterate through each row in the DataFrame and insert into MySQL table 'mpg'\n",
    "                with con.cursor() as cur:\n",
    "                    sql_cmd = \"\"\"\n",
    "                    INSERT INTO mpg (manufacturer, model, displ, year, cyl, trans, drv, cty, hwy, fl, class, cty_kml)\n",
    "                    VALUES (%s, %s, %s, %s, %s, %s, %s, %s, %s, %s, %s, %s)\n",
    "                    \"\"\"\n",
    "                    for index, row in df.iterrows():\n",
    "                        values = (\n",
    "                            row['manufacturer'],\n",
    "                            row['model'],\n",
    "                            row['displ'],\n",
    "                            row['year'],\n",
    "                            row['cyl'],\n",
    "                            row['trans'],\n",
    "                            row['drv'],\n",
    "                            row['cty'],\n",
    "                            row['hwy'],\n",
    "                            row['fl'],\n",
    "                            row['class'],\n",
    "                            row['cty_kml']\n",
    "                        )\n",
    "                        cur.execute(sql_cmd, values)\n",
    "\n",
    "                # Commit the transaction\n",
    "                con.commit()\n",
    "                print('Data has been inserted successfully')\n",
    "\n",
    "    except mysql.Error as e:\n",
    "        print(f'Error => {e}')"
   ]
  },
  {
   "cell_type": "code",
   "execution_count": 109,
   "id": "1d47f746-e5a5-47a5-ae6a-97ceed281fb7",
   "metadata": {},
   "outputs": [
    {
     "name": "stdout",
     "output_type": "stream",
     "text": [
      "Connection to DIT_EPD successfully, \n",
      "WELCOME TO EPD DATABASE!\n"
     ]
    }
   ],
   "source": [
    "create_table('localhost','root','ditepd', 'learning')"
   ]
  },
  {
   "cell_type": "code",
   "execution_count": 110,
   "id": "71307866-3395-4c96-aabd-c08ef875fe60",
   "metadata": {},
   "outputs": [
    {
     "name": "stdout",
     "output_type": "stream",
     "text": [
      "Connection to DIT_EPD successfully, \n",
      "WELCOME TO EPD DATABASE!\n",
      "Data has been inserted successfully\n"
     ]
    }
   ],
   "source": [
    "insert_data('localhost', 'root', 'ditepd', 'learning', df)"
   ]
  },
  {
   "cell_type": "code",
   "execution_count": null,
   "id": "cc783494-0a77-4456-9d73-0a03298acab4",
   "metadata": {},
   "outputs": [],
   "source": []
  }
 ],
 "metadata": {
  "kernelspec": {
   "display_name": "Python 3 (ipykernel)",
   "language": "python",
   "name": "python3"
  },
  "language_info": {
   "codemirror_mode": {
    "name": "ipython",
    "version": 3
   },
   "file_extension": ".py",
   "mimetype": "text/x-python",
   "name": "python",
   "nbconvert_exporter": "python",
   "pygments_lexer": "ipython3",
   "version": "3.12.0"
  }
 },
 "nbformat": 4,
 "nbformat_minor": 5
}
