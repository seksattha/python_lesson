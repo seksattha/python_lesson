{
 "cells": [
  {
   "cell_type": "markdown",
   "id": "94a58028-2452-4bdd-a596-136b85fdbb34",
   "metadata": {},
   "source": [
    "# lookahead & lookbehind\n",
    "**lookahead**   \n",
    " ขึนต้นด้วย a แต่จะต้อง ตามด้วย *positive* b หรือว่า *negative* **ไม่ตาม**ด้วย b\n",
    "- position\n",
    "  a(?=b)\n",
    "- negative\n",
    "  a(?!b)\n",
    "   \n",
    "**lookbehind**  \n",
    "   ปิดท้ายด้วย b แต่ตัวก่อนต้องเป็น  *positive* a หรือว่า **ไม่ต้อง**ก่อนหน้าด้วย *negative* b  \n",
    "- positive\n",
    "- negative\n",
    "  "
   ]
  },
  {
   "cell_type": "code",
   "execution_count": 54,
   "id": "db8d2c04-2d2b-4fea-8c56-e8e67d7de316",
   "metadata": {},
   "outputs": [],
   "source": [
    "import pandas as pd"
   ]
  },
  {
   "cell_type": "code",
   "execution_count": 55,
   "id": "9ed81878-5420-4710-bb5b-6e504f091522",
   "metadata": {},
   "outputs": [
    {
     "data": {
      "text/html": [
       "<div>\n",
       "<style scoped>\n",
       "    .dataframe tbody tr th:only-of-type {\n",
       "        vertical-align: middle;\n",
       "    }\n",
       "\n",
       "    .dataframe tbody tr th {\n",
       "        vertical-align: top;\n",
       "    }\n",
       "\n",
       "    .dataframe thead th {\n",
       "        text-align: right;\n",
       "    }\n",
       "</style>\n",
       "<table border=\"1\" class=\"dataframe\">\n",
       "  <thead>\n",
       "    <tr style=\"text-align: right;\">\n",
       "      <th></th>\n",
       "      <th>error_code</th>\n",
       "      <th>part</th>\n",
       "    </tr>\n",
       "  </thead>\n",
       "  <tbody>\n",
       "    <tr>\n",
       "      <th>0</th>\n",
       "      <td>E7</td>\n",
       "      <td>fan motor</td>\n",
       "    </tr>\n",
       "    <tr>\n",
       "      <th>1</th>\n",
       "      <td>A5: communication</td>\n",
       "      <td>fan shaft</td>\n",
       "    </tr>\n",
       "    <tr>\n",
       "      <th>2</th>\n",
       "      <td>l5compressor failed</td>\n",
       "      <td>proppeller fan motor</td>\n",
       "    </tr>\n",
       "    <tr>\n",
       "      <th>3</th>\n",
       "      <td>E7</td>\n",
       "      <td>fan motor capacitor</td>\n",
       "    </tr>\n",
       "    <tr>\n",
       "      <th>4</th>\n",
       "      <td>U4</td>\n",
       "      <td>capacitor noise</td>\n",
       "    </tr>\n",
       "  </tbody>\n",
       "</table>\n",
       "</div>"
      ],
      "text/plain": [
       "            error_code                  part\n",
       "0                   E7             fan motor\n",
       "1    A5: communication             fan shaft\n",
       "2  l5compressor failed  proppeller fan motor\n",
       "3                   E7   fan motor capacitor\n",
       "4                   U4       capacitor noise"
      ]
     },
     "execution_count": 55,
     "metadata": {},
     "output_type": "execute_result"
    }
   ],
   "source": [
    "data = {'error_code':['E7','A5: communication','l5compressor failed','E7','U4'],\n",
    "        'part':['fan motor','fan shaft', 'proppeller fan motor', 'fan motor capacitor', 'capacitor noise']\n",
    "       \n",
    "       \n",
    "       }\n",
    "df = pd.DataFrame(data)\n",
    "df"
   ]
  },
  {
   "cell_type": "markdown",
   "id": "adf018f7-caf6-49af-a48c-bcc19f21c598",
   "metadata": {},
   "source": [
    "## positive lookbehind\n",
    "จะต้องมีคำว่า motor และ มีคำว่า fan ก่อนหน้า"
   ]
  },
  {
   "cell_type": "code",
   "execution_count": 84,
   "id": "8df9a0cd-9ed5-41eb-8d75-d770b6e6eb11",
   "metadata": {},
   "outputs": [
    {
     "data": {
      "text/plain": [
       "0     True\n",
       "1    False\n",
       "2     True\n",
       "3     True\n",
       "4    False\n",
       "Name: part, dtype: bool"
      ]
     },
     "execution_count": 84,
     "metadata": {},
     "output_type": "execute_result"
    }
   ],
   "source": [
    "df['part'].str.contains(r'(?<=)\\bfan motor\\b', regex=True)"
   ]
  },
  {
   "cell_type": "code",
   "execution_count": 57,
   "id": "b77c13bf-5e76-4ba6-b5bb-74b01933a212",
   "metadata": {},
   "outputs": [
    {
     "data": {
      "text/plain": [
       "0    False\n",
       "1    False\n",
       "2    False\n",
       "3     True\n",
       "4    False\n",
       "Name: part, dtype: bool"
      ]
     },
     "execution_count": 57,
     "metadata": {},
     "output_type": "execute_result"
    }
   ],
   "source": [
    "df['part'].str.contains(r'motor(?= capacitor)', regex=True)"
   ]
  },
  {
   "cell_type": "code",
   "execution_count": 76,
   "id": "e8923664-73d5-44fd-99f9-9212a136bbdd",
   "metadata": {},
   "outputs": [
    {
     "data": {
      "text/html": [
       "<div>\n",
       "<style scoped>\n",
       "    .dataframe tbody tr th:only-of-type {\n",
       "        vertical-align: middle;\n",
       "    }\n",
       "\n",
       "    .dataframe tbody tr th {\n",
       "        vertical-align: top;\n",
       "    }\n",
       "\n",
       "    .dataframe thead th {\n",
       "        text-align: right;\n",
       "    }\n",
       "</style>\n",
       "<table border=\"1\" class=\"dataframe\">\n",
       "  <thead>\n",
       "    <tr style=\"text-align: right;\">\n",
       "      <th></th>\n",
       "      <th>error_code</th>\n",
       "      <th>part</th>\n",
       "      <th>code</th>\n",
       "    </tr>\n",
       "  </thead>\n",
       "  <tbody>\n",
       "    <tr>\n",
       "      <th>0</th>\n",
       "      <td>E7</td>\n",
       "      <td>fan motor</td>\n",
       "      <td>E7</td>\n",
       "    </tr>\n",
       "    <tr>\n",
       "      <th>1</th>\n",
       "      <td>A5: communication</td>\n",
       "      <td>fan shaft</td>\n",
       "      <td>A5</td>\n",
       "    </tr>\n",
       "    <tr>\n",
       "      <th>2</th>\n",
       "      <td>l5compressor failed</td>\n",
       "      <td>proppeller fan motor</td>\n",
       "      <td>l5</td>\n",
       "    </tr>\n",
       "    <tr>\n",
       "      <th>3</th>\n",
       "      <td>E7</td>\n",
       "      <td>fan motor capacitor</td>\n",
       "      <td>E7</td>\n",
       "    </tr>\n",
       "    <tr>\n",
       "      <th>4</th>\n",
       "      <td>U4</td>\n",
       "      <td>capacitor noise</td>\n",
       "      <td>U4</td>\n",
       "    </tr>\n",
       "  </tbody>\n",
       "</table>\n",
       "</div>"
      ],
      "text/plain": [
       "            error_code                  part code\n",
       "0                   E7             fan motor   E7\n",
       "1    A5: communication             fan shaft   A5\n",
       "2  l5compressor failed  proppeller fan motor   l5\n",
       "3                   E7   fan motor capacitor   E7\n",
       "4                   U4       capacitor noise   U4"
      ]
     },
     "execution_count": 76,
     "metadata": {},
     "output_type": "execute_result"
    }
   ],
   "source": [
    "df['code'] = df['error_code'].str.extract(r'(\\w{2})')\n",
    "df"
   ]
  },
  {
   "cell_type": "code",
   "execution_count": null,
   "id": "4ecd2d1f-2a1f-468b-bc2a-785512901706",
   "metadata": {},
   "outputs": [],
   "source": []
  }
 ],
 "metadata": {
  "kernelspec": {
   "display_name": "Python 3 (ipykernel)",
   "language": "python",
   "name": "python3"
  },
  "language_info": {
   "codemirror_mode": {
    "name": "ipython",
    "version": 3
   },
   "file_extension": ".py",
   "mimetype": "text/x-python",
   "name": "python",
   "nbconvert_exporter": "python",
   "pygments_lexer": "ipython3",
   "version": "3.12.1"
  }
 },
 "nbformat": 4,
 "nbformat_minor": 5
}
