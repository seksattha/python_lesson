{
 "cells": [
  {
   "cell_type": "markdown",
   "id": "183a4bcf-86fa-454b-9b9d-ceed6cf4e942",
   "metadata": {},
   "source": [
    "# Three level index"
   ]
  },
  {
   "cell_type": "code",
   "execution_count": 1,
   "id": "5aa573ec-9e03-44fd-8011-d9f00190adcc",
   "metadata": {},
   "outputs": [],
   "source": [
    "import pandas as pd"
   ]
  },
  {
   "cell_type": "markdown",
   "id": "4b2b7acc-1881-4083-bea7-33a6f90f40aa",
   "metadata": {},
   "source": [
    "สร้าง index coloumn ตั้งแต่อ่านข้อมูลเลย ที่ index_col=['continent','country','year'])\n",
    "## โดยจะแบ่งเป็น 3 ระดับ\n",
    "-  level1 continent\n",
    "-  level 2country\n",
    "-  level 3year"
   ]
  },
  {
   "cell_type": "code",
   "execution_count": 2,
   "id": "43dc33b2-8ec8-496e-afe5-c6bbf65d94f5",
   "metadata": {},
   "outputs": [
    {
     "data": {
      "text/html": [
       "<div>\n",
       "<style scoped>\n",
       "    .dataframe tbody tr th:only-of-type {\n",
       "        vertical-align: middle;\n",
       "    }\n",
       "\n",
       "    .dataframe tbody tr th {\n",
       "        vertical-align: top;\n",
       "    }\n",
       "\n",
       "    .dataframe thead th {\n",
       "        text-align: right;\n",
       "    }\n",
       "</style>\n",
       "<table border=\"1\" class=\"dataframe\">\n",
       "  <thead>\n",
       "    <tr style=\"text-align: right;\">\n",
       "      <th></th>\n",
       "      <th></th>\n",
       "      <th></th>\n",
       "      <th>lifeExp</th>\n",
       "      <th>pop</th>\n",
       "      <th>gdpPercap</th>\n",
       "    </tr>\n",
       "    <tr>\n",
       "      <th>continent</th>\n",
       "      <th>country</th>\n",
       "      <th>year</th>\n",
       "      <th></th>\n",
       "      <th></th>\n",
       "      <th></th>\n",
       "    </tr>\n",
       "  </thead>\n",
       "  <tbody>\n",
       "    <tr>\n",
       "      <th rowspan=\"5\" valign=\"top\">Asia</th>\n",
       "      <th rowspan=\"5\" valign=\"top\">Afghanistan</th>\n",
       "      <th>1952</th>\n",
       "      <td>28.801</td>\n",
       "      <td>8425333</td>\n",
       "      <td>779.445314</td>\n",
       "    </tr>\n",
       "    <tr>\n",
       "      <th>1957</th>\n",
       "      <td>30.332</td>\n",
       "      <td>9240934</td>\n",
       "      <td>820.853030</td>\n",
       "    </tr>\n",
       "    <tr>\n",
       "      <th>1962</th>\n",
       "      <td>31.997</td>\n",
       "      <td>10267083</td>\n",
       "      <td>853.100710</td>\n",
       "    </tr>\n",
       "    <tr>\n",
       "      <th>1967</th>\n",
       "      <td>34.020</td>\n",
       "      <td>11537966</td>\n",
       "      <td>836.197138</td>\n",
       "    </tr>\n",
       "    <tr>\n",
       "      <th>1972</th>\n",
       "      <td>36.088</td>\n",
       "      <td>13079460</td>\n",
       "      <td>739.981106</td>\n",
       "    </tr>\n",
       "    <tr>\n",
       "      <th>...</th>\n",
       "      <th>...</th>\n",
       "      <th>...</th>\n",
       "      <td>...</td>\n",
       "      <td>...</td>\n",
       "      <td>...</td>\n",
       "    </tr>\n",
       "    <tr>\n",
       "      <th rowspan=\"5\" valign=\"top\">Africa</th>\n",
       "      <th rowspan=\"5\" valign=\"top\">Zimbabwe</th>\n",
       "      <th>1987</th>\n",
       "      <td>62.351</td>\n",
       "      <td>9216418</td>\n",
       "      <td>706.157306</td>\n",
       "    </tr>\n",
       "    <tr>\n",
       "      <th>1992</th>\n",
       "      <td>60.377</td>\n",
       "      <td>10704340</td>\n",
       "      <td>693.420786</td>\n",
       "    </tr>\n",
       "    <tr>\n",
       "      <th>1997</th>\n",
       "      <td>46.809</td>\n",
       "      <td>11404948</td>\n",
       "      <td>792.449960</td>\n",
       "    </tr>\n",
       "    <tr>\n",
       "      <th>2002</th>\n",
       "      <td>39.989</td>\n",
       "      <td>11926563</td>\n",
       "      <td>672.038623</td>\n",
       "    </tr>\n",
       "    <tr>\n",
       "      <th>2007</th>\n",
       "      <td>43.487</td>\n",
       "      <td>12311143</td>\n",
       "      <td>469.709298</td>\n",
       "    </tr>\n",
       "  </tbody>\n",
       "</table>\n",
       "<p>1704 rows × 3 columns</p>\n",
       "</div>"
      ],
      "text/plain": [
       "                            lifeExp       pop   gdpPercap\n",
       "continent country     year                               \n",
       "Asia      Afghanistan 1952   28.801   8425333  779.445314\n",
       "                      1957   30.332   9240934  820.853030\n",
       "                      1962   31.997  10267083  853.100710\n",
       "                      1967   34.020  11537966  836.197138\n",
       "                      1972   36.088  13079460  739.981106\n",
       "...                             ...       ...         ...\n",
       "Africa    Zimbabwe    1987   62.351   9216418  706.157306\n",
       "                      1992   60.377  10704340  693.420786\n",
       "                      1997   46.809  11404948  792.449960\n",
       "                      2002   39.989  11926563  672.038623\n",
       "                      2007   43.487  12311143  469.709298\n",
       "\n",
       "[1704 rows x 3 columns]"
      ]
     },
     "execution_count": 2,
     "metadata": {},
     "output_type": "execute_result"
    }
   ],
   "source": [
    "df = pd.read_table('https://raw.githubusercontent.com/prasertcbs/basic-dataset/master/gapminder.tsv',\n",
    "                  index_col=['continent','country','year'])\n",
    "df"
   ]
  },
  {
   "cell_type": "markdown",
   "id": "036f0b50-5f61-4479-b2b5-5075f111eed0",
   "metadata": {},
   "source": [
    "แต่จะเห็นว่ามันยังไม่เป็นกลุ่มรวมทั้งต้องทำการ sort index ใหม่"
   ]
  },
  {
   "cell_type": "code",
   "execution_count": 3,
   "id": "00fdc67d-d00d-4022-b27f-40ed3d4e6c8f",
   "metadata": {},
   "outputs": [
    {
     "data": {
      "text/html": [
       "<div>\n",
       "<style scoped>\n",
       "    .dataframe tbody tr th:only-of-type {\n",
       "        vertical-align: middle;\n",
       "    }\n",
       "\n",
       "    .dataframe tbody tr th {\n",
       "        vertical-align: top;\n",
       "    }\n",
       "\n",
       "    .dataframe thead th {\n",
       "        text-align: right;\n",
       "    }\n",
       "</style>\n",
       "<table border=\"1\" class=\"dataframe\">\n",
       "  <thead>\n",
       "    <tr style=\"text-align: right;\">\n",
       "      <th></th>\n",
       "      <th></th>\n",
       "      <th></th>\n",
       "      <th>lifeExp</th>\n",
       "      <th>pop</th>\n",
       "      <th>gdpPercap</th>\n",
       "    </tr>\n",
       "    <tr>\n",
       "      <th>continent</th>\n",
       "      <th>country</th>\n",
       "      <th>year</th>\n",
       "      <th></th>\n",
       "      <th></th>\n",
       "      <th></th>\n",
       "    </tr>\n",
       "  </thead>\n",
       "  <tbody>\n",
       "    <tr>\n",
       "      <th rowspan=\"5\" valign=\"top\">Africa</th>\n",
       "      <th rowspan=\"5\" valign=\"top\">Algeria</th>\n",
       "      <th>1952</th>\n",
       "      <td>43.077</td>\n",
       "      <td>9279525</td>\n",
       "      <td>2449.008185</td>\n",
       "    </tr>\n",
       "    <tr>\n",
       "      <th>1957</th>\n",
       "      <td>45.685</td>\n",
       "      <td>10270856</td>\n",
       "      <td>3013.976023</td>\n",
       "    </tr>\n",
       "    <tr>\n",
       "      <th>1962</th>\n",
       "      <td>48.303</td>\n",
       "      <td>11000948</td>\n",
       "      <td>2550.816880</td>\n",
       "    </tr>\n",
       "    <tr>\n",
       "      <th>1967</th>\n",
       "      <td>51.407</td>\n",
       "      <td>12760499</td>\n",
       "      <td>3246.991771</td>\n",
       "    </tr>\n",
       "    <tr>\n",
       "      <th>1972</th>\n",
       "      <td>54.518</td>\n",
       "      <td>14760787</td>\n",
       "      <td>4182.663766</td>\n",
       "    </tr>\n",
       "    <tr>\n",
       "      <th>...</th>\n",
       "      <th>...</th>\n",
       "      <th>...</th>\n",
       "      <td>...</td>\n",
       "      <td>...</td>\n",
       "      <td>...</td>\n",
       "    </tr>\n",
       "    <tr>\n",
       "      <th rowspan=\"5\" valign=\"top\">Oceania</th>\n",
       "      <th rowspan=\"5\" valign=\"top\">New Zealand</th>\n",
       "      <th>1987</th>\n",
       "      <td>74.320</td>\n",
       "      <td>3317166</td>\n",
       "      <td>19007.191290</td>\n",
       "    </tr>\n",
       "    <tr>\n",
       "      <th>1992</th>\n",
       "      <td>76.330</td>\n",
       "      <td>3437674</td>\n",
       "      <td>18363.324940</td>\n",
       "    </tr>\n",
       "    <tr>\n",
       "      <th>1997</th>\n",
       "      <td>77.550</td>\n",
       "      <td>3676187</td>\n",
       "      <td>21050.413770</td>\n",
       "    </tr>\n",
       "    <tr>\n",
       "      <th>2002</th>\n",
       "      <td>79.110</td>\n",
       "      <td>3908037</td>\n",
       "      <td>23189.801350</td>\n",
       "    </tr>\n",
       "    <tr>\n",
       "      <th>2007</th>\n",
       "      <td>80.204</td>\n",
       "      <td>4115771</td>\n",
       "      <td>25185.009110</td>\n",
       "    </tr>\n",
       "  </tbody>\n",
       "</table>\n",
       "<p>1704 rows × 3 columns</p>\n",
       "</div>"
      ],
      "text/plain": [
       "                            lifeExp       pop     gdpPercap\n",
       "continent country     year                                 \n",
       "Africa    Algeria     1952   43.077   9279525   2449.008185\n",
       "                      1957   45.685  10270856   3013.976023\n",
       "                      1962   48.303  11000948   2550.816880\n",
       "                      1967   51.407  12760499   3246.991771\n",
       "                      1972   54.518  14760787   4182.663766\n",
       "...                             ...       ...           ...\n",
       "Oceania   New Zealand 1987   74.320   3317166  19007.191290\n",
       "                      1992   76.330   3437674  18363.324940\n",
       "                      1997   77.550   3676187  21050.413770\n",
       "                      2002   79.110   3908037  23189.801350\n",
       "                      2007   80.204   4115771  25185.009110\n",
       "\n",
       "[1704 rows x 3 columns]"
      ]
     },
     "execution_count": 3,
     "metadata": {},
     "output_type": "execute_result"
    }
   ],
   "source": [
    "df.sort_index(inplace=True)\n",
    "df"
   ]
  },
  {
   "cell_type": "markdown",
   "id": "dee0d831-5900-455f-a742-b95171d04b45",
   "metadata": {},
   "source": [
    "## คำสั่งที่ใช้ดูข้อมูลของ index\n",
    "- df.index\n",
    "- df.index.names\n",
    "- df.index.levels\n",
    "- df.get_level_values()"
   ]
  },
  {
   "cell_type": "code",
   "execution_count": 4,
   "id": "e5d11de8-2f99-4e08-b1e0-1289cc3f958d",
   "metadata": {},
   "outputs": [
    {
     "data": {
      "text/plain": [
       "MultiIndex([( 'Africa',     'Algeria', 1952),\n",
       "            ( 'Africa',     'Algeria', 1957),\n",
       "            ( 'Africa',     'Algeria', 1962),\n",
       "            ( 'Africa',     'Algeria', 1967),\n",
       "            ( 'Africa',     'Algeria', 1972),\n",
       "            ( 'Africa',     'Algeria', 1977),\n",
       "            ( 'Africa',     'Algeria', 1982),\n",
       "            ( 'Africa',     'Algeria', 1987),\n",
       "            ( 'Africa',     'Algeria', 1992),\n",
       "            ( 'Africa',     'Algeria', 1997),\n",
       "            ...\n",
       "            ('Oceania', 'New Zealand', 1962),\n",
       "            ('Oceania', 'New Zealand', 1967),\n",
       "            ('Oceania', 'New Zealand', 1972),\n",
       "            ('Oceania', 'New Zealand', 1977),\n",
       "            ('Oceania', 'New Zealand', 1982),\n",
       "            ('Oceania', 'New Zealand', 1987),\n",
       "            ('Oceania', 'New Zealand', 1992),\n",
       "            ('Oceania', 'New Zealand', 1997),\n",
       "            ('Oceania', 'New Zealand', 2002),\n",
       "            ('Oceania', 'New Zealand', 2007)],\n",
       "           names=['continent', 'country', 'year'], length=1704)"
      ]
     },
     "execution_count": 4,
     "metadata": {},
     "output_type": "execute_result"
    }
   ],
   "source": [
    "df.index"
   ]
  },
  {
   "cell_type": "code",
   "execution_count": 5,
   "id": "8996944c-c848-4a68-81d7-30346cf5fc86",
   "metadata": {},
   "outputs": [
    {
     "data": {
      "text/plain": [
       "FrozenList(['continent', 'country', 'year'])"
      ]
     },
     "execution_count": 5,
     "metadata": {},
     "output_type": "execute_result"
    }
   ],
   "source": [
    "df.index.names"
   ]
  },
  {
   "cell_type": "code",
   "execution_count": 6,
   "id": "aeb2a8c4-cacd-4790-9bb7-26bb4343ec13",
   "metadata": {},
   "outputs": [
    {
     "data": {
      "text/plain": [
       "FrozenList([['Africa', 'Americas', 'Asia', 'Europe', 'Oceania'], ['Afghanistan', 'Albania', 'Algeria', 'Angola', 'Argentina', 'Australia', 'Austria', 'Bahrain', 'Bangladesh', 'Belgium', 'Benin', 'Bolivia', 'Bosnia and Herzegovina', 'Botswana', 'Brazil', 'Bulgaria', 'Burkina Faso', 'Burundi', 'Cambodia', 'Cameroon', 'Canada', 'Central African Republic', 'Chad', 'Chile', 'China', 'Colombia', 'Comoros', 'Congo, Dem. Rep.', 'Congo, Rep.', 'Costa Rica', 'Cote d'Ivoire', 'Croatia', 'Cuba', 'Czech Republic', 'Denmark', 'Djibouti', 'Dominican Republic', 'Ecuador', 'Egypt', 'El Salvador', 'Equatorial Guinea', 'Eritrea', 'Ethiopia', 'Finland', 'France', 'Gabon', 'Gambia', 'Germany', 'Ghana', 'Greece', 'Guatemala', 'Guinea', 'Guinea-Bissau', 'Haiti', 'Honduras', 'Hong Kong, China', 'Hungary', 'Iceland', 'India', 'Indonesia', 'Iran', 'Iraq', 'Ireland', 'Israel', 'Italy', 'Jamaica', 'Japan', 'Jordan', 'Kenya', 'Korea, Dem. Rep.', 'Korea, Rep.', 'Kuwait', 'Lebanon', 'Lesotho', 'Liberia', 'Libya', 'Madagascar', 'Malawi', 'Malaysia', 'Mali', 'Mauritania', 'Mauritius', 'Mexico', 'Mongolia', 'Montenegro', 'Morocco', 'Mozambique', 'Myanmar', 'Namibia', 'Nepal', 'Netherlands', 'New Zealand', 'Nicaragua', 'Niger', 'Nigeria', 'Norway', 'Oman', 'Pakistan', 'Panama', 'Paraguay', ...], [1952, 1957, 1962, 1967, 1972, 1977, 1982, 1987, 1992, 1997, 2002, 2007]])"
      ]
     },
     "execution_count": 6,
     "metadata": {},
     "output_type": "execute_result"
    }
   ],
   "source": [
    "df.index.levels"
   ]
  },
  {
   "cell_type": "code",
   "execution_count": 7,
   "id": "fd6e8279-c54d-4e99-a68c-1f67e6638c56",
   "metadata": {},
   "outputs": [
    {
     "data": {
      "text/plain": [
       "3"
      ]
     },
     "execution_count": 7,
     "metadata": {},
     "output_type": "execute_result"
    }
   ],
   "source": [
    "df.index.nlevels"
   ]
  },
  {
   "cell_type": "markdown",
   "id": "b773650a-bc0a-4fc4-abfa-5b940178a3e1",
   "metadata": {},
   "source": [
    "# การเรียกดูข้อมูลโดยใช้ index"
   ]
  },
  {
   "cell_type": "code",
   "execution_count": 8,
   "id": "56035e52-c260-436a-80b4-c7e16425d3c7",
   "metadata": {},
   "outputs": [
    {
     "data": {
      "text/html": [
       "<div>\n",
       "<style scoped>\n",
       "    .dataframe tbody tr th:only-of-type {\n",
       "        vertical-align: middle;\n",
       "    }\n",
       "\n",
       "    .dataframe tbody tr th {\n",
       "        vertical-align: top;\n",
       "    }\n",
       "\n",
       "    .dataframe thead th {\n",
       "        text-align: right;\n",
       "    }\n",
       "</style>\n",
       "<table border=\"1\" class=\"dataframe\">\n",
       "  <thead>\n",
       "    <tr style=\"text-align: right;\">\n",
       "      <th></th>\n",
       "      <th></th>\n",
       "      <th>lifeExp</th>\n",
       "      <th>pop</th>\n",
       "      <th>gdpPercap</th>\n",
       "    </tr>\n",
       "    <tr>\n",
       "      <th>country</th>\n",
       "      <th>year</th>\n",
       "      <th></th>\n",
       "      <th></th>\n",
       "      <th></th>\n",
       "    </tr>\n",
       "  </thead>\n",
       "  <tbody>\n",
       "    <tr>\n",
       "      <th rowspan=\"5\" valign=\"top\">Afghanistan</th>\n",
       "      <th>1952</th>\n",
       "      <td>28.801</td>\n",
       "      <td>8425333</td>\n",
       "      <td>779.445314</td>\n",
       "    </tr>\n",
       "    <tr>\n",
       "      <th>1957</th>\n",
       "      <td>30.332</td>\n",
       "      <td>9240934</td>\n",
       "      <td>820.853030</td>\n",
       "    </tr>\n",
       "    <tr>\n",
       "      <th>1962</th>\n",
       "      <td>31.997</td>\n",
       "      <td>10267083</td>\n",
       "      <td>853.100710</td>\n",
       "    </tr>\n",
       "    <tr>\n",
       "      <th>1967</th>\n",
       "      <td>34.020</td>\n",
       "      <td>11537966</td>\n",
       "      <td>836.197138</td>\n",
       "    </tr>\n",
       "    <tr>\n",
       "      <th>1972</th>\n",
       "      <td>36.088</td>\n",
       "      <td>13079460</td>\n",
       "      <td>739.981106</td>\n",
       "    </tr>\n",
       "    <tr>\n",
       "      <th>...</th>\n",
       "      <th>...</th>\n",
       "      <td>...</td>\n",
       "      <td>...</td>\n",
       "      <td>...</td>\n",
       "    </tr>\n",
       "    <tr>\n",
       "      <th rowspan=\"5\" valign=\"top\">Yemen, Rep.</th>\n",
       "      <th>1987</th>\n",
       "      <td>52.922</td>\n",
       "      <td>11219340</td>\n",
       "      <td>1971.741538</td>\n",
       "    </tr>\n",
       "    <tr>\n",
       "      <th>1992</th>\n",
       "      <td>55.599</td>\n",
       "      <td>13367997</td>\n",
       "      <td>1879.496673</td>\n",
       "    </tr>\n",
       "    <tr>\n",
       "      <th>1997</th>\n",
       "      <td>58.020</td>\n",
       "      <td>15826497</td>\n",
       "      <td>2117.484526</td>\n",
       "    </tr>\n",
       "    <tr>\n",
       "      <th>2002</th>\n",
       "      <td>60.308</td>\n",
       "      <td>18701257</td>\n",
       "      <td>2234.820827</td>\n",
       "    </tr>\n",
       "    <tr>\n",
       "      <th>2007</th>\n",
       "      <td>62.698</td>\n",
       "      <td>22211743</td>\n",
       "      <td>2280.769906</td>\n",
       "    </tr>\n",
       "  </tbody>\n",
       "</table>\n",
       "<p>396 rows × 3 columns</p>\n",
       "</div>"
      ],
      "text/plain": [
       "                  lifeExp       pop    gdpPercap\n",
       "country     year                                \n",
       "Afghanistan 1952   28.801   8425333   779.445314\n",
       "            1957   30.332   9240934   820.853030\n",
       "            1962   31.997  10267083   853.100710\n",
       "            1967   34.020  11537966   836.197138\n",
       "            1972   36.088  13079460   739.981106\n",
       "...                   ...       ...          ...\n",
       "Yemen, Rep. 1987   52.922  11219340  1971.741538\n",
       "            1992   55.599  13367997  1879.496673\n",
       "            1997   58.020  15826497  2117.484526\n",
       "            2002   60.308  18701257  2234.820827\n",
       "            2007   62.698  22211743  2280.769906\n",
       "\n",
       "[396 rows x 3 columns]"
      ]
     },
     "execution_count": 8,
     "metadata": {},
     "output_type": "execute_result"
    }
   ],
   "source": [
    "df.loc['Asia']"
   ]
  },
  {
   "cell_type": "code",
   "execution_count": 9,
   "id": "8125a131-84cc-4ea3-9b99-a6f44754e753",
   "metadata": {},
   "outputs": [
    {
     "data": {
      "text/html": [
       "<div>\n",
       "<style scoped>\n",
       "    .dataframe tbody tr th:only-of-type {\n",
       "        vertical-align: middle;\n",
       "    }\n",
       "\n",
       "    .dataframe tbody tr th {\n",
       "        vertical-align: top;\n",
       "    }\n",
       "\n",
       "    .dataframe thead th {\n",
       "        text-align: right;\n",
       "    }\n",
       "</style>\n",
       "<table border=\"1\" class=\"dataframe\">\n",
       "  <thead>\n",
       "    <tr style=\"text-align: right;\">\n",
       "      <th></th>\n",
       "      <th>lifeExp</th>\n",
       "      <th>pop</th>\n",
       "      <th>gdpPercap</th>\n",
       "    </tr>\n",
       "    <tr>\n",
       "      <th>year</th>\n",
       "      <th></th>\n",
       "      <th></th>\n",
       "      <th></th>\n",
       "    </tr>\n",
       "  </thead>\n",
       "  <tbody>\n",
       "    <tr>\n",
       "      <th>1952</th>\n",
       "      <td>50.848</td>\n",
       "      <td>21289402</td>\n",
       "      <td>757.797418</td>\n",
       "    </tr>\n",
       "    <tr>\n",
       "      <th>1957</th>\n",
       "      <td>53.630</td>\n",
       "      <td>25041917</td>\n",
       "      <td>793.577415</td>\n",
       "    </tr>\n",
       "    <tr>\n",
       "      <th>1962</th>\n",
       "      <td>56.061</td>\n",
       "      <td>29263397</td>\n",
       "      <td>1002.199172</td>\n",
       "    </tr>\n",
       "    <tr>\n",
       "      <th>1967</th>\n",
       "      <td>58.285</td>\n",
       "      <td>34024249</td>\n",
       "      <td>1295.460660</td>\n",
       "    </tr>\n",
       "    <tr>\n",
       "      <th>1972</th>\n",
       "      <td>60.405</td>\n",
       "      <td>39276153</td>\n",
       "      <td>1524.358936</td>\n",
       "    </tr>\n",
       "    <tr>\n",
       "      <th>1977</th>\n",
       "      <td>62.494</td>\n",
       "      <td>44148285</td>\n",
       "      <td>1961.224635</td>\n",
       "    </tr>\n",
       "    <tr>\n",
       "      <th>1982</th>\n",
       "      <td>64.597</td>\n",
       "      <td>48827160</td>\n",
       "      <td>2393.219781</td>\n",
       "    </tr>\n",
       "    <tr>\n",
       "      <th>1987</th>\n",
       "      <td>66.084</td>\n",
       "      <td>52910342</td>\n",
       "      <td>2982.653773</td>\n",
       "    </tr>\n",
       "    <tr>\n",
       "      <th>1992</th>\n",
       "      <td>67.298</td>\n",
       "      <td>56667095</td>\n",
       "      <td>4616.896545</td>\n",
       "    </tr>\n",
       "    <tr>\n",
       "      <th>1997</th>\n",
       "      <td>67.521</td>\n",
       "      <td>60216677</td>\n",
       "      <td>5852.625497</td>\n",
       "    </tr>\n",
       "    <tr>\n",
       "      <th>2002</th>\n",
       "      <td>68.564</td>\n",
       "      <td>62806748</td>\n",
       "      <td>5913.187529</td>\n",
       "    </tr>\n",
       "    <tr>\n",
       "      <th>2007</th>\n",
       "      <td>70.616</td>\n",
       "      <td>65068149</td>\n",
       "      <td>7458.396327</td>\n",
       "    </tr>\n",
       "  </tbody>\n",
       "</table>\n",
       "</div>"
      ],
      "text/plain": [
       "      lifeExp       pop    gdpPercap\n",
       "year                                \n",
       "1952   50.848  21289402   757.797418\n",
       "1957   53.630  25041917   793.577415\n",
       "1962   56.061  29263397  1002.199172\n",
       "1967   58.285  34024249  1295.460660\n",
       "1972   60.405  39276153  1524.358936\n",
       "1977   62.494  44148285  1961.224635\n",
       "1982   64.597  48827160  2393.219781\n",
       "1987   66.084  52910342  2982.653773\n",
       "1992   67.298  56667095  4616.896545\n",
       "1997   67.521  60216677  5852.625497\n",
       "2002   68.564  62806748  5913.187529\n",
       "2007   70.616  65068149  7458.396327"
      ]
     },
     "execution_count": 9,
     "metadata": {},
     "output_type": "execute_result"
    }
   ],
   "source": [
    "df.loc[('Asia','Thailand')]"
   ]
  },
  {
   "cell_type": "markdown",
   "id": "5c15832c-2189-4379-aa90-dcc37dc0384c",
   "metadata": {},
   "source": [
    "จะเห็นว่าเรียกดู index ด้วย\n",
    "df.loc[('Asia','Thailand')] จะได้ออกมาเป็น **data frame เหมือนเดิม**\n",
    "ก็แค่กรองอีกรอบต่อด้วยปี .loc[1972:2002] เพื่อที่จะดูข้อมูลตั้งแต่ปี 1972 ถึง 2002"
   ]
  },
  {
   "cell_type": "code",
   "execution_count": 10,
   "id": "da0ea342-0956-40dd-99a5-6e0aa732b155",
   "metadata": {},
   "outputs": [
    {
     "data": {
      "text/html": [
       "<div>\n",
       "<style scoped>\n",
       "    .dataframe tbody tr th:only-of-type {\n",
       "        vertical-align: middle;\n",
       "    }\n",
       "\n",
       "    .dataframe tbody tr th {\n",
       "        vertical-align: top;\n",
       "    }\n",
       "\n",
       "    .dataframe thead th {\n",
       "        text-align: right;\n",
       "    }\n",
       "</style>\n",
       "<table border=\"1\" class=\"dataframe\">\n",
       "  <thead>\n",
       "    <tr style=\"text-align: right;\">\n",
       "      <th></th>\n",
       "      <th>lifeExp</th>\n",
       "      <th>pop</th>\n",
       "      <th>gdpPercap</th>\n",
       "    </tr>\n",
       "    <tr>\n",
       "      <th>year</th>\n",
       "      <th></th>\n",
       "      <th></th>\n",
       "      <th></th>\n",
       "    </tr>\n",
       "  </thead>\n",
       "  <tbody>\n",
       "    <tr>\n",
       "      <th>1972</th>\n",
       "      <td>60.405</td>\n",
       "      <td>39276153</td>\n",
       "      <td>1524.358936</td>\n",
       "    </tr>\n",
       "    <tr>\n",
       "      <th>1977</th>\n",
       "      <td>62.494</td>\n",
       "      <td>44148285</td>\n",
       "      <td>1961.224635</td>\n",
       "    </tr>\n",
       "    <tr>\n",
       "      <th>1982</th>\n",
       "      <td>64.597</td>\n",
       "      <td>48827160</td>\n",
       "      <td>2393.219781</td>\n",
       "    </tr>\n",
       "    <tr>\n",
       "      <th>1987</th>\n",
       "      <td>66.084</td>\n",
       "      <td>52910342</td>\n",
       "      <td>2982.653773</td>\n",
       "    </tr>\n",
       "    <tr>\n",
       "      <th>1992</th>\n",
       "      <td>67.298</td>\n",
       "      <td>56667095</td>\n",
       "      <td>4616.896545</td>\n",
       "    </tr>\n",
       "    <tr>\n",
       "      <th>1997</th>\n",
       "      <td>67.521</td>\n",
       "      <td>60216677</td>\n",
       "      <td>5852.625497</td>\n",
       "    </tr>\n",
       "    <tr>\n",
       "      <th>2002</th>\n",
       "      <td>68.564</td>\n",
       "      <td>62806748</td>\n",
       "      <td>5913.187529</td>\n",
       "    </tr>\n",
       "  </tbody>\n",
       "</table>\n",
       "</div>"
      ],
      "text/plain": [
       "      lifeExp       pop    gdpPercap\n",
       "year                                \n",
       "1972   60.405  39276153  1524.358936\n",
       "1977   62.494  44148285  1961.224635\n",
       "1982   64.597  48827160  2393.219781\n",
       "1987   66.084  52910342  2982.653773\n",
       "1992   67.298  56667095  4616.896545\n",
       "1997   67.521  60216677  5852.625497\n",
       "2002   68.564  62806748  5913.187529"
      ]
     },
     "execution_count": 10,
     "metadata": {},
     "output_type": "execute_result"
    }
   ],
   "source": [
    "df.loc[('Asia','Thailand')].loc[1972:2002]"
   ]
  },
  {
   "cell_type": "markdown",
   "id": "5e03f554-4625-4721-833d-d1e9e9f8f9aa",
   "metadata": {},
   "source": [
    "ต้องระวังตัวสุดท้ายจะอยู่ในผลลัพทธ์ด้วย"
   ]
  },
  {
   "cell_type": "code",
   "execution_count": 11,
   "id": "04f6440a-c9be-412a-ae7e-71fcd10eaac2",
   "metadata": {},
   "outputs": [
    {
     "data": {
      "text/plain": [
       "year\n",
       "1972    39276153\n",
       "1977    44148285\n",
       "1982    48827160\n",
       "1987    52910342\n",
       "1992    56667095\n",
       "1997    60216677\n",
       "2002    62806748\n",
       "Name: pop, dtype: int64"
      ]
     },
     "execution_count": 11,
     "metadata": {},
     "output_type": "execute_result"
    }
   ],
   "source": [
    "df.loc[('Asia','Thailand')].loc[1972:2002]['pop']"
   ]
  },
  {
   "cell_type": "code",
   "execution_count": 26,
   "id": "fb2bd6b5-a862-40cf-ba1d-5ce212d0b4b9",
   "metadata": {},
   "outputs": [
    {
     "data": {
      "text/plain": [
       "<Axes: xlabel='year'>"
      ]
     },
     "execution_count": 26,
     "metadata": {},
     "output_type": "execute_result"
    },
    {
     "data": {
      "image/png": "[encoded data removed]",
      "text/plain": [
       "<Figure size 640x480 with 1 Axes>"
      ]
     },
     "metadata": {},
     "output_type": "display_data"
    }
   ],
   "source": [
    "%matplotlib inline \n",
    "df.loc[('Asia','Thailand')].loc[1972:2002]['pop'].plot()"
   ]
  },
  {
   "cell_type": "code",
   "execution_count": 17,
   "id": "e9ec883e-9156-4076-9f25-2ac30b32b9d8",
   "metadata": {},
   "outputs": [
    {
     "data": {
      "text/plain": [
       "Index(['Africa', 'Africa', 'Africa', 'Africa', 'Africa', 'Africa', 'Africa',\n",
       "       'Africa', 'Africa', 'Africa',\n",
       "       ...\n",
       "       'Oceania', 'Oceania', 'Oceania', 'Oceania', 'Oceania', 'Oceania',\n",
       "       'Oceania', 'Oceania', 'Oceania', 'Oceania'],\n",
       "      dtype='object', name='continent', length=1704)"
      ]
     },
     "execution_count": 17,
     "metadata": {},
     "output_type": "execute_result"
    }
   ],
   "source": [
    "df.index.get_level_values(0)"
   ]
  },
  {
   "cell_type": "code",
   "execution_count": 18,
   "id": "c75fcab9-578b-4a3e-9cba-9283061f3e84",
   "metadata": {},
   "outputs": [
    {
     "data": {
      "text/plain": [
       "Index(['Algeria', 'Algeria', 'Algeria', 'Algeria', 'Algeria', 'Algeria',\n",
       "       'Algeria', 'Algeria', 'Algeria', 'Algeria',\n",
       "       ...\n",
       "       'New Zealand', 'New Zealand', 'New Zealand', 'New Zealand',\n",
       "       'New Zealand', 'New Zealand', 'New Zealand', 'New Zealand',\n",
       "       'New Zealand', 'New Zealand'],\n",
       "      dtype='object', name='country', length=1704)"
      ]
     },
     "execution_count": 18,
     "metadata": {},
     "output_type": "execute_result"
    }
   ],
   "source": [
    "df.index.get_level_values(1)"
   ]
  },
  {
   "cell_type": "code",
   "execution_count": 19,
   "id": "2c198b57-b955-4cce-b691-279a64639544",
   "metadata": {},
   "outputs": [
    {
     "data": {
      "text/plain": [
       "Index([1952, 1957, 1962, 1967, 1972, 1977, 1982, 1987, 1992, 1997,\n",
       "       ...\n",
       "       1962, 1967, 1972, 1977, 1982, 1987, 1992, 1997, 2002, 2007],\n",
       "      dtype='int64', name='year', length=1704)"
      ]
     },
     "execution_count": 19,
     "metadata": {},
     "output_type": "execute_result"
    }
   ],
   "source": [
    "df.index.get_level_values(2)"
   ]
  },
  {
   "cell_type": "code",
   "execution_count": 21,
   "id": "e653e496-414d-41c1-b0d1-e5907ae69a7d",
   "metadata": {},
   "outputs": [
    {
     "data": {
      "text/html": [
       "<div>\n",
       "<style scoped>\n",
       "    .dataframe tbody tr th:only-of-type {\n",
       "        vertical-align: middle;\n",
       "    }\n",
       "\n",
       "    .dataframe tbody tr th {\n",
       "        vertical-align: top;\n",
       "    }\n",
       "\n",
       "    .dataframe thead th {\n",
       "        text-align: right;\n",
       "    }\n",
       "</style>\n",
       "<table border=\"1\" class=\"dataframe\">\n",
       "  <thead>\n",
       "    <tr style=\"text-align: right;\">\n",
       "      <th></th>\n",
       "      <th></th>\n",
       "      <th></th>\n",
       "      <th>lifeExp</th>\n",
       "      <th>pop</th>\n",
       "      <th>gdpPercap</th>\n",
       "    </tr>\n",
       "    <tr>\n",
       "      <th>continent</th>\n",
       "      <th>country</th>\n",
       "      <th>year</th>\n",
       "      <th></th>\n",
       "      <th></th>\n",
       "      <th></th>\n",
       "    </tr>\n",
       "  </thead>\n",
       "  <tbody>\n",
       "    <tr>\n",
       "      <th rowspan=\"5\" valign=\"top\">Africa</th>\n",
       "      <th>Algeria</th>\n",
       "      <th>2002</th>\n",
       "      <td>70.994</td>\n",
       "      <td>31287142</td>\n",
       "      <td>5288.040382</td>\n",
       "    </tr>\n",
       "    <tr>\n",
       "      <th>Angola</th>\n",
       "      <th>2002</th>\n",
       "      <td>41.003</td>\n",
       "      <td>10866106</td>\n",
       "      <td>2773.287312</td>\n",
       "    </tr>\n",
       "    <tr>\n",
       "      <th>Benin</th>\n",
       "      <th>2002</th>\n",
       "      <td>54.406</td>\n",
       "      <td>7026113</td>\n",
       "      <td>1372.877931</td>\n",
       "    </tr>\n",
       "    <tr>\n",
       "      <th>Botswana</th>\n",
       "      <th>2002</th>\n",
       "      <td>46.634</td>\n",
       "      <td>1630347</td>\n",
       "      <td>11003.605080</td>\n",
       "    </tr>\n",
       "    <tr>\n",
       "      <th>Burkina Faso</th>\n",
       "      <th>2002</th>\n",
       "      <td>50.650</td>\n",
       "      <td>12251209</td>\n",
       "      <td>1037.645221</td>\n",
       "    </tr>\n",
       "    <tr>\n",
       "      <th>...</th>\n",
       "      <th>...</th>\n",
       "      <th>...</th>\n",
       "      <td>...</td>\n",
       "      <td>...</td>\n",
       "      <td>...</td>\n",
       "    </tr>\n",
       "    <tr>\n",
       "      <th rowspan=\"3\" valign=\"top\">Europe</th>\n",
       "      <th>Switzerland</th>\n",
       "      <th>2002</th>\n",
       "      <td>80.620</td>\n",
       "      <td>7361757</td>\n",
       "      <td>34480.957710</td>\n",
       "    </tr>\n",
       "    <tr>\n",
       "      <th>Turkey</th>\n",
       "      <th>2002</th>\n",
       "      <td>70.845</td>\n",
       "      <td>67308928</td>\n",
       "      <td>6508.085718</td>\n",
       "    </tr>\n",
       "    <tr>\n",
       "      <th>United Kingdom</th>\n",
       "      <th>2002</th>\n",
       "      <td>78.471</td>\n",
       "      <td>59912431</td>\n",
       "      <td>29478.999190</td>\n",
       "    </tr>\n",
       "    <tr>\n",
       "      <th rowspan=\"2\" valign=\"top\">Oceania</th>\n",
       "      <th>Australia</th>\n",
       "      <th>2002</th>\n",
       "      <td>80.370</td>\n",
       "      <td>19546792</td>\n",
       "      <td>30687.754730</td>\n",
       "    </tr>\n",
       "    <tr>\n",
       "      <th>New Zealand</th>\n",
       "      <th>2002</th>\n",
       "      <td>79.110</td>\n",
       "      <td>3908037</td>\n",
       "      <td>23189.801350</td>\n",
       "    </tr>\n",
       "  </tbody>\n",
       "</table>\n",
       "<p>142 rows × 3 columns</p>\n",
       "</div>"
      ],
      "text/plain": [
       "                               lifeExp       pop     gdpPercap\n",
       "continent country        year                                 \n",
       "Africa    Algeria        2002   70.994  31287142   5288.040382\n",
       "          Angola         2002   41.003  10866106   2773.287312\n",
       "          Benin          2002   54.406   7026113   1372.877931\n",
       "          Botswana       2002   46.634   1630347  11003.605080\n",
       "          Burkina Faso   2002   50.650  12251209   1037.645221\n",
       "...                                ...       ...           ...\n",
       "Europe    Switzerland    2002   80.620   7361757  34480.957710\n",
       "          Turkey         2002   70.845  67308928   6508.085718\n",
       "          United Kingdom 2002   78.471  59912431  29478.999190\n",
       "Oceania   Australia      2002   80.370  19546792  30687.754730\n",
       "          New Zealand    2002   79.110   3908037  23189.801350\n",
       "\n",
       "[142 rows x 3 columns]"
      ]
     },
     "execution_count": 21,
     "metadata": {},
     "output_type": "execute_result"
    }
   ],
   "source": [
    "df[df.index.get_level_values(2)==2002]"
   ]
  },
  {
   "cell_type": "code",
   "execution_count": null,
   "id": "fdb4ea52-17b6-4c72-9efa-7c85705e7cc1",
   "metadata": {},
   "outputs": [],
   "source": []
  }
 ],
 "metadata": {
  "kernelspec": {
   "display_name": "Python 3 (ipykernel)",
   "language": "python",
   "name": "python3"
  },
  "language_info": {
   "codemirror_mode": {
    "name": "ipython",
    "version": 3
   },
   "file_extension": ".py",
   "mimetype": "text/x-python",
   "name": "python",
   "nbconvert_exporter": "python",
   "pygments_lexer": "ipython3",
   "version": "3.12.1"
  }
 },
 "nbformat": 4,
 "nbformat_minor": 5
}
