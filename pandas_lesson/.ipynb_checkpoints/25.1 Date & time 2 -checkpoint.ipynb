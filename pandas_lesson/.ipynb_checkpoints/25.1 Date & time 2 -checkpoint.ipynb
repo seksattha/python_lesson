{
 "cells": [
  {
   "cell_type": "markdown",
   "id": "ffdcf3a4-c07c-4a55-bfcb-4a74a65424c0",
   "metadata": {},
   "source": [
    "# Date and Time"
   ]
  },
  {
   "cell_type": "markdown",
   "id": "ae77589d-b5d7-47dd-928e-aa739f5fdb74",
   "metadata": {},
   "source": [
    "### Timedelta"
   ]
  },
  {
   "cell_type": "code",
   "execution_count": 180,
   "id": "e14b643d-ec92-4c92-a5db-6e9149ca6db8",
   "metadata": {},
   "outputs": [],
   "source": [
    "from datetime import timedelta\n",
    "delta = timedelta(\n",
    "    days=50,\n",
    "    seconds=27,\n",
    "    microseconds=10,\n",
    "    milliseconds=29000,\n",
    "    minutes=5,\n",
    "    hours=8,\n",
    "    weeks=2\n",
    ")"
   ]
  },
  {
   "cell_type": "code",
   "execution_count": 181,
   "id": "cd29ee1a-a84b-4a49-bd8e-32b1080ff39a",
   "metadata": {},
   "outputs": [
    {
     "data": {
      "text/plain": [
       "datetime.timedelta(days=64, seconds=29156, microseconds=10)"
      ]
     },
     "execution_count": 181,
     "metadata": {},
     "output_type": "execute_result"
    }
   ],
   "source": [
    "delta"
   ]
  },
  {
   "cell_type": "code",
   "execution_count": 182,
   "id": "4ea4215b-ade6-4b7d-8104-14e6b25a0a99",
   "metadata": {},
   "outputs": [
    {
     "data": {
      "text/plain": [
       "31536000.0"
      ]
     },
     "execution_count": 182,
     "metadata": {},
     "output_type": "execute_result"
    }
   ],
   "source": [
    "year = timedelta(days=365)\n",
    "another_year = timedelta(weeks=40, days=84, hours=23)\n",
    "year == another_year\n",
    "year.total_seconds()"
   ]
  },
  {
   "cell_type": "code",
   "execution_count": null,
   "id": "5156cc93-631a-4eac-b615-72469690c304",
   "metadata": {},
   "outputs": [],
   "source": []
  },
  {
   "cell_type": "code",
   "execution_count": 183,
   "id": "ff86d8a1-4159-4c7e-baa0-5156945bb410",
   "metadata": {},
   "outputs": [
    {
     "data": {
      "text/plain": [
       "datetime.timedelta(days=3650)"
      ]
     },
     "execution_count": 183,
     "metadata": {},
     "output_type": "execute_result"
    }
   ],
   "source": [
    "year = timedelta(days=365)\n",
    "ten_years = 10 * year\n",
    "ten_years"
   ]
  },
  {
   "cell_type": "code",
   "execution_count": 184,
   "id": "481996e6-491c-4c44-939e-bb2d09e4db66",
   "metadata": {},
   "outputs": [
    {
     "data": {
      "text/plain": [
       "datetime.timedelta(days=3285)"
      ]
     },
     "execution_count": 184,
     "metadata": {},
     "output_type": "execute_result"
    }
   ],
   "source": [
    "nine_years = ten_years - year\n",
    "nine_years"
   ]
  },
  {
   "cell_type": "markdown",
   "id": "bf61158a-c874-4f6f-a1d5-2c50738194ea",
   "metadata": {},
   "source": [
    "### date\n",
    "class datetime.**date**(year, month,day)  \n",
    "- MINYEAR <= year <= MAXYEAR\r",
    "- \r\n",
    "1 <= month <= 1- \r\n",
    "\r\n",
    "1 <= day <= number of days in the given month and year"
   ]
  },
  {
   "cell_type": "markdown",
   "id": "9ffedb96-88fe-4e97-9a3d-bc8c728efff5",
   "metadata": {},
   "source": [
    "#### today\n",
    "date.today()"
   ]
  },
  {
   "cell_type": "code",
   "execution_count": 185,
   "id": "a13062c2-a675-41f0-826c-893dfef5e387",
   "metadata": {},
   "outputs": [
    {
     "data": {
      "text/plain": [
       "datetime.date(2024, 4, 9)"
      ]
     },
     "execution_count": 185,
     "metadata": {},
     "output_type": "execute_result"
    }
   ],
   "source": [
    "date.today()"
   ]
  },
  {
   "cell_type": "markdown",
   "id": "13c9c20e-4e44-4751-8498-432c0710f52c",
   "metadata": {},
   "source": [
    "#### day month year"
   ]
  },
  {
   "cell_type": "code",
   "execution_count": 186,
   "id": "c70ea90a-609d-4429-a716-1218f1d567a8",
   "metadata": {},
   "outputs": [],
   "source": [
    "mydate = date(2024,12,1)"
   ]
  },
  {
   "cell_type": "code",
   "execution_count": 187,
   "id": "ec7d9d64-893c-474d-8b51-416788410f71",
   "metadata": {},
   "outputs": [],
   "source": [
    "from datetime import date\n",
    "mydate= date(2024,12,1)\n"
   ]
  },
  {
   "cell_type": "code",
   "execution_count": 188,
   "id": "58814968-44f8-4c56-a78e-78e21beb290e",
   "metadata": {},
   "outputs": [
    {
     "data": {
      "text/plain": [
       "1"
      ]
     },
     "execution_count": 188,
     "metadata": {},
     "output_type": "execute_result"
    }
   ],
   "source": [
    "mydate.day"
   ]
  },
  {
   "cell_type": "code",
   "execution_count": 189,
   "id": "705173b9-31d4-4940-b294-c1c5bf2150a6",
   "metadata": {},
   "outputs": [
    {
     "data": {
      "text/plain": [
       "12"
      ]
     },
     "execution_count": 189,
     "metadata": {},
     "output_type": "execute_result"
    }
   ],
   "source": [
    "mydate.month"
   ]
  },
  {
   "cell_type": "code",
   "execution_count": 190,
   "id": "f9d1587d-062a-44ab-8d8c-7b406da21f8f",
   "metadata": {},
   "outputs": [
    {
     "data": {
      "text/plain": [
       "2024"
      ]
     },
     "execution_count": 190,
     "metadata": {},
     "output_type": "execute_result"
    }
   ],
   "source": [
    "mydate.year"
   ]
  },
  {
   "cell_type": "markdown",
   "id": "be847340-50f2-42c2-be96-4e7a7a408b88",
   "metadata": {},
   "source": [
    "#### ISO 8601"
   ]
  },
  {
   "cell_type": "code",
   "execution_count": 191,
   "id": "fa37c8cd-9f4a-405c-8ea9-6b673467da5e",
   "metadata": {},
   "outputs": [],
   "source": [
    "from datetime import date"
   ]
  },
  {
   "cell_type": "code",
   "execution_count": 192,
   "id": "4d108220-629e-48f1-86cd-b7af60207974",
   "metadata": {},
   "outputs": [
    {
     "data": {
      "text/plain": [
       "datetime.date(2019, 12, 4)"
      ]
     },
     "execution_count": 192,
     "metadata": {},
     "output_type": "execute_result"
    }
   ],
   "source": [
    "date.fromisoformat('2019-12-04')"
   ]
  },
  {
   "cell_type": "code",
   "execution_count": 193,
   "id": "1a5c030b-65cf-41d0-b9ff-3413e46f7d71",
   "metadata": {},
   "outputs": [
    {
     "data": {
      "text/plain": [
       "datetime.date(2019, 12, 4)"
      ]
     },
     "execution_count": 193,
     "metadata": {},
     "output_type": "execute_result"
    }
   ],
   "source": [
    "date.fromisoformat('20191204')"
   ]
  },
  {
   "cell_type": "markdown",
   "id": "5b2a52f5-c7ce-44de-8313-6e86fe2d944f",
   "metadata": {},
   "source": [
    "#### Resolution\n",
    "จะเป็นการตรวจสอบว่าสอบว่ายังอยู่ในวันเดียวกันหรือไม่ ในกรณีที่แตกต่างกันอยู่ในระดับวินาที (น้อยกว่าวัน)"
   ]
  },
  {
   "cell_type": "code",
   "execution_count": 194,
   "id": "6e58020a-d76b-44fd-983c-cfe20498ffd0",
   "metadata": {},
   "outputs": [
    {
     "data": {
      "text/plain": [
       "datetime.timedelta(days=1)"
      ]
     },
     "execution_count": 194,
     "metadata": {},
     "output_type": "execute_result"
    }
   ],
   "source": [
    "resolution = date.resolution\n",
    "resolution"
   ]
  },
  {
   "cell_type": "markdown",
   "id": "8d74d290-edf6-4ccb-9c7b-3e5caebdc5db",
   "metadata": {},
   "source": [
    "example"
   ]
  },
  {
   "cell_type": "code",
   "execution_count": 195,
   "id": "3e7293f4-167e-46ca-8498-99667576b15a",
   "metadata": {},
   "outputs": [],
   "source": [
    "from datetime import date, datetime\n",
    "dt1 = datetime(2024,2,1)\n",
    "dt2 = datetime(2024,1,1,12,30)"
   ]
  },
  {
   "cell_type": "code",
   "execution_count": 196,
   "id": "9c12245a-5c1e-4cb3-94a0-6c5ec62a7601",
   "metadata": {},
   "outputs": [
    {
     "data": {
      "text/plain": [
       "datetime.timedelta(days=30, seconds=41400)"
      ]
     },
     "execution_count": 196,
     "metadata": {},
     "output_type": "execute_result"
    }
   ],
   "source": [
    "dt1 - dt2"
   ]
  },
  {
   "cell_type": "code",
   "execution_count": 197,
   "id": "c8837f9d-ad22-418e-a645-586058f828b3",
   "metadata": {},
   "outputs": [
    {
     "name": "stdout",
     "output_type": "stream",
     "text": [
      "not\n"
     ]
    }
   ],
   "source": [
    "if abs(dt1 - dt2) < resolution:\n",
    "    print('equal')\n",
    "else:\n",
    "    print('not')"
   ]
  },
  {
   "cell_type": "markdown",
   "id": "7b5d2eb4-ad2b-4c48-a726-d3bae814762c",
   "metadata": {},
   "source": [
    "#### timetuple()"
   ]
  },
  {
   "cell_type": "code",
   "execution_count": 198,
   "id": "a36fee2c-92e6-4716-b61e-d08af1839ae8",
   "metadata": {},
   "outputs": [
    {
     "data": {
      "text/plain": [
       "time.struct_time(tm_year=1941, tm_mon=12, tm_mday=7, tm_hour=0, tm_min=0, tm_sec=0, tm_wday=6, tm_yday=341, tm_isdst=-1)"
      ]
     },
     "execution_count": 198,
     "metadata": {},
     "output_type": "execute_result"
    }
   ],
   "source": [
    "from datetime import date\n",
    "date = date(1941,12,7)\n",
    "my_titmetuple = date.timetuple()\n"
   ]
  },
  {
   "cell_type": "code",
   "execution_count": 199,
   "id": "6efea1c1-6335-46a6-9071-fe85eb6a0b44",
   "metadata": {},
   "outputs": [
    {
     "ename": "NameError",
     "evalue": "name 'time_tuple' is not defined",
     "output_type": "error",
     "traceback": [
      "\u001b[1;31m---------------------------------------------------------------------------\u001b[0m",
      "\u001b[1;31mNameError\u001b[0m                                 Traceback (most recent call last)",
      "Cell \u001b[1;32mIn[199], line 1\u001b[0m\n\u001b[1;32m----> 1\u001b[0m year \u001b[38;5;241m=\u001b[39m \u001b[43mtime_tuple\u001b[49m\u001b[38;5;241m.\u001b[39mtm_year\n",
      "\u001b[1;31mNameError\u001b[0m: name 'time_tuple' is not defined"
     ]
    }
   ],
   "source": [
    "my_timetup"
   ]
  },
  {
   "cell_type": "markdown",
   "id": "8710e526-96a4-486e-b8d5-4de6647b44a2",
   "metadata": {},
   "source": [
    "#### replace"
   ]
  },
  {
   "cell_type": "code",
   "execution_count": null,
   "id": "00ea80da-08d1-487a-a58c-dfee2aca304b",
   "metadata": {},
   "outputs": [],
   "source": [
    "from datetime import date\n",
    "date1 = date(2024,12,1)\n",
    "date1.replace(day=5)"
   ]
  },
  {
   "cell_type": "code",
   "execution_count": null,
   "id": "7cfed082-ccff-4056-80ca-7c33bb8e7571",
   "metadata": {},
   "outputs": [],
   "source": [
    "date1.replace(year=2027)"
   ]
  },
  {
   "cell_type": "code",
   "execution_count": null,
   "id": "372cf3ab-696c-46d3-a77c-658a233f8ed3",
   "metadata": {},
   "outputs": [],
   "source": [
    "date1.replace(year=2025, month=11, day=14)"
   ]
  },
  {
   "cell_type": "markdown",
   "id": "5ae68e0f-22ce-4a25-858f-a790338b9bc3",
   "metadata": {},
   "source": [
    "#### weekday\n",
    "- weekday() monday return 0 sunday return 6\n",
    "- isoweekday() monday return 1 sunday return 7"
   ]
  },
  {
   "cell_type": "markdown",
   "id": "66230e9b-e7ee-40b6-9a11-89a19c8f1463",
   "metadata": {},
   "source": [
    "Example is monday"
   ]
  },
  {
   "cell_type": "code",
   "execution_count": null,
   "id": "fff35218-75cd-44c3-b5e3-e5ff4eeb408e",
   "metadata": {},
   "outputs": [],
   "source": [
    "now = date(2024,4,9)\n",
    "now.weekday()"
   ]
  },
  {
   "cell_type": "code",
   "execution_count": null,
   "id": "eed25b4f-a22c-450b-9b72-5bf0b2a9d12a",
   "metadata": {},
   "outputs": [],
   "source": [
    "now = date(2024,4,9)\n",
    "now.isoweekday()"
   ]
  },
  {
   "cell_type": "markdown",
   "id": "9909d2c7-97c6-47ee-a0d1-fdd836a34655",
   "metadata": {},
   "source": [
    "#### Time String format\n",
    "https://strftime.org"
   ]
  },
  {
   "cell_type": "code",
   "execution_count": null,
   "id": "17fc1130-c9f9-46a6-a44a-9a507b63f38c",
   "metadata": {},
   "outputs": [],
   "source": [
    "now = date(2024,4,9)"
   ]
  },
  {
   "cell_type": "code",
   "execution_count": null,
   "id": "2e2a7049-29da-4df3-8b26-89a22ebcf3b7",
   "metadata": {},
   "outputs": [],
   "source": [
    "now.strftime('%d%m%')"
   ]
  },
  {
   "cell_type": "code",
   "execution_count": null,
   "id": "2a1cb603-ad2e-4a3f-9cd5-7327ded559f6",
   "metadata": {},
   "outputs": [],
   "source": [
    "now.strftime('%d/%m/%Y')"
   ]
  },
  {
   "cell_type": "code",
   "execution_count": null,
   "id": "d9d8c717-000d-4152-b61f-a095ed7868a7",
   "metadata": {},
   "outputs": [],
   "source": [
    "now.strftime('%b-%y')"
   ]
  },
  {
   "cell_type": "markdown",
   "id": "615926af-a585-4a83-b847-831d7defb2cd",
   "metadata": {},
   "source": [
    "จะทำการ return ค่าออกกมาเป็น string"
   ]
  },
  {
   "cell_type": "code",
   "execution_count": null,
   "id": "3ea060aa-1a00-4fcc-ab51-4fcca1c95ed9",
   "metadata": {},
   "outputs": [],
   "source": [
    "type(now.strftime('%d/%m/%Y'))"
   ]
  },
  {
   "cell_type": "markdown",
   "id": "0717d395-11f2-42b2-b037-e6be55e37344",
   "metadata": {},
   "source": [
    "สามารถที่จะสร้าง string ได้จาก date"
   ]
  },
  {
   "cell_type": "code",
   "execution_count": null,
   "id": "92b9be01-e935-422e-ba1c-eb418c7c27b3",
   "metadata": {},
   "outputs": [],
   "source": [
    "date = date(2024,12,1)\n",
    "date_str = date.strftime('%b-%y')\n",
    "date_str"
   ]
  },
  {
   "cell_type": "markdown",
   "id": "0807bccb-8d3b-45f5-9a71-bcafdd140db9",
   "metadata": {},
   "source": [
    "#### supported opearation \n",
    "date2 = date1 + timedelta"
   ]
  },
  {
   "cell_type": "markdown",
   "id": "9a80f9c9-187b-43ef-ad70-5350b0a20abb",
   "metadata": {},
   "source": [
    "`date2 = date1 + timedelta`"
   ]
  },
  {
   "cell_type": "code",
   "execution_count": null,
   "id": "08774b9c-91f8-4c9b-a266-f197a41fd1a2",
   "metadata": {},
   "outputs": [],
   "source": [
    "from datetime import date, timedelta\n",
    "date1 = date(2024,12,1)\n",
    "date2 = date1 + timedelta(days=3)\n",
    "date2"
   ]
  },
  {
   "cell_type": "markdown",
   "id": "42edfdd2-8b86-49d5-84c5-484d39d3e578",
   "metadata": {},
   "source": [
    "`date2 = date1 - timedelta`"
   ]
  },
  {
   "cell_type": "code",
   "execution_count": null,
   "id": "2d40a05e-d656-4821-9b1b-5671b5fd5a88",
   "metadata": {},
   "outputs": [],
   "source": [
    "from datetime import date, timedelta\n",
    "date1 = date(2024,12,1)\n",
    "date2 = date1 - timedelta(days=125)\n",
    "date2"
   ]
  },
  {
   "cell_type": "markdown",
   "id": "264be01b-c47f-4a35-8a33-d90acdc10a1b",
   "metadata": {},
   "source": [
    "`timedelta = date1 - date2`"
   ]
  },
  {
   "cell_type": "code",
   "execution_count": null,
   "id": "305288c7-f939-4ec1-9f21-c505c6fd5f78",
   "metadata": {},
   "outputs": [],
   "source": [
    "from datetime import date, timedelta\n",
    "date1 = date(2024,12,1)\n",
    "date2 = date(2024,12,27)\n",
    "timedelta = date2 - date1\n",
    "timedelta"
   ]
  },
  {
   "cell_type": "markdown",
   "id": "c0bdd786-d978-4760-b9f4-24b358ddf003",
   "metadata": {},
   "source": [
    "comparison\n",
    "จะเป้นการนำวันทั้งสองมาทำการเปรียบเทียบตามเงื่อนไขที่กำหนดไว้และทำการ return ออกมาเป็น boolean (True False)\n",
    "date1 == date2  \n",
    "date2 != date2\n",
    "\n",
    "- date1 < date2\n",
    "- date1 > date2\n",
    "- date1 <= date2\n",
    "- date1 >= date2"
   ]
  },
  {
   "cell_type": "code",
   "execution_count": null,
   "id": "597666f0-93a2-4e7b-8530-0d0d4fcfb989",
   "metadata": {},
   "outputs": [],
   "source": [
    "date2 == date2"
   ]
  },
  {
   "cell_type": "code",
   "execution_count": null,
   "id": "2a4585f0-4a32-469c-8092-876cb6a3badb",
   "metadata": {},
   "outputs": [],
   "source": [
    "date2 == date1"
   ]
  },
  {
   "cell_type": "code",
   "execution_count": null,
   "id": "472bd388-ae46-496c-90c4-28274cae500a",
   "metadata": {},
   "outputs": [],
   "source": [
    "date2 > date1"
   ]
  },
  {
   "cell_type": "code",
   "execution_count": null,
   "id": "4e0d37f8-033f-4f7b-b2a9-8a10affeb2ad",
   "metadata": {},
   "outputs": [],
   "source": [
    "date1 >= date2"
   ]
  },
  {
   "cell_type": "code",
   "execution_count": null,
   "id": "caebf3db-face-4780-ba66-d4873c1c222c",
   "metadata": {},
   "outputs": [],
   "source": [
    "from datetime import date, timedelta\n",
    "date1 = date(1941,12,7)\n",
    "date2 = date(1945,8,15)\n",
    "timedelta = date2 - date1\n",
    "timedelta"
   ]
  },
  {
   "cell_type": "code",
   "execution_count": null,
   "id": "844b4470-8c78-410c-939a-0c46c85303e3",
   "metadata": {},
   "outputs": [],
   "source": [
    "diff_year = date2.year - date1.year\n",
    "diff_month = date2.month - date1.month\n",
    "total_diff_month = (diff_year)*12 + diff_month\n",
    "total_diff_month"
   ]
  },
  {
   "cell_type": "markdown",
   "id": "feca571d-5bff-41bb-bbc1-7a3f9ec55fff",
   "metadata": {},
   "source": [
    "### datetime"
   ]
  },
  {
   "cell_type": "markdown",
   "id": "1155f49d-f472-41de-98d0-27ef754900a5",
   "metadata": {},
   "source": [
    "#### now \n",
    "1. datetime.now()\n",
    "\n"
   ]
  },
  {
   "cell_type": "code",
   "execution_count": null,
   "id": "cc3cb792-95e7-42e6-870a-60d4ff588d92",
   "metadata": {},
   "outputs": [],
   "source": [
    "from datetime import datetime\n",
    "datetime.now()"
   ]
  },
  {
   "cell_type": "markdown",
   "id": "71179fb3-3541-43b7-8326-9bb0eea0a74b",
   "metadata": {},
   "source": [
    "#### ISO 8601"
   ]
  },
  {
   "cell_type": "code",
   "execution_count": null,
   "id": "2e6e7b6d-2ac9-4de2-a772-fd6fea6188f3",
   "metadata": {},
   "outputs": [],
   "source": []
  },
  {
   "cell_type": "code",
   "execution_count": null,
   "id": "48720741-ccd8-45c2-bdea-77861dab2799",
   "metadata": {},
   "outputs": [],
   "source": []
  }
 ],
 "metadata": {
  "kernelspec": {
   "display_name": "Python 3 (ipykernel)",
   "language": "python",
   "name": "python3"
  },
  "language_info": {
   "codemirror_mode": {
    "name": "ipython",
    "version": 3
   },
   "file_extension": ".py",
   "mimetype": "text/x-python",
   "name": "python",
   "nbconvert_exporter": "python",
   "pygments_lexer": "ipython3",
   "version": "3.12.0"
  }
 },
 "nbformat": 4,
 "nbformat_minor": 5
}
