{
 "cells": [
  {
   "cell_type": "markdown",
   "id": "26a249ab-7265-4265-8a80-80b236fdfdb8",
   "metadata": {},
   "source": [
    "# Lamda\n",
    "เป็นฟังก์ชั่นที่ไม่มีชื่อ จะสามารถเป็นอะไรก็ ข้อดีของมันก็คือ มันเร็ว เหมาะสำหรับ function ง่าย ใช้แค่ครั้งเดียว  \n",
    "ทำความเข้าใจโค้ดได้ง่ายขึ้น"
   ]
  },
  {
   "cell_type": "markdown",
   "id": "adfead1a-68dc-467c-a1aa-0fcfbc594157",
   "metadata": {},
   "source": [
    "มาลองแบบฟังก์ชั่นปกติ"
   ]
  },
  {
   "cell_type": "code",
   "execution_count": 1,
   "id": "f0494e28-8a94-46e1-9892-5db45259f269",
   "metadata": {},
   "outputs": [],
   "source": [
    "def cel2fah(c):\n",
    "    return ((c*(9/5)) + 32 )\n"
   ]
  },
  {
   "cell_type": "code",
   "execution_count": 2,
   "id": "0748d7ae-056e-4110-bb99-91ecb677962d",
   "metadata": {},
   "outputs": [
    {
     "data": {
      "text/plain": [
       "50.0"
      ]
     },
     "execution_count": 2,
     "metadata": {},
     "output_type": "execute_result"
    }
   ],
   "source": [
    "cel2fah(10)"
   ]
  },
  {
   "cell_type": "markdown",
   "id": "0d056653-d396-4c80-80dd-87886055d6a0",
   "metadata": {},
   "source": [
    "มาลองเขียนแบบ Lambda "
   ]
  },
  {
   "cell_type": "code",
   "execution_count": 3,
   "id": "e85f3e8d-a85a-43ed-a020-0a6c99712b62",
   "metadata": {},
   "outputs": [
    {
     "data": {
      "text/plain": [
       "<function __main__.<lambda>(c)>"
      ]
     },
     "execution_count": 3,
     "metadata": {},
     "output_type": "execute_result"
    }
   ],
   "source": [
    "lambda c: ((c*(9/5)) + 32)"
   ]
  },
  {
   "cell_type": "markdown",
   "id": "06276911-23e9-4fa2-9b66-1e54650db41b",
   "metadata": {},
   "source": [
    "มันจะต้องกำหนดให้ว่าจะต้อง**ส่งค่ากลับมาที่ ตัวแปร** ในกรณีนี้ก็คือ c2f"
   ]
  },
  {
   "cell_type": "code",
   "execution_count": 4,
   "id": "3688c1e7-5fd6-4747-9b2e-d2f5c2dfc094",
   "metadata": {},
   "outputs": [],
   "source": [
    "c2f = lambda c: ((c*(9/5)) + 32)"
   ]
  },
  {
   "cell_type": "code",
   "execution_count": 6,
   "id": "72f833bf-7dc7-411f-b6a1-4dbb3ea97a35",
   "metadata": {},
   "outputs": [
    {
     "data": {
      "text/plain": [
       "122.0"
      ]
     },
     "execution_count": 6,
     "metadata": {},
     "output_type": "execute_result"
    }
   ],
   "source": [
    "c2f(50)"
   ]
  },
  {
   "cell_type": "markdown",
   "id": "bd701b3b-c256-473c-b94b-c85d7aec8480",
   "metadata": {},
   "source": [
    "มาลองใช้งานกับ list"
   ]
  },
  {
   "cell_type": "code",
   "execution_count": 8,
   "id": "45745c8a-3efe-4145-ad25-796c019a8f5a",
   "metadata": {},
   "outputs": [],
   "source": [
    "t= [0,10,20,30,40,50]"
   ]
  },
  {
   "cell_type": "code",
   "execution_count": 10,
   "id": "3d7c01b2-4401-4e21-9b16-a2d0862b66ce",
   "metadata": {},
   "outputs": [
    {
     "data": {
      "text/plain": [
       "[32.0, 50.0, 68.0, 86.0, 104.0, 122.0]"
      ]
     },
     "execution_count": 10,
     "metadata": {},
     "output_type": "execute_result"
    }
   ],
   "source": [
    "f2 = map(lambda c: c * 9/5 + 32 , t)\n",
    "list(f2)"
   ]
  },
  {
   "cell_type": "code",
   "execution_count": 15,
   "id": "7d089988-4591-4965-a35d-37a9dede92a6",
   "metadata": {},
   "outputs": [],
   "source": [
    "rectangle= lambda w,h: w*h"
   ]
  },
  {
   "cell_type": "code",
   "execution_count": 16,
   "id": "acfd99df-09c2-4630-aff0-1b49a86447c8",
   "metadata": {},
   "outputs": [
    {
     "data": {
      "text/plain": [
       "50"
      ]
     },
     "execution_count": 16,
     "metadata": {},
     "output_type": "execute_result"
    }
   ],
   "source": [
    "rectangle(5,10)"
   ]
  },
  {
   "cell_type": "code",
   "execution_count": 22,
   "id": "5da386f7-b2d4-4c13-b65b-73810055b41a",
   "metadata": {
    "scrolled": true
   },
   "outputs": [
    {
     "data": {
      "text/html": [
       "<div>\n",
       "<style scoped>\n",
       "    .dataframe tbody tr th:only-of-type {\n",
       "        vertical-align: middle;\n",
       "    }\n",
       "\n",
       "    .dataframe tbody tr th {\n",
       "        vertical-align: top;\n",
       "    }\n",
       "\n",
       "    .dataframe thead th {\n",
       "        text-align: right;\n",
       "    }\n",
       "</style>\n",
       "<table border=\"1\" class=\"dataframe\">\n",
       "  <thead>\n",
       "    <tr style=\"text-align: right;\">\n",
       "      <th></th>\n",
       "      <th>celcius</th>\n",
       "    </tr>\n",
       "  </thead>\n",
       "  <tbody>\n",
       "    <tr>\n",
       "      <th>0</th>\n",
       "      <td>0</td>\n",
       "    </tr>\n",
       "    <tr>\n",
       "      <th>1</th>\n",
       "      <td>10</td>\n",
       "    </tr>\n",
       "    <tr>\n",
       "      <th>2</th>\n",
       "      <td>20</td>\n",
       "    </tr>\n",
       "    <tr>\n",
       "      <th>3</th>\n",
       "      <td>30</td>\n",
       "    </tr>\n",
       "    <tr>\n",
       "      <th>4</th>\n",
       "      <td>40</td>\n",
       "    </tr>\n",
       "    <tr>\n",
       "      <th>5</th>\n",
       "      <td>50</td>\n",
       "    </tr>\n",
       "  </tbody>\n",
       "</table>\n",
       "</div>"
      ],
      "text/plain": [
       "   celcius\n",
       "0        0\n",
       "1       10\n",
       "2       20\n",
       "3       30\n",
       "4       40\n",
       "5       50"
      ]
     },
     "execution_count": 22,
     "metadata": {},
     "output_type": "execute_result"
    }
   ],
   "source": [
    "import pandas as pd\n",
    "df = pd.DataFrame({'celcius':t})\n",
    "df"
   ]
  },
  {
   "cell_type": "markdown",
   "id": "6b290596-d64e-4139-955f-8814e31dcbf8",
   "metadata": {},
   "source": [
    "เขียนแบบปกติ"
   ]
  },
  {
   "cell_type": "code",
   "execution_count": 24,
   "id": "60d47bac-d7d7-434a-8dbb-5edca79259c5",
   "metadata": {},
   "outputs": [
    {
     "data": {
      "text/plain": [
       "0       0.0\n",
       "1     338.0\n",
       "2     676.0\n",
       "3    1014.0\n",
       "4    1352.0\n",
       "5    1690.0\n",
       "Name: celcius, dtype: float64"
      ]
     },
     "execution_count": 24,
     "metadata": {},
     "output_type": "execute_result"
    }
   ],
   "source": [
    "df.celcius * ((9/5) + 32)"
   ]
  },
  {
   "cell_type": "markdown",
   "id": "266f2aef-4564-428a-8c1a-27e6938125d5",
   "metadata": {},
   "source": [
    "เขียนโดยใช้ Function lamba"
   ]
  },
  {
   "cell_type": "code",
   "execution_count": 25,
   "id": "0833a8e1-e019-41dd-a957-5188916241cb",
   "metadata": {},
   "outputs": [
    {
     "data": {
      "text/plain": [
       "0     32.0\n",
       "1     77.0\n",
       "2    122.0\n",
       "3    167.0\n",
       "4    212.0\n",
       "5    257.0\n",
       "Name: celcius, dtype: float64"
      ]
     },
     "execution_count": 25,
     "metadata": {},
     "output_type": "execute_result"
    }
   ],
   "source": [
    "df.celcius.map(lambda c: (c*(9/2))+32)"
   ]
  },
  {
   "cell_type": "markdown",
   "id": "9c992646-aa3b-4281-8a74-cc808eafdca8",
   "metadata": {},
   "source": [
    "ต่างกันที่แบบที่ใช้ lamba มันจะเร็วกว่าโคตร"
   ]
  },
  {
   "cell_type": "code",
   "execution_count": null,
   "id": "d460a295-9c64-4c49-a52a-5f0d0a29135f",
   "metadata": {},
   "outputs": [],
   "source": []
  },
  {
   "cell_type": "markdown",
   "id": "ad352391-27e5-4805-9a43-5cb9e2d046fa",
   "metadata": {},
   "source": [
    "## Lamda 2\n",
    "`map()`  สามารถที่จะทำงานได้ทั้ง series และ dataframe (เฉพาะใน version เก่าๆ เท่านั้นจะทำได้เฉพาะ series)\n",
    "`apply()` จะใช้งานกับ DataFrame\n",
    "การตั้งค่า axis =1 จะเป็นการกำหนดให้เครื่องทำงานจากบนลงล่าง\n",
    "axis = 0 จะกำหนดให้เป็นการทำงานจากซ่ายไปขวา"
   ]
  },
  {
   "cell_type": "code",
   "execution_count": 35,
   "id": "38255e6a-951e-41c7-bebc-4afc755a1134",
   "metadata": {},
   "outputs": [
    {
     "data": {
      "text/plain": [
       "(10, 4)"
      ]
     },
     "execution_count": 35,
     "metadata": {},
     "output_type": "execute_result"
    }
   ],
   "source": [
    "df = pd.read_table('applicant.tsv')\n",
    "df.shape"
   ]
  },
  {
   "cell_type": "code",
   "execution_count": 36,
   "id": "3b5a2420-2a2c-4cc9-a4b3-c5ccd8b71b01",
   "metadata": {},
   "outputs": [
    {
     "data": {
      "text/html": [
       "<div>\n",
       "<style scoped>\n",
       "    .dataframe tbody tr th:only-of-type {\n",
       "        vertical-align: middle;\n",
       "    }\n",
       "\n",
       "    .dataframe tbody tr th {\n",
       "        vertical-align: top;\n",
       "    }\n",
       "\n",
       "    .dataframe thead th {\n",
       "        text-align: right;\n",
       "    }\n",
       "</style>\n",
       "<table border=\"1\" class=\"dataframe\">\n",
       "  <thead>\n",
       "    <tr style=\"text-align: right;\">\n",
       "      <th></th>\n",
       "      <th>applicantID</th>\n",
       "      <th>eng</th>\n",
       "      <th>math</th>\n",
       "      <th>interview</th>\n",
       "    </tr>\n",
       "  </thead>\n",
       "  <tbody>\n",
       "    <tr>\n",
       "      <th>0</th>\n",
       "      <td>A432</td>\n",
       "      <td>91</td>\n",
       "      <td>97</td>\n",
       "      <td>83</td>\n",
       "    </tr>\n",
       "    <tr>\n",
       "      <th>1</th>\n",
       "      <td>C747</td>\n",
       "      <td>94</td>\n",
       "      <td>94</td>\n",
       "      <td>58</td>\n",
       "    </tr>\n",
       "    <tr>\n",
       "      <th>2</th>\n",
       "      <td>C751</td>\n",
       "      <td>74</td>\n",
       "      <td>55</td>\n",
       "      <td>89</td>\n",
       "    </tr>\n",
       "    <tr>\n",
       "      <th>3</th>\n",
       "      <td>B716</td>\n",
       "      <td>63</td>\n",
       "      <td>89</td>\n",
       "      <td>93</td>\n",
       "    </tr>\n",
       "    <tr>\n",
       "      <th>4</th>\n",
       "      <td>A623</td>\n",
       "      <td>90</td>\n",
       "      <td>73</td>\n",
       "      <td>81</td>\n",
       "    </tr>\n",
       "    <tr>\n",
       "      <th>5</th>\n",
       "      <td>B394</td>\n",
       "      <td>76</td>\n",
       "      <td>91</td>\n",
       "      <td>90</td>\n",
       "    </tr>\n",
       "    <tr>\n",
       "      <th>6</th>\n",
       "      <td>A294</td>\n",
       "      <td>90</td>\n",
       "      <td>86</td>\n",
       "      <td>94</td>\n",
       "    </tr>\n",
       "    <tr>\n",
       "      <th>7</th>\n",
       "      <td>B318</td>\n",
       "      <td>62</td>\n",
       "      <td>57</td>\n",
       "      <td>55</td>\n",
       "    </tr>\n",
       "    <tr>\n",
       "      <th>8</th>\n",
       "      <td>B164</td>\n",
       "      <td>79</td>\n",
       "      <td>57</td>\n",
       "      <td>89</td>\n",
       "    </tr>\n",
       "    <tr>\n",
       "      <th>9</th>\n",
       "      <td>A126</td>\n",
       "      <td>89</td>\n",
       "      <td>82</td>\n",
       "      <td>85</td>\n",
       "    </tr>\n",
       "  </tbody>\n",
       "</table>\n",
       "</div>"
      ],
      "text/plain": [
       "  applicantID  eng  math  interview\n",
       "0        A432   91    97         83\n",
       "1        C747   94    94         58\n",
       "2        C751   74    55         89\n",
       "3        B716   63    89         93\n",
       "4        A623   90    73         81\n",
       "5        B394   76    91         90\n",
       "6        A294   90    86         94\n",
       "7        B318   62    57         55\n",
       "8        B164   79    57         89\n",
       "9        A126   89    82         85"
      ]
     },
     "execution_count": 36,
     "metadata": {},
     "output_type": "execute_result"
    }
   ],
   "source": [
    "df"
   ]
  },
  {
   "cell_type": "code",
   "execution_count": 37,
   "id": "eb1dd6b7-f509-405c-8b08-6677e7ce1384",
   "metadata": {},
   "outputs": [
    {
     "data": {
      "text/plain": [
       "0    pass\n",
       "1    pass\n",
       "2    fail\n",
       "3    fail\n",
       "4    pass\n",
       "5    fail\n",
       "6    pass\n",
       "7    fail\n",
       "8    fail\n",
       "9    pass\n",
       "Name: eng, dtype: object"
      ]
     },
     "execution_count": 37,
     "metadata": {},
     "output_type": "execute_result"
    }
   ],
   "source": [
    "df.eng.map(lambda s: 'pass' if s>= 80 else 'fail')"
   ]
  },
  {
   "cell_type": "code",
   "execution_count": 38,
   "id": "fe5ca8c3-fce0-404d-ba13-c04aa6f1a4de",
   "metadata": {},
   "outputs": [
    {
     "data": {
      "text/plain": [
       "0    pass\n",
       "1    pass\n",
       "2    fail\n",
       "3    fail\n",
       "4    fail\n",
       "5    fail\n",
       "6    pass\n",
       "7    fail\n",
       "8    fail\n",
       "9    pass\n",
       "dtype: object"
      ]
     },
     "execution_count": 38,
     "metadata": {},
     "output_type": "execute_result"
    }
   ],
   "source": [
    "df.apply(lambda s: 'pass' if s.eng >= 80 and s.math >=75 else 'fail', axis=1  )"
   ]
  },
  {
   "cell_type": "code",
   "execution_count": 41,
   "id": "52b5d0d6-c392-4d1b-8502-0752bf9364fe",
   "metadata": {},
   "outputs": [
    {
     "data": {
      "text/html": [
       "<div>\n",
       "<style scoped>\n",
       "    .dataframe tbody tr th:only-of-type {\n",
       "        vertical-align: middle;\n",
       "    }\n",
       "\n",
       "    .dataframe tbody tr th {\n",
       "        vertical-align: top;\n",
       "    }\n",
       "\n",
       "    .dataframe thead th {\n",
       "        text-align: right;\n",
       "    }\n",
       "</style>\n",
       "<table border=\"1\" class=\"dataframe\">\n",
       "  <thead>\n",
       "    <tr style=\"text-align: right;\">\n",
       "      <th></th>\n",
       "      <th>applicantID</th>\n",
       "      <th>eng</th>\n",
       "      <th>math</th>\n",
       "      <th>interview</th>\n",
       "      <th>math_eng</th>\n",
       "    </tr>\n",
       "  </thead>\n",
       "  <tbody>\n",
       "    <tr>\n",
       "      <th>0</th>\n",
       "      <td>A432</td>\n",
       "      <td>91</td>\n",
       "      <td>97</td>\n",
       "      <td>83</td>\n",
       "      <td>pass</td>\n",
       "    </tr>\n",
       "    <tr>\n",
       "      <th>1</th>\n",
       "      <td>C747</td>\n",
       "      <td>94</td>\n",
       "      <td>94</td>\n",
       "      <td>58</td>\n",
       "      <td>pass</td>\n",
       "    </tr>\n",
       "    <tr>\n",
       "      <th>2</th>\n",
       "      <td>C751</td>\n",
       "      <td>74</td>\n",
       "      <td>55</td>\n",
       "      <td>89</td>\n",
       "      <td>fail</td>\n",
       "    </tr>\n",
       "    <tr>\n",
       "      <th>3</th>\n",
       "      <td>B716</td>\n",
       "      <td>63</td>\n",
       "      <td>89</td>\n",
       "      <td>93</td>\n",
       "      <td>fail</td>\n",
       "    </tr>\n",
       "    <tr>\n",
       "      <th>4</th>\n",
       "      <td>A623</td>\n",
       "      <td>90</td>\n",
       "      <td>73</td>\n",
       "      <td>81</td>\n",
       "      <td>fail</td>\n",
       "    </tr>\n",
       "    <tr>\n",
       "      <th>5</th>\n",
       "      <td>B394</td>\n",
       "      <td>76</td>\n",
       "      <td>91</td>\n",
       "      <td>90</td>\n",
       "      <td>fail</td>\n",
       "    </tr>\n",
       "    <tr>\n",
       "      <th>6</th>\n",
       "      <td>A294</td>\n",
       "      <td>90</td>\n",
       "      <td>86</td>\n",
       "      <td>94</td>\n",
       "      <td>pass</td>\n",
       "    </tr>\n",
       "    <tr>\n",
       "      <th>7</th>\n",
       "      <td>B318</td>\n",
       "      <td>62</td>\n",
       "      <td>57</td>\n",
       "      <td>55</td>\n",
       "      <td>fail</td>\n",
       "    </tr>\n",
       "    <tr>\n",
       "      <th>8</th>\n",
       "      <td>B164</td>\n",
       "      <td>79</td>\n",
       "      <td>57</td>\n",
       "      <td>89</td>\n",
       "      <td>fail</td>\n",
       "    </tr>\n",
       "    <tr>\n",
       "      <th>9</th>\n",
       "      <td>A126</td>\n",
       "      <td>89</td>\n",
       "      <td>82</td>\n",
       "      <td>85</td>\n",
       "      <td>pass</td>\n",
       "    </tr>\n",
       "  </tbody>\n",
       "</table>\n",
       "</div>"
      ],
      "text/plain": [
       "  applicantID  eng  math  interview math_eng\n",
       "0        A432   91    97         83     pass\n",
       "1        C747   94    94         58     pass\n",
       "2        C751   74    55         89     fail\n",
       "3        B716   63    89         93     fail\n",
       "4        A623   90    73         81     fail\n",
       "5        B394   76    91         90     fail\n",
       "6        A294   90    86         94     pass\n",
       "7        B318   62    57         55     fail\n",
       "8        B164   79    57         89     fail\n",
       "9        A126   89    82         85     pass"
      ]
     },
     "execution_count": 41,
     "metadata": {},
     "output_type": "execute_result"
    }
   ],
   "source": [
    "df['math_eng'] = df.apply(lambda s: 'pass' if s.eng >= 80 and s.math >=75 else 'fail', axis=1  )\n",
    "df"
   ]
  },
  {
   "cell_type": "code",
   "execution_count": 42,
   "id": "d3b14f49-1f1d-4093-a424-892f99753f68",
   "metadata": {},
   "outputs": [
    {
     "data": {
      "text/plain": [
       "0    91.2\n",
       "1    86.8\n",
       "2    71.3\n",
       "3    76.8\n",
       "4    83.1\n",
       "5    83.3\n",
       "6    89.6\n",
       "7    59.1\n",
       "8    74.4\n",
       "9    86.1\n",
       "dtype: float64"
      ]
     },
     "execution_count": 42,
     "metadata": {},
     "output_type": "execute_result"
    }
   ],
   "source": [
    "df.apply(lambda s: s.eng * .5 + s.math * .3 + s.interview *.2 , axis=1)"
   ]
  },
  {
   "cell_type": "code",
   "execution_count": 44,
   "id": "7aa898ef-8da0-4592-bed8-c6e36b897d25",
   "metadata": {},
   "outputs": [
    {
     "data": {
      "text/html": [
       "<div>\n",
       "<style scoped>\n",
       "    .dataframe tbody tr th:only-of-type {\n",
       "        vertical-align: middle;\n",
       "    }\n",
       "\n",
       "    .dataframe tbody tr th {\n",
       "        vertical-align: top;\n",
       "    }\n",
       "\n",
       "    .dataframe thead th {\n",
       "        text-align: right;\n",
       "    }\n",
       "</style>\n",
       "<table border=\"1\" class=\"dataframe\">\n",
       "  <thead>\n",
       "    <tr style=\"text-align: right;\">\n",
       "      <th></th>\n",
       "      <th>applicantID</th>\n",
       "      <th>eng</th>\n",
       "      <th>math</th>\n",
       "      <th>interview</th>\n",
       "      <th>math_eng</th>\n",
       "      <th>score</th>\n",
       "    </tr>\n",
       "  </thead>\n",
       "  <tbody>\n",
       "    <tr>\n",
       "      <th>0</th>\n",
       "      <td>A432</td>\n",
       "      <td>91</td>\n",
       "      <td>97</td>\n",
       "      <td>83</td>\n",
       "      <td>pass</td>\n",
       "      <td>91.2</td>\n",
       "    </tr>\n",
       "    <tr>\n",
       "      <th>1</th>\n",
       "      <td>C747</td>\n",
       "      <td>94</td>\n",
       "      <td>94</td>\n",
       "      <td>58</td>\n",
       "      <td>pass</td>\n",
       "      <td>86.8</td>\n",
       "    </tr>\n",
       "    <tr>\n",
       "      <th>2</th>\n",
       "      <td>C751</td>\n",
       "      <td>74</td>\n",
       "      <td>55</td>\n",
       "      <td>89</td>\n",
       "      <td>fail</td>\n",
       "      <td>71.3</td>\n",
       "    </tr>\n",
       "    <tr>\n",
       "      <th>3</th>\n",
       "      <td>B716</td>\n",
       "      <td>63</td>\n",
       "      <td>89</td>\n",
       "      <td>93</td>\n",
       "      <td>fail</td>\n",
       "      <td>76.8</td>\n",
       "    </tr>\n",
       "    <tr>\n",
       "      <th>4</th>\n",
       "      <td>A623</td>\n",
       "      <td>90</td>\n",
       "      <td>73</td>\n",
       "      <td>81</td>\n",
       "      <td>fail</td>\n",
       "      <td>83.1</td>\n",
       "    </tr>\n",
       "    <tr>\n",
       "      <th>5</th>\n",
       "      <td>B394</td>\n",
       "      <td>76</td>\n",
       "      <td>91</td>\n",
       "      <td>90</td>\n",
       "      <td>fail</td>\n",
       "      <td>83.3</td>\n",
       "    </tr>\n",
       "    <tr>\n",
       "      <th>6</th>\n",
       "      <td>A294</td>\n",
       "      <td>90</td>\n",
       "      <td>86</td>\n",
       "      <td>94</td>\n",
       "      <td>pass</td>\n",
       "      <td>89.6</td>\n",
       "    </tr>\n",
       "    <tr>\n",
       "      <th>7</th>\n",
       "      <td>B318</td>\n",
       "      <td>62</td>\n",
       "      <td>57</td>\n",
       "      <td>55</td>\n",
       "      <td>fail</td>\n",
       "      <td>59.1</td>\n",
       "    </tr>\n",
       "    <tr>\n",
       "      <th>8</th>\n",
       "      <td>B164</td>\n",
       "      <td>79</td>\n",
       "      <td>57</td>\n",
       "      <td>89</td>\n",
       "      <td>fail</td>\n",
       "      <td>74.4</td>\n",
       "    </tr>\n",
       "    <tr>\n",
       "      <th>9</th>\n",
       "      <td>A126</td>\n",
       "      <td>89</td>\n",
       "      <td>82</td>\n",
       "      <td>85</td>\n",
       "      <td>pass</td>\n",
       "      <td>86.1</td>\n",
       "    </tr>\n",
       "  </tbody>\n",
       "</table>\n",
       "</div>"
      ],
      "text/plain": [
       "  applicantID  eng  math  interview math_eng  score\n",
       "0        A432   91    97         83     pass   91.2\n",
       "1        C747   94    94         58     pass   86.8\n",
       "2        C751   74    55         89     fail   71.3\n",
       "3        B716   63    89         93     fail   76.8\n",
       "4        A623   90    73         81     fail   83.1\n",
       "5        B394   76    91         90     fail   83.3\n",
       "6        A294   90    86         94     pass   89.6\n",
       "7        B318   62    57         55     fail   59.1\n",
       "8        B164   79    57         89     fail   74.4\n",
       "9        A126   89    82         85     pass   86.1"
      ]
     },
     "execution_count": 44,
     "metadata": {},
     "output_type": "execute_result"
    }
   ],
   "source": [
    "df['score'] = df.apply(lambda s: s.eng * .5 + s.math * .3 + s.interview *.2 , axis=1)\n",
    "df"
   ]
  },
  {
   "cell_type": "code",
   "execution_count": 45,
   "id": "d2df2ee3-3fa7-4f5c-92ff-94eaf43ff51d",
   "metadata": {},
   "outputs": [
    {
     "name": "stdout",
     "output_type": "stream",
     "text": [
      "567 µs ± 69.3 µs per loop (mean ± std. dev. of 7 runs, 100 loops each)\n"
     ]
    }
   ],
   "source": [
    "%timeit -n100 df['score'] = df.apply(lambda s: s.eng * .5 + s.math * .3 + s.interview *.2 , axis=1)"
   ]
  },
  {
   "cell_type": "code",
   "execution_count": null,
   "id": "3f0c5449-3e29-4b00-8263-566d501df9c1",
   "metadata": {},
   "outputs": [],
   "source": []
  }
 ],
 "metadata": {
  "kernelspec": {
   "display_name": "Python 3 (ipykernel)",
   "language": "python",
   "name": "python3"
  },
  "language_info": {
   "codemirror_mode": {
    "name": "ipython",
    "version": 3
   },
   "file_extension": ".py",
   "mimetype": "text/x-python",
   "name": "python",
   "nbconvert_exporter": "python",
   "pygments_lexer": "ipython3",
   "version": "3.12.1"
  }
 },
 "nbformat": 4,
 "nbformat_minor": 5
}
